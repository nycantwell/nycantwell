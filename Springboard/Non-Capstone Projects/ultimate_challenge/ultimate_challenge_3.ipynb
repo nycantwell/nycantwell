{
 "cells": [
  {
   "cell_type": "code",
   "execution_count": 96,
   "metadata": {},
   "outputs": [],
   "source": [
    "import pandas as pd\n",
    "from datetime import datetime, timedelta\n",
    "\n",
    "logins = pd.read_json('logins.json')\n",
    "ult_data_challenge = pd.read_json('ultimate_data_challenge.json')"
   ]
  },
  {
   "cell_type": "code",
   "execution_count": 97,
   "metadata": {},
   "outputs": [
    {
     "data": {
      "text/html": [
       "<div>\n",
       "<style scoped>\n",
       "    .dataframe tbody tr th:only-of-type {\n",
       "        vertical-align: middle;\n",
       "    }\n",
       "\n",
       "    .dataframe tbody tr th {\n",
       "        vertical-align: top;\n",
       "    }\n",
       "\n",
       "    .dataframe thead th {\n",
       "        text-align: right;\n",
       "    }\n",
       "</style>\n",
       "<table border=\"1\" class=\"dataframe\">\n",
       "  <thead>\n",
       "    <tr style=\"text-align: right;\">\n",
       "      <th></th>\n",
       "      <th>city</th>\n",
       "      <th>trips_in_first_30_days</th>\n",
       "      <th>signup_date</th>\n",
       "      <th>avg_rating_of_driver</th>\n",
       "      <th>avg_surge</th>\n",
       "      <th>last_trip_date</th>\n",
       "      <th>phone</th>\n",
       "      <th>surge_pct</th>\n",
       "      <th>ultimate_black_user</th>\n",
       "      <th>weekday_pct</th>\n",
       "      <th>avg_dist</th>\n",
       "      <th>avg_rating_by_driver</th>\n",
       "    </tr>\n",
       "  </thead>\n",
       "  <tbody>\n",
       "    <tr>\n",
       "      <th>0</th>\n",
       "      <td>King's Landing</td>\n",
       "      <td>4</td>\n",
       "      <td>2014-01-25</td>\n",
       "      <td>4.7</td>\n",
       "      <td>1.10</td>\n",
       "      <td>2014-06-17</td>\n",
       "      <td>iPhone</td>\n",
       "      <td>15.4</td>\n",
       "      <td>True</td>\n",
       "      <td>46.2</td>\n",
       "      <td>3.67</td>\n",
       "      <td>5.0</td>\n",
       "    </tr>\n",
       "    <tr>\n",
       "      <th>1</th>\n",
       "      <td>Astapor</td>\n",
       "      <td>0</td>\n",
       "      <td>2014-01-29</td>\n",
       "      <td>5.0</td>\n",
       "      <td>1.00</td>\n",
       "      <td>2014-05-05</td>\n",
       "      <td>Android</td>\n",
       "      <td>0.0</td>\n",
       "      <td>False</td>\n",
       "      <td>50.0</td>\n",
       "      <td>8.26</td>\n",
       "      <td>5.0</td>\n",
       "    </tr>\n",
       "    <tr>\n",
       "      <th>2</th>\n",
       "      <td>Astapor</td>\n",
       "      <td>3</td>\n",
       "      <td>2014-01-06</td>\n",
       "      <td>4.3</td>\n",
       "      <td>1.00</td>\n",
       "      <td>2014-01-07</td>\n",
       "      <td>iPhone</td>\n",
       "      <td>0.0</td>\n",
       "      <td>False</td>\n",
       "      <td>100.0</td>\n",
       "      <td>0.77</td>\n",
       "      <td>5.0</td>\n",
       "    </tr>\n",
       "    <tr>\n",
       "      <th>3</th>\n",
       "      <td>King's Landing</td>\n",
       "      <td>9</td>\n",
       "      <td>2014-01-10</td>\n",
       "      <td>4.6</td>\n",
       "      <td>1.14</td>\n",
       "      <td>2014-06-29</td>\n",
       "      <td>iPhone</td>\n",
       "      <td>20.0</td>\n",
       "      <td>True</td>\n",
       "      <td>80.0</td>\n",
       "      <td>2.36</td>\n",
       "      <td>4.9</td>\n",
       "    </tr>\n",
       "    <tr>\n",
       "      <th>4</th>\n",
       "      <td>Winterfell</td>\n",
       "      <td>14</td>\n",
       "      <td>2014-01-27</td>\n",
       "      <td>4.4</td>\n",
       "      <td>1.19</td>\n",
       "      <td>2014-03-15</td>\n",
       "      <td>Android</td>\n",
       "      <td>11.8</td>\n",
       "      <td>False</td>\n",
       "      <td>82.4</td>\n",
       "      <td>3.13</td>\n",
       "      <td>4.9</td>\n",
       "    </tr>\n",
       "  </tbody>\n",
       "</table>\n",
       "</div>"
      ],
      "text/plain": [
       "             city  trips_in_first_30_days signup_date  avg_rating_of_driver  \\\n",
       "0  King's Landing                       4  2014-01-25                   4.7   \n",
       "1         Astapor                       0  2014-01-29                   5.0   \n",
       "2         Astapor                       3  2014-01-06                   4.3   \n",
       "3  King's Landing                       9  2014-01-10                   4.6   \n",
       "4      Winterfell                      14  2014-01-27                   4.4   \n",
       "\n",
       "   avg_surge last_trip_date    phone  surge_pct  ultimate_black_user  \\\n",
       "0       1.10     2014-06-17   iPhone       15.4                 True   \n",
       "1       1.00     2014-05-05  Android        0.0                False   \n",
       "2       1.00     2014-01-07   iPhone        0.0                False   \n",
       "3       1.14     2014-06-29   iPhone       20.0                 True   \n",
       "4       1.19     2014-03-15  Android       11.8                False   \n",
       "\n",
       "   weekday_pct  avg_dist  avg_rating_by_driver  \n",
       "0         46.2      3.67                   5.0  \n",
       "1         50.0      8.26                   5.0  \n",
       "2        100.0      0.77                   5.0  \n",
       "3         80.0      2.36                   4.9  \n",
       "4         82.4      3.13                   4.9  "
      ]
     },
     "execution_count": 97,
     "metadata": {},
     "output_type": "execute_result"
    }
   ],
   "source": [
    "ult_data_challenge.head()"
   ]
  },
  {
   "cell_type": "code",
   "execution_count": 98,
   "metadata": {},
   "outputs": [
    {
     "data": {
      "text/plain": [
       "city                         0\n",
       "trips_in_first_30_days       0\n",
       "signup_date                  0\n",
       "avg_rating_of_driver      8122\n",
       "avg_surge                    0\n",
       "last_trip_date               0\n",
       "phone                      396\n",
       "surge_pct                    0\n",
       "ultimate_black_user          0\n",
       "weekday_pct                  0\n",
       "avg_dist                     0\n",
       "avg_rating_by_driver       201\n",
       "dtype: int64"
      ]
     },
     "execution_count": 98,
     "metadata": {},
     "output_type": "execute_result"
    }
   ],
   "source": [
    "ult_data_challenge.isna().sum()"
   ]
  },
  {
   "cell_type": "code",
   "execution_count": 99,
   "metadata": {},
   "outputs": [],
   "source": [
    "# Imputing mean and most common values for NaN's\n",
    "# https://stackoverflow.com/questions/32617811/imputation-of-missing-values-for-categories-in-pandas\n",
    "ult_data_challenge.avg_rating_of_driver.fillna(ult_data_challenge.avg_rating_of_driver.mean(), inplace=True)\n",
    "ult_data_challenge.avg_rating_by_driver.fillna(ult_data_challenge.avg_rating_by_driver.mean(), inplace=True)\n",
    "ult_data_challenge.phone.fillna(ult_data_challenge.phone.value_counts().index[0], inplace=True)"
   ]
  },
  {
   "cell_type": "code",
   "execution_count": 100,
   "metadata": {},
   "outputs": [
    {
     "data": {
      "text/plain": [
       "<AxesSubplot:ylabel='retained_user'>"
      ]
     },
     "execution_count": 100,
     "metadata": {},
     "output_type": "execute_result"
    },
    {
     "data": {
      "image/png": "[encoded data removed]",
      "text/plain": [
       "<Figure size 432x288 with 1 Axes>"
      ]
     },
     "metadata": {},
     "output_type": "display_data"
    }
   ],
   "source": [
    "# convert columns to pandas datetime type\n",
    "ult_data_challenge.signup_date = pd.to_datetime(ult_data_challenge.signup_date)\n",
    "ult_data_challenge.last_trip_date = pd.to_datetime(ult_data_challenge.last_trip_date)\n",
    "\n",
    "# determine threshold for \"active and retained\" user definition\n",
    "current_date = max(ult_data_challenge.last_trip_date)\n",
    "active_period = timedelta(days=30)  \n",
    "active_threshold = current_date - active_period\n",
    "\n",
    "# label users as retained 1/0\n",
    "ult_data_challenge['retained_user'] = (ult_data_challenge.last_trip_date > active_threshold)\n",
    "ult_data_challenge.retained_user.value_counts().plot(kind='pie')"
   ]
  },
  {
   "cell_type": "code",
   "execution_count": 101,
   "metadata": {},
   "outputs": [
    {
     "data": {
      "text/plain": [
       "<AxesSubplot:ylabel='ultimate_black_user'>"
      ]
     },
     "execution_count": 101,
     "metadata": {},
     "output_type": "execute_result"
    },
    {
     "data": {
      "image/png": "[encoded data removed]",
      "text/plain": [
       "<Figure size 432x288 with 1 Axes>"
      ]
     },
     "metadata": {},
     "output_type": "display_data"
    }
   ],
   "source": [
    "ult_data_challenge.ultimate_black_user.value_counts().plot(kind='pie')"
   ]
  },
  {
   "cell_type": "code",
   "execution_count": 102,
   "metadata": {},
   "outputs": [
    {
     "data": {
      "text/plain": [
       "retained_user  ultimate_black_user\n",
       "False          False                  22195\n",
       "               True                    9495\n",
       "True           False                   8951\n",
       "               True                    9359\n",
       "dtype: int64"
      ]
     },
     "execution_count": 102,
     "metadata": {},
     "output_type": "execute_result"
    }
   ],
   "source": [
    "ult_data_challenge.groupby(['retained_user','ultimate_black_user']).size()"
   ]
  },
  {
   "cell_type": "code",
   "execution_count": 103,
   "metadata": {},
   "outputs": [
    {
     "data": {
      "text/plain": [
       "<AxesSubplot:ylabel='None'>"
      ]
     },
     "execution_count": 103,
     "metadata": {},
     "output_type": "execute_result"
    },
    {
     "data": {
      "image/png": "[encoded data removed]",
      "text/plain": [
       "<Figure size 432x288 with 1 Axes>"
      ]
     },
     "metadata": {},
     "output_type": "display_data"
    }
   ],
   "source": [
    "ult_data_challenge.groupby(['retained_user','ultimate_black_user']).size().plot(kind='pie')"
   ]
  },
  {
   "cell_type": "code",
   "execution_count": 104,
   "metadata": {},
   "outputs": [
    {
     "data": {
      "text/plain": [
       "<AxesSubplot:ylabel='Frequency'>"
      ]
     },
     "execution_count": 104,
     "metadata": {},
     "output_type": "execute_result"
    },
    {
     "data": {
      "image/png": "[encoded data removed]",
      "text/plain": [
       "<Figure size 432x288 with 1 Axes>"
      ]
     },
     "metadata": {
      "needs_background": "light"
     },
     "output_type": "display_data"
    }
   ],
   "source": [
    "ult_data_challenge.trips_in_first_30_days.plot(kind='hist')"
   ]
  },
  {
   "cell_type": "code",
   "execution_count": 105,
   "metadata": {},
   "outputs": [
    {
     "data": {
      "text/plain": [
       "0        4.700000\n",
       "1        5.000000\n",
       "2        4.300000\n",
       "3        4.600000\n",
       "4        4.400000\n",
       "           ...   \n",
       "49995    5.000000\n",
       "49996    4.601559\n",
       "49997    5.000000\n",
       "49998    3.000000\n",
       "49999    4.601559\n",
       "Name: avg_rating_of_driver, Length: 50000, dtype: float64"
      ]
     },
     "execution_count": 105,
     "metadata": {},
     "output_type": "execute_result"
    }
   ],
   "source": [
    "ult_data_challenge.avg_rating_of_driver"
   ]
  },
  {
   "cell_type": "code",
   "execution_count": 106,
   "metadata": {},
   "outputs": [
    {
     "data": {
      "text/plain": [
       "<AxesSubplot:ylabel='Frequency'>"
      ]
     },
     "execution_count": 106,
     "metadata": {},
     "output_type": "execute_result"
    },
    {
     "data": {
      "image/png": "[encoded data removed]",
      "text/plain": [
       "<Figure size 432x288 with 1 Axes>"
      ]
     },
     "metadata": {
      "needs_background": "light"
     },
     "output_type": "display_data"
    }
   ],
   "source": [
    "ult_data_challenge.avg_rating_of_driver.plot(kind='hist')"
   ]
  },
  {
   "cell_type": "code",
   "execution_count": 107,
   "metadata": {},
   "outputs": [
    {
     "data": {
      "text/plain": [
       "<AxesSubplot:ylabel='Frequency'>"
      ]
     },
     "execution_count": 107,
     "metadata": {},
     "output_type": "execute_result"
    },
    {
     "data": {
      "image/png": "[encoded data removed]",
      "text/plain": [
       "<Figure size 432x288 with 1 Axes>"
      ]
     },
     "metadata": {
      "needs_background": "light"
     },
     "output_type": "display_data"
    }
   ],
   "source": [
    "ult_data_challenge.avg_surge.plot(kind='hist')"
   ]
  },
  {
   "cell_type": "code",
   "execution_count": 108,
   "metadata": {},
   "outputs": [
    {
     "data": {
      "text/plain": [
       "<AxesSubplot:ylabel='Frequency'>"
      ]
     },
     "execution_count": 108,
     "metadata": {},
     "output_type": "execute_result"
    },
    {
     "data": {
      "image/png": "[encoded data removed]",
      "text/plain": [
       "<Figure size 432x288 with 1 Axes>"
      ]
     },
     "metadata": {
      "needs_background": "light"
     },
     "output_type": "display_data"
    }
   ],
   "source": [
    "ult_data_challenge.avg_dist.plot(kind='hist')"
   ]
  },
  {
   "cell_type": "code",
   "execution_count": 109,
   "metadata": {},
   "outputs": [
    {
     "data": {
      "text/html": [
       "<div>\n",
       "<style scoped>\n",
       "    .dataframe tbody tr th:only-of-type {\n",
       "        vertical-align: middle;\n",
       "    }\n",
       "\n",
       "    .dataframe tbody tr th {\n",
       "        vertical-align: top;\n",
       "    }\n",
       "\n",
       "    .dataframe thead th {\n",
       "        text-align: right;\n",
       "    }\n",
       "</style>\n",
       "<table border=\"1\" class=\"dataframe\">\n",
       "  <thead>\n",
       "    <tr style=\"text-align: right;\">\n",
       "      <th></th>\n",
       "      <th>city</th>\n",
       "      <th>trips_in_first_30_days</th>\n",
       "      <th>signup_date</th>\n",
       "      <th>avg_rating_of_driver</th>\n",
       "      <th>avg_surge</th>\n",
       "      <th>last_trip_date</th>\n",
       "      <th>phone</th>\n",
       "      <th>surge_pct</th>\n",
       "      <th>ultimate_black_user</th>\n",
       "      <th>weekday_pct</th>\n",
       "      <th>avg_dist</th>\n",
       "      <th>avg_rating_by_driver</th>\n",
       "      <th>retained_user</th>\n",
       "    </tr>\n",
       "  </thead>\n",
       "  <tbody>\n",
       "    <tr>\n",
       "      <th>0</th>\n",
       "      <td>King's Landing</td>\n",
       "      <td>4</td>\n",
       "      <td>2014-01-25</td>\n",
       "      <td>4.7</td>\n",
       "      <td>1.10</td>\n",
       "      <td>2014-06-17</td>\n",
       "      <td>iPhone</td>\n",
       "      <td>15.4</td>\n",
       "      <td>True</td>\n",
       "      <td>46.2</td>\n",
       "      <td>3.67</td>\n",
       "      <td>5.0</td>\n",
       "      <td>True</td>\n",
       "    </tr>\n",
       "    <tr>\n",
       "      <th>1</th>\n",
       "      <td>Astapor</td>\n",
       "      <td>0</td>\n",
       "      <td>2014-01-29</td>\n",
       "      <td>5.0</td>\n",
       "      <td>1.00</td>\n",
       "      <td>2014-05-05</td>\n",
       "      <td>Android</td>\n",
       "      <td>0.0</td>\n",
       "      <td>False</td>\n",
       "      <td>50.0</td>\n",
       "      <td>8.26</td>\n",
       "      <td>5.0</td>\n",
       "      <td>False</td>\n",
       "    </tr>\n",
       "    <tr>\n",
       "      <th>2</th>\n",
       "      <td>Astapor</td>\n",
       "      <td>3</td>\n",
       "      <td>2014-01-06</td>\n",
       "      <td>4.3</td>\n",
       "      <td>1.00</td>\n",
       "      <td>2014-01-07</td>\n",
       "      <td>iPhone</td>\n",
       "      <td>0.0</td>\n",
       "      <td>False</td>\n",
       "      <td>100.0</td>\n",
       "      <td>0.77</td>\n",
       "      <td>5.0</td>\n",
       "      <td>False</td>\n",
       "    </tr>\n",
       "    <tr>\n",
       "      <th>3</th>\n",
       "      <td>King's Landing</td>\n",
       "      <td>9</td>\n",
       "      <td>2014-01-10</td>\n",
       "      <td>4.6</td>\n",
       "      <td>1.14</td>\n",
       "      <td>2014-06-29</td>\n",
       "      <td>iPhone</td>\n",
       "      <td>20.0</td>\n",
       "      <td>True</td>\n",
       "      <td>80.0</td>\n",
       "      <td>2.36</td>\n",
       "      <td>4.9</td>\n",
       "      <td>True</td>\n",
       "    </tr>\n",
       "    <tr>\n",
       "      <th>4</th>\n",
       "      <td>Winterfell</td>\n",
       "      <td>14</td>\n",
       "      <td>2014-01-27</td>\n",
       "      <td>4.4</td>\n",
       "      <td>1.19</td>\n",
       "      <td>2014-03-15</td>\n",
       "      <td>Android</td>\n",
       "      <td>11.8</td>\n",
       "      <td>False</td>\n",
       "      <td>82.4</td>\n",
       "      <td>3.13</td>\n",
       "      <td>4.9</td>\n",
       "      <td>False</td>\n",
       "    </tr>\n",
       "  </tbody>\n",
       "</table>\n",
       "</div>"
      ],
      "text/plain": [
       "             city  trips_in_first_30_days signup_date  avg_rating_of_driver  \\\n",
       "0  King's Landing                       4  2014-01-25                   4.7   \n",
       "1         Astapor                       0  2014-01-29                   5.0   \n",
       "2         Astapor                       3  2014-01-06                   4.3   \n",
       "3  King's Landing                       9  2014-01-10                   4.6   \n",
       "4      Winterfell                      14  2014-01-27                   4.4   \n",
       "\n",
       "   avg_surge last_trip_date    phone  surge_pct  ultimate_black_user  \\\n",
       "0       1.10     2014-06-17   iPhone       15.4                 True   \n",
       "1       1.00     2014-05-05  Android        0.0                False   \n",
       "2       1.00     2014-01-07   iPhone        0.0                False   \n",
       "3       1.14     2014-06-29   iPhone       20.0                 True   \n",
       "4       1.19     2014-03-15  Android       11.8                False   \n",
       "\n",
       "   weekday_pct  avg_dist  avg_rating_by_driver  retained_user  \n",
       "0         46.2      3.67                   5.0           True  \n",
       "1         50.0      8.26                   5.0          False  \n",
       "2        100.0      0.77                   5.0          False  \n",
       "3         80.0      2.36                   4.9           True  \n",
       "4         82.4      3.13                   4.9          False  "
      ]
     },
     "execution_count": 109,
     "metadata": {},
     "output_type": "execute_result"
    }
   ],
   "source": [
    "# Feature Engineering for adopted_user classification model:\n",
    "# 'city' has 3 categories, target encode after split                            DONE\n",
    "# 'phone' has 2 categories, target encode after split                           DONE\n",
    "# 'signup_date' is datetime, convert to unix and min/max scale                  DONE\n",
    "# 'avg_rating_of_driver' left skewed, log transform, min/max scale              DONE\n",
    "# 'avg_rating_by_driver' left skewed, log transform, min/max scale              DONE\n",
    "# 'trips_in_first_30_days' right skewed, log transform, min/max scale           DONE\n",
    "# 'surge_pct' right skewed, log transform, min/max scale                        DONE\n",
    "# 'avg_surge' right skewed, log transform, min/max scale                        DONE\n",
    "# 'avg_dist' right skewed, log transform, min/max scale                         DONE\n",
    "# 'ultimate_black_user' T/F, convert to 1/0                                     DONE\n",
    "# 'weekday_pct' min/max scale                                                   DONE\n",
    "# 'last_trip_date' is used to determine the target variable, cannot be used     DONE\n",
    "# 'retained_user' target variable T/F, convert to 1/0                           DONE\n",
    "\n",
    "ult_data_challenge.head()"
   ]
  },
  {
   "cell_type": "code",
   "execution_count": 110,
   "metadata": {},
   "outputs": [],
   "source": [
    "# Convert T/F to 1/0\n",
    "ult_data_challenge.ultimate_black_user = ult_data_challenge.ultimate_black_user.astype(int)\n",
    "ult_data_challenge.retained_user = ult_data_challenge.retained_user.astype(int)\n",
    "\n",
    "# Log transform of 6 columns listed above\n",
    "from sklearn.preprocessing import PowerTransformer\n",
    "features = ult_data_challenge[['avg_rating_of_driver', 'avg_rating_by_driver', \\\n",
    "                               'trips_in_first_30_days', 'surge_pct', 'avg_surge', 'avg_dist']]\n",
    "log = PowerTransformer()\n",
    "log.fit(features)\n",
    "ult_data_challenge[['log_avg_rating_of_driver', 'log_avg_rating_by_driver', 'log_trips_in_first_30_days', \\\n",
    "                    'log_surge_pct', 'log_avg_surge', 'log_avg_dist']] = (log.transform(features))"
   ]
  },
  {
   "cell_type": "code",
   "execution_count": 111,
   "metadata": {},
   "outputs": [],
   "source": [
    "from sklearn.preprocessing import MinMaxScaler\n",
    "scaler = MinMaxScaler()\n",
    "import datetime\n",
    "import time\n",
    "\n",
    "# New column, signup date as unix integer timestamp\n",
    "ult_data_challenge['signup_date_unix'] = [time.mktime(x.timetuple()) for x in ult_data_challenge.signup_date]\n",
    "\n",
    "# Min/Max scale 8 columns listed above\n",
    "features = ult_data_challenge[['log_avg_rating_of_driver', 'log_avg_rating_by_driver', 'log_trips_in_first_30_days', \\\n",
    "                    'log_surge_pct', 'log_avg_surge', 'log_avg_dist', 'signup_date_unix', 'weekday_pct']]\n",
    "ult_data_challenge[['scale_log_avg_rating_of_driver', 'scale_log_avg_rating_by_driver', 'scale_log_trips_in_first_30_days', \\\n",
    "                    'scale_log_surge_pct', 'scale_log_avg_surge', 'scale_log_avg_dist', 'scale_signup_date_unix', 'scale_weekday_pct']] \\\n",
    "                    = scaler.fit_transform(features)"
   ]
  },
  {
   "cell_type": "code",
   "execution_count": 112,
   "metadata": {},
   "outputs": [
    {
     "data": {
      "text/html": [
       "<div>\n",
       "<style scoped>\n",
       "    .dataframe tbody tr th:only-of-type {\n",
       "        vertical-align: middle;\n",
       "    }\n",
       "\n",
       "    .dataframe tbody tr th {\n",
       "        vertical-align: top;\n",
       "    }\n",
       "\n",
       "    .dataframe thead th {\n",
       "        text-align: right;\n",
       "    }\n",
       "</style>\n",
       "<table border=\"1\" class=\"dataframe\">\n",
       "  <thead>\n",
       "    <tr style=\"text-align: right;\">\n",
       "      <th></th>\n",
       "      <th>city</th>\n",
       "      <th>phone</th>\n",
       "      <th>ultimate_black_user</th>\n",
       "      <th>scale_log_avg_rating_of_driver</th>\n",
       "      <th>scale_log_avg_rating_by_driver</th>\n",
       "      <th>scale_log_trips_in_first_30_days</th>\n",
       "      <th>scale_log_surge_pct</th>\n",
       "      <th>scale_log_avg_surge</th>\n",
       "      <th>scale_log_avg_dist</th>\n",
       "      <th>scale_signup_date_unix</th>\n",
       "      <th>scale_weekday_pct</th>\n",
       "    </tr>\n",
       "  </thead>\n",
       "  <tbody>\n",
       "    <tr>\n",
       "      <th>29416</th>\n",
       "      <td>0.343472</td>\n",
       "      <td>0.440002</td>\n",
       "      <td>1</td>\n",
       "      <td>0.754782</td>\n",
       "      <td>0.436639</td>\n",
       "      <td>0.764776</td>\n",
       "      <td>0.849106</td>\n",
       "      <td>0.439286</td>\n",
       "      <td>0.503986</td>\n",
       "      <td>0.133333</td>\n",
       "      <td>0.494</td>\n",
       "    </tr>\n",
       "    <tr>\n",
       "      <th>11566</th>\n",
       "      <td>0.343472</td>\n",
       "      <td>0.195787</td>\n",
       "      <td>0</td>\n",
       "      <td>0.001684</td>\n",
       "      <td>0.134784</td>\n",
       "      <td>0.572269</td>\n",
       "      <td>0.000000</td>\n",
       "      <td>0.000000</td>\n",
       "      <td>0.294993</td>\n",
       "      <td>0.300000</td>\n",
       "      <td>0.500</td>\n",
       "    </tr>\n",
       "    <tr>\n",
       "      <th>8560</th>\n",
       "      <td>0.343472</td>\n",
       "      <td>0.440002</td>\n",
       "      <td>0</td>\n",
       "      <td>1.000000</td>\n",
       "      <td>1.000000</td>\n",
       "      <td>0.514640</td>\n",
       "      <td>0.840318</td>\n",
       "      <td>0.207953</td>\n",
       "      <td>0.600005</td>\n",
       "      <td>0.866667</td>\n",
       "      <td>0.500</td>\n",
       "    </tr>\n",
       "    <tr>\n",
       "      <th>46411</th>\n",
       "      <td>0.624113</td>\n",
       "      <td>0.440002</td>\n",
       "      <td>0</td>\n",
       "      <td>0.565396</td>\n",
       "      <td>1.000000</td>\n",
       "      <td>0.295631</td>\n",
       "      <td>0.000000</td>\n",
       "      <td>0.000000</td>\n",
       "      <td>0.850780</td>\n",
       "      <td>0.566667</td>\n",
       "      <td>0.000</td>\n",
       "    </tr>\n",
       "    <tr>\n",
       "      <th>43483</th>\n",
       "      <td>0.343472</td>\n",
       "      <td>0.440002</td>\n",
       "      <td>1</td>\n",
       "      <td>1.000000</td>\n",
       "      <td>1.000000</td>\n",
       "      <td>0.295631</td>\n",
       "      <td>0.000000</td>\n",
       "      <td>0.000000</td>\n",
       "      <td>0.205600</td>\n",
       "      <td>0.733333</td>\n",
       "      <td>0.000</td>\n",
       "    </tr>\n",
       "  </tbody>\n",
       "</table>\n",
       "</div>"
      ],
      "text/plain": [
       "           city     phone  ultimate_black_user  \\\n",
       "29416  0.343472  0.440002                    1   \n",
       "11566  0.343472  0.195787                    0   \n",
       "8560   0.343472  0.440002                    0   \n",
       "46411  0.624113  0.440002                    0   \n",
       "43483  0.343472  0.440002                    1   \n",
       "\n",
       "       scale_log_avg_rating_of_driver  scale_log_avg_rating_by_driver  \\\n",
       "29416                        0.754782                        0.436639   \n",
       "11566                        0.001684                        0.134784   \n",
       "8560                         1.000000                        1.000000   \n",
       "46411                        0.565396                        1.000000   \n",
       "43483                        1.000000                        1.000000   \n",
       "\n",
       "       scale_log_trips_in_first_30_days  scale_log_surge_pct  \\\n",
       "29416                          0.764776             0.849106   \n",
       "11566                          0.572269             0.000000   \n",
       "8560                           0.514640             0.840318   \n",
       "46411                          0.295631             0.000000   \n",
       "43483                          0.295631             0.000000   \n",
       "\n",
       "       scale_log_avg_surge  scale_log_avg_dist  scale_signup_date_unix  \\\n",
       "29416             0.439286            0.503986                0.133333   \n",
       "11566             0.000000            0.294993                0.300000   \n",
       "8560              0.207953            0.600005                0.866667   \n",
       "46411             0.000000            0.850780                0.566667   \n",
       "43483             0.000000            0.205600                0.733333   \n",
       "\n",
       "       scale_weekday_pct  \n",
       "29416              0.494  \n",
       "11566              0.500  \n",
       "8560               0.500  \n",
       "46411              0.000  \n",
       "43483              0.000  "
      ]
     },
     "execution_count": 112,
     "metadata": {},
     "output_type": "execute_result"
    }
   ],
   "source": [
    "from imblearn.over_sampling import SMOTE\n",
    "from collections import Counter\n",
    "import category_encoders as ce\n",
    "from sklearn.model_selection import train_test_split\n",
    "from sklearn.metrics import confusion_matrix\n",
    "from sklearn import metrics\n",
    "\n",
    "# Perform train/test split with final features\n",
    "X = ult_data_challenge[['city', 'phone', 'ultimate_black_user',\n",
    "       'scale_log_avg_rating_of_driver', 'scale_log_avg_rating_by_driver',\n",
    "       'scale_log_trips_in_first_30_days', 'scale_log_surge_pct',\n",
    "       'scale_log_avg_surge', 'scale_log_avg_dist', 'scale_signup_date_unix',\n",
    "       'scale_weekday_pct']]\n",
    "y = ult_data_challenge['retained_user']\n",
    "\n",
    "X_train, X_test, y_train, y_test = train_test_split(X, y, train_size=0.7, shuffle=True)\n",
    "\n",
    "# Target encoding for two categorical features\n",
    "tar_enc = ce.TargetEncoder(cols=['city', 'phone'],\n",
    "       min_samples_leaf=5, smoothing=3).fit(X_train, y_train)\n",
    "X_train = tar_enc.transform(X_train)\n",
    "X_test = tar_enc.transform(X_test)\n",
    "\n",
    "X_train.head()"
   ]
  },
  {
   "cell_type": "code",
   "execution_count": 83,
   "metadata": {},
   "outputs": [
    {
     "name": "stdout",
     "output_type": "stream",
     "text": [
      "Before Counter({0: 22174, 1: 12826})\n",
      "After Counter({0: 22174, 1: 22174})\n"
     ]
    }
   ],
   "source": [
    "counter = Counter(y_train)\n",
    "print('Before', counter)\n",
    "smt = SMOTE()\n",
    "X_train_smt, y_train_smt = smt.fit_resample(X_train, y_train)\n",
    "counter = Counter(y_train_smt)\n",
    "print('After', counter)"
   ]
  },
  {
   "cell_type": "code",
   "execution_count": 84,
   "metadata": {},
   "outputs": [
    {
     "name": "stdout",
     "output_type": "stream",
     "text": [
      "RandomForestClassifier(max_features=3, n_estimators=70)\n"
     ]
    }
   ],
   "source": [
    "from sklearn.ensemble import RandomForestClassifier\n",
    "from sklearn.model_selection import GridSearchCV\n",
    "\n",
    "# Grid Search from: https://stackoverflow.com/questions/38151615/specific-cross-validation-with-random-forest\n",
    "clf = RandomForestClassifier()  \n",
    "param_grid = {'n_estimators': [10,30,50,70,100], 'max_depth': [None], 'max_features': [3,6,9,None],\n",
    "    'min_samples_leaf': [1,2,3]}\n",
    "\n",
    "grid_clf = GridSearchCV(clf, param_grid, cv=5)\n",
    "grid_clf.fit(X_train_smt, y_train_smt)\n",
    "\n",
    "print(grid_clf.best_estimator_)"
   ]
  },
  {
   "cell_type": "code",
   "execution_count": 86,
   "metadata": {},
   "outputs": [
    {
     "data": {
      "text/html": [
       "<div>\n",
       "<style scoped>\n",
       "    .dataframe tbody tr th:only-of-type {\n",
       "        vertical-align: middle;\n",
       "    }\n",
       "\n",
       "    .dataframe tbody tr th {\n",
       "        vertical-align: top;\n",
       "    }\n",
       "\n",
       "    .dataframe thead th {\n",
       "        text-align: right;\n",
       "    }\n",
       "</style>\n",
       "<table border=\"1\" class=\"dataframe\">\n",
       "  <thead>\n",
       "    <tr style=\"text-align: right;\">\n",
       "      <th></th>\n",
       "      <th>mean_fit_time</th>\n",
       "      <th>std_fit_time</th>\n",
       "      <th>mean_score_time</th>\n",
       "      <th>std_score_time</th>\n",
       "      <th>param_max_depth</th>\n",
       "      <th>param_max_features</th>\n",
       "      <th>param_min_samples_leaf</th>\n",
       "      <th>param_n_estimators</th>\n",
       "      <th>params</th>\n",
       "      <th>split0_test_score</th>\n",
       "      <th>split1_test_score</th>\n",
       "      <th>split2_test_score</th>\n",
       "      <th>split3_test_score</th>\n",
       "      <th>split4_test_score</th>\n",
       "      <th>mean_test_score</th>\n",
       "      <th>std_test_score</th>\n",
       "      <th>rank_test_score</th>\n",
       "    </tr>\n",
       "  </thead>\n",
       "  <tbody>\n",
       "    <tr>\n",
       "      <th>3</th>\n",
       "      <td>4.181096</td>\n",
       "      <td>0.177925</td>\n",
       "      <td>0.179513</td>\n",
       "      <td>0.018506</td>\n",
       "      <td>None</td>\n",
       "      <td>3</td>\n",
       "      <td>1</td>\n",
       "      <td>70</td>\n",
       "      <td>{'max_depth': None, 'max_features': 3, 'min_sa...</td>\n",
       "      <td>0.779594</td>\n",
       "      <td>0.772153</td>\n",
       "      <td>0.793236</td>\n",
       "      <td>0.880257</td>\n",
       "      <td>0.881159</td>\n",
       "      <td>0.821280</td>\n",
       "      <td>0.048993</td>\n",
       "      <td>1</td>\n",
       "    </tr>\n",
       "    <tr>\n",
       "      <th>4</th>\n",
       "      <td>5.573105</td>\n",
       "      <td>0.280138</td>\n",
       "      <td>0.254175</td>\n",
       "      <td>0.027356</td>\n",
       "      <td>None</td>\n",
       "      <td>3</td>\n",
       "      <td>1</td>\n",
       "      <td>100</td>\n",
       "      <td>{'max_depth': None, 'max_features': 3, 'min_sa...</td>\n",
       "      <td>0.780271</td>\n",
       "      <td>0.771139</td>\n",
       "      <td>0.790643</td>\n",
       "      <td>0.880257</td>\n",
       "      <td>0.882174</td>\n",
       "      <td>0.820897</td>\n",
       "      <td>0.049639</td>\n",
       "      <td>2</td>\n",
       "    </tr>\n",
       "    <tr>\n",
       "      <th>9</th>\n",
       "      <td>5.133713</td>\n",
       "      <td>0.635465</td>\n",
       "      <td>0.213016</td>\n",
       "      <td>0.016208</td>\n",
       "      <td>None</td>\n",
       "      <td>3</td>\n",
       "      <td>2</td>\n",
       "      <td>100</td>\n",
       "      <td>{'max_depth': None, 'max_features': 3, 'min_sa...</td>\n",
       "      <td>0.781172</td>\n",
       "      <td>0.777339</td>\n",
       "      <td>0.793461</td>\n",
       "      <td>0.875070</td>\n",
       "      <td>0.874394</td>\n",
       "      <td>0.820287</td>\n",
       "      <td>0.044772</td>\n",
       "      <td>3</td>\n",
       "    </tr>\n",
       "    <tr>\n",
       "      <th>2</th>\n",
       "      <td>3.718589</td>\n",
       "      <td>0.782842</td>\n",
       "      <td>0.191722</td>\n",
       "      <td>0.099723</td>\n",
       "      <td>None</td>\n",
       "      <td>3</td>\n",
       "      <td>1</td>\n",
       "      <td>50</td>\n",
       "      <td>{'max_depth': None, 'max_features': 3, 'min_sa...</td>\n",
       "      <td>0.776437</td>\n",
       "      <td>0.771928</td>\n",
       "      <td>0.790079</td>\n",
       "      <td>0.881385</td>\n",
       "      <td>0.880032</td>\n",
       "      <td>0.819972</td>\n",
       "      <td>0.049951</td>\n",
       "      <td>4</td>\n",
       "    </tr>\n",
       "    <tr>\n",
       "      <th>7</th>\n",
       "      <td>2.672765</td>\n",
       "      <td>0.249310</td>\n",
       "      <td>0.106165</td>\n",
       "      <td>0.018017</td>\n",
       "      <td>None</td>\n",
       "      <td>3</td>\n",
       "      <td>2</td>\n",
       "      <td>50</td>\n",
       "      <td>{'max_depth': None, 'max_features': 3, 'min_sa...</td>\n",
       "      <td>0.781849</td>\n",
       "      <td>0.776437</td>\n",
       "      <td>0.792446</td>\n",
       "      <td>0.873266</td>\n",
       "      <td>0.874507</td>\n",
       "      <td>0.819701</td>\n",
       "      <td>0.044543</td>\n",
       "      <td>5</td>\n",
       "    </tr>\n",
       "  </tbody>\n",
       "</table>\n",
       "</div>"
      ],
      "text/plain": [
       "   mean_fit_time  std_fit_time  mean_score_time  std_score_time  \\\n",
       "3       4.181096      0.177925         0.179513        0.018506   \n",
       "4       5.573105      0.280138         0.254175        0.027356   \n",
       "9       5.133713      0.635465         0.213016        0.016208   \n",
       "2       3.718589      0.782842         0.191722        0.099723   \n",
       "7       2.672765      0.249310         0.106165        0.018017   \n",
       "\n",
       "  param_max_depth param_max_features param_min_samples_leaf  \\\n",
       "3            None                  3                      1   \n",
       "4            None                  3                      1   \n",
       "9            None                  3                      2   \n",
       "2            None                  3                      1   \n",
       "7            None                  3                      2   \n",
       "\n",
       "  param_n_estimators                                             params  \\\n",
       "3                 70  {'max_depth': None, 'max_features': 3, 'min_sa...   \n",
       "4                100  {'max_depth': None, 'max_features': 3, 'min_sa...   \n",
       "9                100  {'max_depth': None, 'max_features': 3, 'min_sa...   \n",
       "2                 50  {'max_depth': None, 'max_features': 3, 'min_sa...   \n",
       "7                 50  {'max_depth': None, 'max_features': 3, 'min_sa...   \n",
       "\n",
       "   split0_test_score  split1_test_score  split2_test_score  split3_test_score  \\\n",
       "3           0.779594           0.772153           0.793236           0.880257   \n",
       "4           0.780271           0.771139           0.790643           0.880257   \n",
       "9           0.781172           0.777339           0.793461           0.875070   \n",
       "2           0.776437           0.771928           0.790079           0.881385   \n",
       "7           0.781849           0.776437           0.792446           0.873266   \n",
       "\n",
       "   split4_test_score  mean_test_score  std_test_score  rank_test_score  \n",
       "3           0.881159         0.821280        0.048993                1  \n",
       "4           0.882174         0.820897        0.049639                2  \n",
       "9           0.874394         0.820287        0.044772                3  \n",
       "2           0.880032         0.819972        0.049951                4  \n",
       "7           0.874507         0.819701        0.044543                5  "
      ]
     },
     "execution_count": 86,
     "metadata": {},
     "output_type": "execute_result"
    }
   ],
   "source": [
    "cv_res = pd.DataFrame(grid_clf.cv_results_)\n",
    "cv_res[cv_res['rank_test_score']<=5].sort_values(by=['rank_test_score'])"
   ]
  },
  {
   "cell_type": "code",
   "execution_count": 89,
   "metadata": {},
   "outputs": [
    {
     "name": "stdout",
     "output_type": "stream",
     "text": [
      "ACCURACY:  0.7765333333333333\n",
      "PRECISION:  0.7014361300075586\n",
      "RECALL:  0.6768781911013858\n",
      "F1:  0.6889383815887156\n"
     ]
    },
    {
     "data": {
      "text/plain": [
       "<AxesSubplot:title={'center':'Confusion matrix'}, xlabel='Predicted label', ylabel='True label'>"
      ]
     },
     "execution_count": 89,
     "metadata": {},
     "output_type": "execute_result"
    },
    {
     "data": {
      "image/png": "[encoded data removed]",
      "text/plain": [
       "<Figure size 432x288 with 2 Axes>"
      ]
     },
     "metadata": {
      "needs_background": "light"
     },
     "output_type": "display_data"
    }
   ],
   "source": [
    "from sklearn_evaluation import plot\n",
    "# Training the model on the training dataset\n",
    "# fit function is used to train the model using the training sets as parameters\n",
    "clf = RandomForestClassifier(max_depth = None, max_features=3, min_samples_leaf=1, n_estimators=70)\n",
    "clf.fit(X_train_smt, y_train_smt)\n",
    "  \n",
    "# performing predictions on the test dataset\n",
    "y_pred = clf.predict(X_test)\n",
    "\n",
    "# using metrics module for accuracy calculation\n",
    "print('ACCURACY: ', metrics.accuracy_score(y_test, y_pred))\n",
    "print('PRECISION: ', metrics.precision_score(y_test, y_pred))\n",
    "print('RECALL: ', metrics.recall_score(y_test, y_pred))\n",
    "print('F1: ', metrics.f1_score(y_test, y_pred))\n",
    "plot.confusion_matrix(y_test, y_pred)"
   ]
  },
  {
   "cell_type": "code",
   "execution_count": 90,
   "metadata": {},
   "outputs": [
    {
     "data": {
      "text/plain": [
       "Text(0, 0.5, 'Mean decrease in impurity')"
      ]
     },
     "execution_count": 90,
     "metadata": {},
     "output_type": "execute_result"
    },
    {
     "data": {
      "image/png": "[encoded data removed]",
      "text/plain": [
       "<Figure size 432x288 with 1 Axes>"
      ]
     },
     "metadata": {
      "needs_background": "light"
     },
     "output_type": "display_data"
    }
   ],
   "source": [
    "# feature importance\n",
    "# https://scikit-learn.org/stable/auto_examples/ensemble/plot_forest_importances.html\n",
    "import matplotlib.pyplot as plt\n",
    "importances = clf.feature_importances_\n",
    "std = np.std([tree.feature_importances_ for tree in clf.estimators_], axis=0)\n",
    "forest_importances = pd.Series(importances, index=X_train.columns).sort_values(ascending=False)\n",
    "\n",
    "fig, ax = plt.subplots()\n",
    "forest_importances.plot.bar(yerr=std, ax=ax)\n",
    "ax.set_title(\"Feature importances using MDI\")\n",
    "ax.set_ylabel(\"Mean decrease in impurity\")"
   ]
  },
  {
   "cell_type": "code",
   "execution_count": 91,
   "metadata": {},
   "outputs": [
    {
     "name": "stdout",
     "output_type": "stream",
     "text": [
      "RandomForestClassifier(max_features=3, n_estimators=70)\n"
     ]
    }
   ],
   "source": [
    "from sklearn.neighbors import KNeighborsClassifier\n",
    "neigh = KNeighborsClassifier()\n",
    "param_grid = {'n_neighbors': [2,3,4,5,7]}\n",
    "grid_neigh = GridSearchCV(neigh, param_grid, cv=5)\n",
    "grid_neigh.fit(X_train_smt, y_train_smt)\n",
    "\n",
    "print(grid_neigh.best_estimator_)"
   ]
  },
  {
   "cell_type": "code",
   "execution_count": 92,
   "metadata": {},
   "outputs": [
    {
     "data": {
      "text/html": [
       "<div>\n",
       "<style scoped>\n",
       "    .dataframe tbody tr th:only-of-type {\n",
       "        vertical-align: middle;\n",
       "    }\n",
       "\n",
       "    .dataframe tbody tr th {\n",
       "        vertical-align: top;\n",
       "    }\n",
       "\n",
       "    .dataframe thead th {\n",
       "        text-align: right;\n",
       "    }\n",
       "</style>\n",
       "<table border=\"1\" class=\"dataframe\">\n",
       "  <thead>\n",
       "    <tr style=\"text-align: right;\">\n",
       "      <th></th>\n",
       "      <th>mean_fit_time</th>\n",
       "      <th>std_fit_time</th>\n",
       "      <th>mean_score_time</th>\n",
       "      <th>std_score_time</th>\n",
       "      <th>param_n_neighbors</th>\n",
       "      <th>params</th>\n",
       "      <th>split0_test_score</th>\n",
       "      <th>split1_test_score</th>\n",
       "      <th>split2_test_score</th>\n",
       "      <th>split3_test_score</th>\n",
       "      <th>split4_test_score</th>\n",
       "      <th>mean_test_score</th>\n",
       "      <th>std_test_score</th>\n",
       "      <th>rank_test_score</th>\n",
       "    </tr>\n",
       "  </thead>\n",
       "  <tbody>\n",
       "    <tr>\n",
       "      <th>1</th>\n",
       "      <td>0.160894</td>\n",
       "      <td>0.009655</td>\n",
       "      <td>1.484331</td>\n",
       "      <td>0.083829</td>\n",
       "      <td>3</td>\n",
       "      <td>{'n_neighbors': 3}</td>\n",
       "      <td>0.763472</td>\n",
       "      <td>0.756821</td>\n",
       "      <td>0.773168</td>\n",
       "      <td>0.814522</td>\n",
       "      <td>0.812831</td>\n",
       "      <td>0.784163</td>\n",
       "      <td>0.024658</td>\n",
       "      <td>1</td>\n",
       "    </tr>\n",
       "    <tr>\n",
       "      <th>0</th>\n",
       "      <td>0.219595</td>\n",
       "      <td>0.065008</td>\n",
       "      <td>1.741353</td>\n",
       "      <td>0.407566</td>\n",
       "      <td>2</td>\n",
       "      <td>{'n_neighbors': 2}</td>\n",
       "      <td>0.748253</td>\n",
       "      <td>0.745772</td>\n",
       "      <td>0.751747</td>\n",
       "      <td>0.821739</td>\n",
       "      <td>0.821626</td>\n",
       "      <td>0.777827</td>\n",
       "      <td>0.035858</td>\n",
       "      <td>2</td>\n",
       "    </tr>\n",
       "    <tr>\n",
       "      <th>3</th>\n",
       "      <td>0.170716</td>\n",
       "      <td>0.011542</td>\n",
       "      <td>1.892419</td>\n",
       "      <td>0.192112</td>\n",
       "      <td>5</td>\n",
       "      <td>{'n_neighbors': 5}</td>\n",
       "      <td>0.761105</td>\n",
       "      <td>0.756708</td>\n",
       "      <td>0.760767</td>\n",
       "      <td>0.806066</td>\n",
       "      <td>0.801669</td>\n",
       "      <td>0.777263</td>\n",
       "      <td>0.021822</td>\n",
       "      <td>3</td>\n",
       "    </tr>\n",
       "    <tr>\n",
       "      <th>2</th>\n",
       "      <td>0.168385</td>\n",
       "      <td>0.016479</td>\n",
       "      <td>1.633837</td>\n",
       "      <td>0.109595</td>\n",
       "      <td>4</td>\n",
       "      <td>{'n_neighbors': 4}</td>\n",
       "      <td>0.756032</td>\n",
       "      <td>0.748591</td>\n",
       "      <td>0.761781</td>\n",
       "      <td>0.810802</td>\n",
       "      <td>0.808321</td>\n",
       "      <td>0.777105</td>\n",
       "      <td>0.026840</td>\n",
       "      <td>4</td>\n",
       "    </tr>\n",
       "    <tr>\n",
       "      <th>4</th>\n",
       "      <td>0.206337</td>\n",
       "      <td>0.017524</td>\n",
       "      <td>3.416758</td>\n",
       "      <td>0.256332</td>\n",
       "      <td>7</td>\n",
       "      <td>{'n_neighbors': 7}</td>\n",
       "      <td>0.759301</td>\n",
       "      <td>0.753664</td>\n",
       "      <td>0.760992</td>\n",
       "      <td>0.796031</td>\n",
       "      <td>0.793212</td>\n",
       "      <td>0.772640</td>\n",
       "      <td>0.018133</td>\n",
       "      <td>5</td>\n",
       "    </tr>\n",
       "  </tbody>\n",
       "</table>\n",
       "</div>"
      ],
      "text/plain": [
       "   mean_fit_time  std_fit_time  mean_score_time  std_score_time  \\\n",
       "1       0.160894      0.009655         1.484331        0.083829   \n",
       "0       0.219595      0.065008         1.741353        0.407566   \n",
       "3       0.170716      0.011542         1.892419        0.192112   \n",
       "2       0.168385      0.016479         1.633837        0.109595   \n",
       "4       0.206337      0.017524         3.416758        0.256332   \n",
       "\n",
       "  param_n_neighbors              params  split0_test_score  split1_test_score  \\\n",
       "1                 3  {'n_neighbors': 3}           0.763472           0.756821   \n",
       "0                 2  {'n_neighbors': 2}           0.748253           0.745772   \n",
       "3                 5  {'n_neighbors': 5}           0.761105           0.756708   \n",
       "2                 4  {'n_neighbors': 4}           0.756032           0.748591   \n",
       "4                 7  {'n_neighbors': 7}           0.759301           0.753664   \n",
       "\n",
       "   split2_test_score  split3_test_score  split4_test_score  mean_test_score  \\\n",
       "1           0.773168           0.814522           0.812831         0.784163   \n",
       "0           0.751747           0.821739           0.821626         0.777827   \n",
       "3           0.760767           0.806066           0.801669         0.777263   \n",
       "2           0.761781           0.810802           0.808321         0.777105   \n",
       "4           0.760992           0.796031           0.793212         0.772640   \n",
       "\n",
       "   std_test_score  rank_test_score  \n",
       "1        0.024658                1  \n",
       "0        0.035858                2  \n",
       "3        0.021822                3  \n",
       "2        0.026840                4  \n",
       "4        0.018133                5  "
      ]
     },
     "execution_count": 92,
     "metadata": {},
     "output_type": "execute_result"
    }
   ],
   "source": [
    "cv_res = pd.DataFrame(grid_neigh.cv_results_)\n",
    "cv_res[cv_res['rank_test_score']<=5].sort_values(by=['rank_test_score'])"
   ]
  },
  {
   "cell_type": "code",
   "execution_count": 94,
   "metadata": {},
   "outputs": [
    {
     "name": "stdout",
     "output_type": "stream",
     "text": [
      "ACCURACY:  0.7164666666666667\n",
      "PRECISION:  0.5958573430929762\n",
      "RECALL:  0.6976659372720642\n",
      "F1:  0.642755144897102\n"
     ]
    },
    {
     "data": {
      "text/plain": [
       "<AxesSubplot:title={'center':'Confusion matrix'}, xlabel='Predicted label', ylabel='True label'>"
      ]
     },
     "execution_count": 94,
     "metadata": {},
     "output_type": "execute_result"
    },
    {
     "data": {
      "image/png": "[encoded data removed]",
      "text/plain": [
       "<Figure size 432x288 with 2 Axes>"
      ]
     },
     "metadata": {
      "needs_background": "light"
     },
     "output_type": "display_data"
    }
   ],
   "source": [
    "neigh = KNeighborsClassifier(n_neighbors=3)\n",
    "neigh.fit(X_train_smt, y_train_smt)\n",
    "y_pred = neigh.predict(X_test)\n",
    "\n",
    "from sklearn_evaluation import plot\n",
    "print('ACCURACY: ', metrics.accuracy_score(y_test, y_pred))\n",
    "print('PRECISION: ', metrics.precision_score(y_test, y_pred))\n",
    "print('RECALL: ', metrics.recall_score(y_test, y_pred))\n",
    "print('F1: ', metrics.f1_score(y_test, y_pred))\n",
    "plot.confusion_matrix(y_test, y_pred)"
   ]
  },
  {
   "cell_type": "code",
   "execution_count": 117,
   "metadata": {},
   "outputs": [
    {
     "name": "stdout",
     "output_type": "stream",
     "text": [
      "Retained users by city: \n",
      " Winterfell        7981\n",
      "King's Landing    6307\n",
      "Astapor           4022\n",
      "Name: city, dtype: int64\n",
      "Churned users by city: \n",
      " Winterfell        15355\n",
      "Astapor           12512\n",
      "King's Landing     3823\n",
      "Name: city, dtype: int64\n"
     ]
    }
   ],
   "source": [
    "print('Retained users by city: \\n',\\\n",
    "    ult_data_challenge[ult_data_challenge['retained_user']==1]['city'].value_counts())\n",
    "print('Churned users by city: \\n',\\\n",
    "    ult_data_challenge[ult_data_challenge['retained_user']==0]['city'].value_counts())"
   ]
  },
  {
   "cell_type": "code",
   "execution_count": 118,
   "metadata": {},
   "outputs": [
    {
     "data": {
      "text/plain": [
       "Index(['city', 'trips_in_first_30_days', 'signup_date', 'avg_rating_of_driver',\n",
       "       'avg_surge', 'last_trip_date', 'phone', 'surge_pct',\n",
       "       'ultimate_black_user', 'weekday_pct', 'avg_dist',\n",
       "       'avg_rating_by_driver', 'retained_user', 'log_avg_rating_of_driver',\n",
       "       'log_avg_rating_by_driver', 'log_trips_in_first_30_days',\n",
       "       'log_surge_pct', 'log_avg_surge', 'log_avg_dist', 'signup_date_unix',\n",
       "       'scale_log_avg_rating_of_driver', 'scale_log_avg_rating_by_driver',\n",
       "       'scale_log_trips_in_first_30_days', 'scale_log_surge_pct',\n",
       "       'scale_log_avg_surge', 'scale_log_avg_dist', 'scale_signup_date_unix',\n",
       "       'scale_weekday_pct'],\n",
       "      dtype='object')"
      ]
     },
     "execution_count": 118,
     "metadata": {},
     "output_type": "execute_result"
    }
   ],
   "source": [
    "ult_data_challenge.columns"
   ]
  },
  {
   "cell_type": "code",
   "execution_count": 128,
   "metadata": {},
   "outputs": [
    {
     "name": "stdout",
     "output_type": "stream",
     "text": [
      "Retained users avg weekday_pct: \n",
      " 62.21460404150738\n",
      "Churned users avg weekday_pct: \n",
      " 60.18159671820763\n"
     ]
    }
   ],
   "source": [
    "print('Retained users avg weekday_pct: \\n',\\\n",
    "    ult_data_challenge[ult_data_challenge['retained_user']==1]['weekday_pct'].mean())\n",
    "print('Churned users avg weekday_pct: \\n',\\\n",
    "    ult_data_challenge[ult_data_challenge['retained_user']==0]['weekday_pct'].mean())"
   ]
  },
  {
   "cell_type": "code",
   "execution_count": 130,
   "metadata": {},
   "outputs": [
    {
     "name": "stdout",
     "output_type": "stream",
     "text": [
      "Retained users by city: \n",
      " 2014-01-16 07:23:10.060076288\n",
      "Churned users by city: \n",
      " 2014-01-16 16:21:27.775323392\n"
     ]
    }
   ],
   "source": [
    "print('Retained users by city: \\n',\\\n",
    "    ult_data_challenge[ult_data_challenge['retained_user']==1]['signup_date'].mean())\n",
    "print('Churned users by city: \\n',\\\n",
    "    ult_data_challenge[ult_data_challenge['retained_user']==0]['signup_date'].mean())"
   ]
  },
  {
   "cell_type": "code",
   "execution_count": 126,
   "metadata": {},
   "outputs": [
    {
     "name": "stdout",
     "output_type": "stream",
     "text": [
      "Retained users by city: \n",
      " 5.11897706171491\n",
      "Churned users by city: \n",
      " 6.1884777532344595\n"
     ]
    }
   ],
   "source": [
    "print('Retained users by city: \\n',\\\n",
    "    ult_data_challenge[ult_data_challenge['retained_user']==1]['avg_dist'].mean())\n",
    "print('Churned users by city: \\n',\\\n",
    "    ult_data_challenge[ult_data_challenge['retained_user']==0]['avg_dist'].mean())"
   ]
  }
 ],
 "metadata": {
  "kernelspec": {
   "display_name": "Python 3",
   "language": "python",
   "name": "python3"
  },
  "language_info": {
   "codemirror_mode": {
    "name": "ipython",
    "version": 3
   },
   "file_extension": ".py",
   "mimetype": "text/x-python",
   "name": "python",
   "nbconvert_exporter": "python",
   "pygments_lexer": "ipython3",
   "version": "3.10.2"
  },
  "orig_nbformat": 4,
  "vscode": {
   "interpreter": {
    "hash": "9f0d103aebe82dfbb47ec724a2ca4fd3dcb0c9038207abb072b7913218171667"
   }
  }
 },
 "nbformat": 4,
 "nbformat_minor": 2
}
