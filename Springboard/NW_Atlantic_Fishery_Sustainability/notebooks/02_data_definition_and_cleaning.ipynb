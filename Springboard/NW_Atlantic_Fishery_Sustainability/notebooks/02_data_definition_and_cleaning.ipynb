{
 "cells": [
  {
   "cell_type": "markdown",
   "metadata": {},
   "source": [
    "### Load packages and data files from previous notebook"
   ]
  },
  {
   "cell_type": "code",
   "execution_count": 44,
   "metadata": {},
   "outputs": [],
   "source": [
    "## Imports\n",
    "from scipy import io\n",
    "import pandas as pd\n",
    "import numpy as np\n",
    "import os\n",
    "import pandas_profiling\n",
    "import matplotlib.pyplot as plt\n",
    "import seaborn as sns\n",
    "%matplotlib inline "
   ]
  },
  {
   "cell_type": "code",
   "execution_count": 45,
   "metadata": {},
   "outputs": [],
   "source": [
    "## Load Matlab files\n",
    "file_path = r'C:\\Users\\natha\\Desktop\\bootcamp_repo-1\\NW_Atlantic_Fishery_Sustainability\\data\\interim'\n",
    "AMO_file, biomass_file, ecosystem_file, landings_file, ocean_temp_file = [fr'{file_path}\\AMO_data.csv', \\\n",
    "    fr'{file_path}\\biomass_data.csv', fr'{file_path}\\ecosystem_data.csv', fr'{file_path}\\landings_data.csv', \\\n",
    "    fr'{file_path}\\ocean_temp_data.csv']\n",
    "\n",
    "AMO_df = pd.read_csv(AMO_file).drop(['Unnamed: 0'], axis=1)\n",
    "biomass_df = pd.read_csv(biomass_file).drop(['Unnamed: 0'], axis=1)\n",
    "ecosystem_df = pd.read_csv(ecosystem_file).drop(['Unnamed: 0'], axis=1)\n",
    "landings_df = pd.read_csv(landings_file).drop(['Unnamed: 0'], axis=1)\n",
    "ocean_temp_df = pd.read_csv(ocean_temp_file).drop(['Unnamed: 0'], axis=1)"
   ]
  },
  {
   "cell_type": "markdown",
   "metadata": {},
   "source": [
    "### Generate df reports and save to files"
   ]
  },
  {
   "cell_type": "code",
   "execution_count": 46,
   "metadata": {},
   "outputs": [
    {
     "data": {
      "text/plain": [
       "\"\\nmake_html_report(AMO_df, 'AMO')\\nmake_html_report(biomass_df, 'biomass')\\nmake_html_report(ecosystem_df, 'ecosystem')\\nmake_html_report(landings_df, 'landings')\\nmake_html_report(ocean_temp_df, 'ocean_temp')\\n\""
      ]
     },
     "execution_count": 46,
     "metadata": {},
     "output_type": "execute_result"
    }
   ],
   "source": [
    "def make_html_report (df, name):\n",
    "    report = df.profile_report(sort=None, html={'style':{'full_width': True}}, progress_bar=True)\n",
    "    report.to_file(fr\"C:\\Users\\natha\\Desktop\\bootcamp_repo-1\\NW_Atlantic_Fishery_Sustainability\\reports\\{name}_data_report.html\")\n",
    "    print(f'{name} done!')\n",
    "'''\n",
    "make_html_report(AMO_df, 'AMO')\n",
    "make_html_report(biomass_df, 'biomass')\n",
    "make_html_report(ecosystem_df, 'ecosystem')\n",
    "make_html_report(landings_df, 'landings')\n",
    "make_html_report(ocean_temp_df, 'ocean_temp')\n",
    "'''"
   ]
  },
  {
   "cell_type": "markdown",
   "metadata": {},
   "source": [
    "## Data defining:\n",
    "\n",
    "### In Biomass:\n",
    "biomass in tons per square kilometer (t/km^2).\n",
    "biomass_index in tons.\n",
    "abundance in number per square kilometer.\n",
    "abundance_index in number.\n",
    "\n",
    "### In Landings:\n",
    "landings_biomass in tons per square kilometer (t/km^2).\n",
    "landings_biomass_index in tons.\n",
    "landings_abundance in number per square kilometer.\n",
    "landings_abundance_index in number."
   ]
  },
  {
   "cell_type": "code",
   "execution_count": 47,
   "metadata": {},
   "outputs": [
    {
     "name": "stdout",
     "output_type": "stream",
     "text": [
      "['AFRICAN_POMPANO', 'ALEWIFE', 'AMERICAN_EEL', 'AMERICAN_LOBSTER', 'AMERICAN_SAND_LANCE', 'AMERICAN_SHAD', 'ATLANTIC_ANGEL_SHARK', 'ATLANTIC_ARGENTINE', 'ATLANTIC_BONITO']\n",
      "['American_plaice', 'Atlantic_butterfish', 'Atlantic_cod', 'Atlantic_croaker', 'Atlantic_halibut', 'Atlantic_herring', 'Atlantic_mackerel', 'Atlantic_redfishes_NS', 'Atlantic_wolffish']\n"
     ]
    }
   ],
   "source": [
    "biomass_spec =  list(set(biomass_df['species'].values))\n",
    "biomass_loc = list(set(biomass_df['ecosystem'].values))\n",
    "landings_spec = list(set(landings_df['species'].values))\n",
    "landings_loc = list(set(landings_df['ecosystem'].values))\n",
    "biomass_spec.sort()\n",
    "biomass_loc.sort()\n",
    "landings_spec.sort()\n",
    "landings_loc.sort()\n",
    "\n",
    "print(biomass_spec[0:9])\n",
    "print(landings_spec[0:9])"
   ]
  },
  {
   "cell_type": "code",
   "execution_count": 48,
   "metadata": {},
   "outputs": [
    {
     "name": "stdout",
     "output_type": "stream",
     "text": [
      "Index(['ecosystem', 'species', 'year', 'biomass', 'biomass_SE', 'abundance',\n",
      "       'abundance_SE', 'biomass_index', 'biomass_index_SE', 'abundance_index',\n",
      "       'abundance_index_units', 'abundance_index_SE', 'avg_len', 'avg_mass',\n",
      "       'source', 'agency', 'season'],\n",
      "      dtype='object')\n",
      "Index(['ecosystem', 'species', 'year', 'landings_biomass', 'landings_abund',\n",
      "       'landings_biomass_index', 'landings_abund_index', 'avg_len', 'avg_mass',\n",
      "       'source', 'agency', 'season'],\n",
      "      dtype='object')\n",
      "Index(['ecosystem', 'species', 'year', 'biomass', 'abundance', 'biomass_index',\n",
      "       'abundance_index', 'avg_len', 'avg_mass', 'source', 'agency', 'season'],\n",
      "      dtype='object')\n",
      "Index(['ecosystem', 'species', 'year', 'biomass', 'abundance', 'biomass_index',\n",
      "       'abundance_index', 'avg_len', 'avg_mass', 'source', 'agency', 'season'],\n",
      "      dtype='object')\n"
     ]
    }
   ],
   "source": [
    "print(biomass_df.columns)\n",
    "print(landings_df.columns)\n",
    "\n",
    "biomass_df.drop(['biomass_SE', 'abundance_SE', 'biomass_index_SE', 'abundance_index_units', 'abundance_index_SE'], \n",
    "    axis=1, inplace=True)\n",
    "landings_df.rename(columns={'landings_biomass':'biomass', 'landings_abund':'abundance', \n",
    "    'landings_biomass_index':'biomass_index', 'landings_abund_index':'abundance_index'}, inplace=True)\n",
    "print(biomass_df.columns)\n",
    "print(landings_df.columns)"
   ]
  },
  {
   "cell_type": "code",
   "execution_count": 49,
   "metadata": {},
   "outputs": [
    {
     "name": "stdout",
     "output_type": "stream",
     "text": [
      "      ecosystem    species  year  biomass  abundance  biomass_index  \\\n",
      "31017        CB  Skates_NS  2003      NaN        NaN           62.6   \n",
      "31018        CB  Skates_NS  2005      NaN        NaN           38.7   \n",
      "31019        CB  Skates_NS  2006      NaN        NaN           20.4   \n",
      "31020        CB  Skates_NS  2007      NaN        NaN           68.4   \n",
      "31021        CB  Skates_NS  2008      NaN        NaN          265.7   \n",
      "\n",
      "       abundance_index  avg_len  avg_mass source agency season  \n",
      "31017              NaN      NaN       NaN     nd     nd     nd  \n",
      "31018              NaN      NaN       NaN     nd     nd     nd  \n",
      "31019              NaN      NaN       NaN     nd     nd     nd  \n",
      "31020              NaN      NaN       NaN     nd     nd     nd  \n",
      "31021              NaN      NaN       NaN     nd     nd     nd  \n",
      "(31022, 12)\n",
      "(26137, 12)\n",
      "(4885, 12)\n"
     ]
    }
   ],
   "source": [
    "fish_df = pd.concat([biomass_df, landings_df], ignore_index=True)\n",
    "print(fish_df.tail())\n",
    "print(fish_df.shape)\n",
    "print(biomass_df.shape)\n",
    "print(landings_df.shape)"
   ]
  },
  {
   "cell_type": "code",
   "execution_count": 50,
   "metadata": {},
   "outputs": [
    {
     "data": {
      "text/plain": [
       "Index(['ecosystem', 'species', 'year', 'biomass', 'abundance', 'biomass_index',\n",
       "       'abundance_index', 'avg_len', 'avg_mass', 'source', 'agency', 'season'],\n",
       "      dtype='object')"
      ]
     },
     "execution_count": 50,
     "metadata": {},
     "output_type": "execute_result"
    }
   ],
   "source": [
    "fish_df.columns"
   ]
  },
  {
   "cell_type": "code",
   "execution_count": 51,
   "metadata": {},
   "outputs": [
    {
     "data": {
      "image/png": "[encoded data removed]",
      "text/plain": [
       "<Figure size 432x288 with 1 Axes>"
      ]
     },
     "metadata": {
      "needs_background": "light"
     },
     "output_type": "display_data"
    }
   ],
   "source": [
    "hist_year = fish_df.hist(column='year', bins=20)"
   ]
  },
  {
   "cell_type": "code",
   "execution_count": 52,
   "metadata": {},
   "outputs": [
    {
     "data": {
      "image/png": "[encoded data removed]",
      "text/plain": [
       "<Figure size 432x288 with 1 Axes>"
      ]
     },
     "metadata": {
      "needs_background": "light"
     },
     "output_type": "display_data"
    }
   ],
   "source": [
    "mask = (fish_df['year'] >= 1988) & (fish_df['year'] <= 2010)\n",
    "hist_year = fish_df.loc[mask].hist(column='year', bins=20)"
   ]
  },
  {
   "cell_type": "code",
   "execution_count": 53,
   "metadata": {},
   "outputs": [
    {
     "data": {
      "image/png": "[encoded data removed]",
      "text/plain": [
       "<Figure size 432x288 with 1 Axes>"
      ]
     },
     "metadata": {
      "needs_background": "light"
     },
     "output_type": "display_data"
    },
    {
     "data": {
      "image/png": "[encoded data removed]",
      "text/plain": [
       "<Figure size 432x288 with 1 Axes>"
      ]
     },
     "metadata": {
      "needs_background": "light"
     },
     "output_type": "display_data"
    },
    {
     "data": {
      "image/png": "[encoded data removed]",
      "text/plain": [
       "<Figure size 432x288 with 1 Axes>"
      ]
     },
     "metadata": {
      "needs_background": "light"
     },
     "output_type": "display_data"
    },
    {
     "data": {
      "image/png": "[encoded data removed]",
      "text/plain": [
       "<Figure size 432x288 with 1 Axes>"
      ]
     },
     "metadata": {
      "needs_background": "light"
     },
     "output_type": "display_data"
    },
    {
     "data": {
      "image/png": "[encoded data removed]",
      "text/plain": [
       "<Figure size 432x288 with 1 Axes>"
      ]
     },
     "metadata": {
      "needs_background": "light"
     },
     "output_type": "display_data"
    },
    {
     "data": {
      "image/png": "[encoded data removed]",
      "text/plain": [
       "<Figure size 432x288 with 1 Axes>"
      ]
     },
     "metadata": {
      "needs_background": "light"
     },
     "output_type": "display_data"
    }
   ],
   "source": [
    "hist_biomass = fish_df.hist(column='biomass', bins=20)\n",
    "hist_biomass_index = fish_df.hist(column='biomass_index', bins=20)\n",
    "hist_abundance = fish_df.hist(column='abundance', bins=20)\n",
    "hist_abundance_index = fish_df.hist(column='abundance_index', bins=20)\n",
    "hist_len = fish_df.hist(column='avg_len', bins=20)\n",
    "hist_mass = fish_df.hist(column='avg_mass', bins=20)"
   ]
  },
  {
   "cell_type": "code",
   "execution_count": 54,
   "metadata": {},
   "outputs": [
    {
     "data": {
      "text/html": [
       "<div>\n",
       "<style scoped>\n",
       "    .dataframe tbody tr th:only-of-type {\n",
       "        vertical-align: middle;\n",
       "    }\n",
       "\n",
       "    .dataframe tbody tr th {\n",
       "        vertical-align: top;\n",
       "    }\n",
       "\n",
       "    .dataframe thead th {\n",
       "        text-align: right;\n",
       "    }\n",
       "</style>\n",
       "<table border=\"1\" class=\"dataframe\">\n",
       "  <thead>\n",
       "    <tr style=\"text-align: right;\">\n",
       "      <th></th>\n",
       "      <th>ecosystem</th>\n",
       "      <th>species</th>\n",
       "      <th>year</th>\n",
       "      <th>biomass</th>\n",
       "      <th>abundance</th>\n",
       "      <th>biomass_index</th>\n",
       "      <th>abundance_index</th>\n",
       "      <th>avg_len</th>\n",
       "      <th>avg_mass</th>\n",
       "      <th>source</th>\n",
       "      <th>agency</th>\n",
       "      <th>season</th>\n",
       "    </tr>\n",
       "  </thead>\n",
       "  <tbody>\n",
       "    <tr>\n",
       "      <th>46</th>\n",
       "      <td>CB</td>\n",
       "      <td>Atlantic_croaker</td>\n",
       "      <td>2002</td>\n",
       "      <td>2.299399</td>\n",
       "      <td>NaN</td>\n",
       "      <td>NaN</td>\n",
       "      <td>11670.824107</td>\n",
       "      <td>0.250977</td>\n",
       "      <td>0.210925</td>\n",
       "      <td>ChesMMAP_Survey</td>\n",
       "      <td>VIMS</td>\n",
       "      <td>May-Sep</td>\n",
       "    </tr>\n",
       "    <tr>\n",
       "      <th>47</th>\n",
       "      <td>CB</td>\n",
       "      <td>Atlantic_croaker</td>\n",
       "      <td>2003</td>\n",
       "      <td>1.238667</td>\n",
       "      <td>NaN</td>\n",
       "      <td>NaN</td>\n",
       "      <td>5301.103004</td>\n",
       "      <td>0.242012</td>\n",
       "      <td>0.197755</td>\n",
       "      <td>ChesMMAP_Survey</td>\n",
       "      <td>VIMS</td>\n",
       "      <td>May-Sep</td>\n",
       "    </tr>\n",
       "    <tr>\n",
       "      <th>48</th>\n",
       "      <td>CB</td>\n",
       "      <td>Atlantic_croaker</td>\n",
       "      <td>2004</td>\n",
       "      <td>4.625904</td>\n",
       "      <td>NaN</td>\n",
       "      <td>NaN</td>\n",
       "      <td>18360.310500</td>\n",
       "      <td>0.262455</td>\n",
       "      <td>0.263261</td>\n",
       "      <td>ChesMMAP_Survey</td>\n",
       "      <td>VIMS</td>\n",
       "      <td>May-Sep</td>\n",
       "    </tr>\n",
       "    <tr>\n",
       "      <th>49</th>\n",
       "      <td>CB</td>\n",
       "      <td>Atlantic_croaker</td>\n",
       "      <td>2005</td>\n",
       "      <td>2.996353</td>\n",
       "      <td>NaN</td>\n",
       "      <td>NaN</td>\n",
       "      <td>13337.858558</td>\n",
       "      <td>0.256941</td>\n",
       "      <td>0.239844</td>\n",
       "      <td>ChesMMAP_Survey</td>\n",
       "      <td>VIMS</td>\n",
       "      <td>May-Sep</td>\n",
       "    </tr>\n",
       "    <tr>\n",
       "      <th>50</th>\n",
       "      <td>CB</td>\n",
       "      <td>Atlantic_croaker</td>\n",
       "      <td>2006</td>\n",
       "      <td>3.046045</td>\n",
       "      <td>NaN</td>\n",
       "      <td>NaN</td>\n",
       "      <td>15192.374120</td>\n",
       "      <td>0.253414</td>\n",
       "      <td>0.233842</td>\n",
       "      <td>ChesMMAP_Survey</td>\n",
       "      <td>VIMS</td>\n",
       "      <td>May-Sep</td>\n",
       "    </tr>\n",
       "    <tr>\n",
       "      <th>...</th>\n",
       "      <td>...</td>\n",
       "      <td>...</td>\n",
       "      <td>...</td>\n",
       "      <td>...</td>\n",
       "      <td>...</td>\n",
       "      <td>...</td>\n",
       "      <td>...</td>\n",
       "      <td>...</td>\n",
       "      <td>...</td>\n",
       "      <td>...</td>\n",
       "      <td>...</td>\n",
       "      <td>...</td>\n",
       "    </tr>\n",
       "    <tr>\n",
       "      <th>30244</th>\n",
       "      <td>SNE</td>\n",
       "      <td>Shortfin_squid</td>\n",
       "      <td>1998</td>\n",
       "      <td>0.598365</td>\n",
       "      <td>NaN</td>\n",
       "      <td>NaN</td>\n",
       "      <td>NaN</td>\n",
       "      <td>NaN</td>\n",
       "      <td>NaN</td>\n",
       "      <td>CFDBS</td>\n",
       "      <td>NMFS/NEFSC</td>\n",
       "      <td>nd</td>\n",
       "    </tr>\n",
       "    <tr>\n",
       "      <th>30246</th>\n",
       "      <td>SNE</td>\n",
       "      <td>Shortfin_squid</td>\n",
       "      <td>2000</td>\n",
       "      <td>0.165769</td>\n",
       "      <td>NaN</td>\n",
       "      <td>NaN</td>\n",
       "      <td>NaN</td>\n",
       "      <td>NaN</td>\n",
       "      <td>NaN</td>\n",
       "      <td>CFDBS</td>\n",
       "      <td>NMFS/NEFSC</td>\n",
       "      <td>nd</td>\n",
       "    </tr>\n",
       "    <tr>\n",
       "      <th>30249</th>\n",
       "      <td>SNE</td>\n",
       "      <td>Shortfin_squid</td>\n",
       "      <td>2003</td>\n",
       "      <td>0.182335</td>\n",
       "      <td>NaN</td>\n",
       "      <td>NaN</td>\n",
       "      <td>NaN</td>\n",
       "      <td>NaN</td>\n",
       "      <td>NaN</td>\n",
       "      <td>CFDBS</td>\n",
       "      <td>NMFS/NEFSC</td>\n",
       "      <td>nd</td>\n",
       "    </tr>\n",
       "    <tr>\n",
       "      <th>30251</th>\n",
       "      <td>SNE</td>\n",
       "      <td>Shortfin_squid</td>\n",
       "      <td>2005</td>\n",
       "      <td>0.237241</td>\n",
       "      <td>NaN</td>\n",
       "      <td>NaN</td>\n",
       "      <td>NaN</td>\n",
       "      <td>NaN</td>\n",
       "      <td>NaN</td>\n",
       "      <td>CFDBS</td>\n",
       "      <td>NMFS/NEFSC</td>\n",
       "      <td>nd</td>\n",
       "    </tr>\n",
       "    <tr>\n",
       "      <th>30255</th>\n",
       "      <td>SNE</td>\n",
       "      <td>Shortfin_squid</td>\n",
       "      <td>2009</td>\n",
       "      <td>0.129819</td>\n",
       "      <td>NaN</td>\n",
       "      <td>NaN</td>\n",
       "      <td>NaN</td>\n",
       "      <td>NaN</td>\n",
       "      <td>NaN</td>\n",
       "      <td>CFDBS</td>\n",
       "      <td>NMFS/NEFSC</td>\n",
       "      <td>nd</td>\n",
       "    </tr>\n",
       "  </tbody>\n",
       "</table>\n",
       "<p>4960 rows × 12 columns</p>\n",
       "</div>"
      ],
      "text/plain": [
       "      ecosystem           species  year   biomass  abundance  biomass_index  \\\n",
       "46           CB  Atlantic_croaker  2002  2.299399        NaN            NaN   \n",
       "47           CB  Atlantic_croaker  2003  1.238667        NaN            NaN   \n",
       "48           CB  Atlantic_croaker  2004  4.625904        NaN            NaN   \n",
       "49           CB  Atlantic_croaker  2005  2.996353        NaN            NaN   \n",
       "50           CB  Atlantic_croaker  2006  3.046045        NaN            NaN   \n",
       "...         ...               ...   ...       ...        ...            ...   \n",
       "30244       SNE    Shortfin_squid  1998  0.598365        NaN            NaN   \n",
       "30246       SNE    Shortfin_squid  2000  0.165769        NaN            NaN   \n",
       "30249       SNE    Shortfin_squid  2003  0.182335        NaN            NaN   \n",
       "30251       SNE    Shortfin_squid  2005  0.237241        NaN            NaN   \n",
       "30255       SNE    Shortfin_squid  2009  0.129819        NaN            NaN   \n",
       "\n",
       "       abundance_index   avg_len  avg_mass           source      agency  \\\n",
       "46        11670.824107  0.250977  0.210925  ChesMMAP_Survey        VIMS   \n",
       "47         5301.103004  0.242012  0.197755  ChesMMAP_Survey        VIMS   \n",
       "48        18360.310500  0.262455  0.263261  ChesMMAP_Survey        VIMS   \n",
       "49        13337.858558  0.256941  0.239844  ChesMMAP_Survey        VIMS   \n",
       "50        15192.374120  0.253414  0.233842  ChesMMAP_Survey        VIMS   \n",
       "...                ...       ...       ...              ...         ...   \n",
       "30244              NaN       NaN       NaN            CFDBS  NMFS/NEFSC   \n",
       "30246              NaN       NaN       NaN            CFDBS  NMFS/NEFSC   \n",
       "30249              NaN       NaN       NaN            CFDBS  NMFS/NEFSC   \n",
       "30251              NaN       NaN       NaN            CFDBS  NMFS/NEFSC   \n",
       "30255              NaN       NaN       NaN            CFDBS  NMFS/NEFSC   \n",
       "\n",
       "        season  \n",
       "46     May-Sep  \n",
       "47     May-Sep  \n",
       "48     May-Sep  \n",
       "49     May-Sep  \n",
       "50     May-Sep  \n",
       "...        ...  \n",
       "30244       nd  \n",
       "30246       nd  \n",
       "30249       nd  \n",
       "30251       nd  \n",
       "30255       nd  \n",
       "\n",
       "[4960 rows x 12 columns]"
      ]
     },
     "execution_count": 54,
     "metadata": {},
     "output_type": "execute_result"
    }
   ],
   "source": [
    "fish_df[fish_df.biomass >= fish_df['biomass'].quantile(.75)]"
   ]
  },
  {
   "cell_type": "markdown",
   "metadata": {},
   "source": [
    "Later modeling is decided to work with recent data only (last 30 years)."
   ]
  },
  {
   "cell_type": "code",
   "execution_count": 55,
   "metadata": {},
   "outputs": [
    {
     "name": "stdout",
     "output_type": "stream",
     "text": [
      "(25776, 12)\n"
     ]
    }
   ],
   "source": [
    "max_yr = max(fish_df['year'])\n",
    "min_yr = max_yr - 30\n",
    "\n",
    "fish_df_30yr = fish_df[fish_df['year']>= min_yr]\n",
    "print(fish_df_30yr.shape)"
   ]
  },
  {
   "cell_type": "markdown",
   "metadata": {},
   "source": [
    "Consolidate species list that includes distinct duplicate due to formatting differences (all caps, etc.)"
   ]
  },
  {
   "cell_type": "code",
   "execution_count": 56,
   "metadata": {},
   "outputs": [
    {
     "name": "stdout",
     "output_type": "stream",
     "text": [
      "['african_pompano', 'alewife', 'alewife_and_blueback_herring', 'alewife_and_river_herring', 'american_butterfish', 'american_eel', 'american_eel_age-1+', 'american_eel_yoy/larvae', 'american_fourspot_flounder']\n"
     ]
    },
    {
     "name": "stderr",
     "output_type": "stream",
     "text": [
      "C:\\Users\\natha\\AppData\\Local\\Temp\\ipykernel_15944\\4111078461.py:1: SettingWithCopyWarning: \n",
      "A value is trying to be set on a copy of a slice from a DataFrame.\n",
      "Try using .loc[row_indexer,col_indexer] = value instead\n",
      "\n",
      "See the caveats in the documentation: https://pandas.pydata.org/pandas-docs/stable/user_guide/indexing.html#returning-a-view-versus-a-copy\n",
      "  fish_df_30yr['species_lower'] = fish_df_30yr['species'].str.lower()\n"
     ]
    },
    {
     "data": {
      "text/plain": [
       "406"
      ]
     },
     "execution_count": 56,
     "metadata": {},
     "output_type": "execute_result"
    }
   ],
   "source": [
    "fish_df_30yr['species_lower'] = fish_df_30yr['species'].str.lower()\n",
    "fish_df_30yr_spec =  list(set(fish_df_30yr['species_lower'].values))\n",
    "fish_df_30yr_spec.sort()\n",
    "print(fish_df_30yr_spec[0:9])\n",
    "len(fish_df_30yr_spec)"
   ]
  },
  {
   "cell_type": "code",
   "execution_count": 57,
   "metadata": {},
   "outputs": [
    {
     "name": "stdout",
     "output_type": "stream",
     "text": [
      "['american_eel_yoy/larvae', 'american_sand_lance_yoy', 'anchovy_spp_yoy-est', 'atlantic_herring_yoy-est', 'bay_anchovy_yoy', 'black_sea_bass_yoy', 'blue_catfish_yoy', 'blue_crab_yoy', 'channel_catfish_yoy', 'conger_eel_yoy/larvae', 'gadus_spp._yoy/larvae', 'silver_perch_yoy', 'spot_yoy', 'striped_bass_yoy', 'summer_flounder_yoy', 'weakfish_yoy', 'white_catfish_yoy', 'white_perch_yoy', 'y-o-y_winter_flounder'] 19\n"
     ]
    }
   ],
   "source": [
    "species_repl = [species.replace('-','') for species in fish_df_30yr_spec]\n",
    "species_young = [species for species in fish_df_30yr_spec if ('yoy' in species) or ('y-o-y' in species)]\n",
    "print(species_young, len(species_young))\n"
   ]
  },
  {
   "cell_type": "markdown",
   "metadata": {},
   "source": [
    "Verify \"yoy\" (young of year) species have adult species data."
   ]
  },
  {
   "cell_type": "code",
   "execution_count": 58,
   "metadata": {},
   "outputs": [
    {
     "name": "stdout",
     "output_type": "stream",
     "text": [
      "['american_eel', 'american_sand_lance', 'anchovy_spp', 'atlantic_herring', 'bay_anchovy', 'black_sea_bass', 'blue_catfish', 'blue_crab', 'channel_catfish', 'conger_eel', 'gadus_spp.', 'silver_perch', 'spot', 'striped_bass', 'summer_flounder', 'weakfish', 'white_catfish', 'white_perch', 'winter_flounder'] 19\n"
     ]
    }
   ],
   "source": [
    "species_repl = [species.replace('-est','') for species in species_young]\n",
    "species_repl = [species.replace('_yoyest','') for species in species_repl]\n",
    "species_repl = [species.replace('_yoy','') for species in species_repl]\n",
    "species_repl = [species.replace('y-o-y_','') for species in species_repl]\n",
    "species_adult = [species.replace('/larvae','') for species in species_repl]\n",
    "print(species_adult, len(species_adult))"
   ]
  },
  {
   "cell_type": "code",
   "execution_count": 59,
   "metadata": {},
   "outputs": [
    {
     "name": "stdout",
     "output_type": "stream",
     "text": [
      "(3476, 13)\n",
      "(332, 13)\n"
     ]
    }
   ],
   "source": [
    "fish_adult = fish_df_30yr[fish_df_30yr['species_lower'].isin(species_adult)]\n",
    "fish_young = fish_df_30yr[fish_df_30yr['species_lower'].isin(species_young)]\n",
    "print(fish_adult.shape)\n",
    "print(fish_young.shape)"
   ]
  },
  {
   "cell_type": "markdown",
   "metadata": {},
   "source": [
    "just plot 30yr data by species, color and overlay\n",
    "\n",
    "relate 19 juvenile to 19 adult, or less depending on data filled out\n",
    "\n",
    "maybe pair ecosystems 1:1"
   ]
  },
  {
   "cell_type": "code",
   "execution_count": 60,
   "metadata": {},
   "outputs": [
    {
     "name": "stdout",
     "output_type": "stream",
     "text": [
      "['CB', 'LIS', 'CTS']\n",
      "\n",
      "Missing Values\n",
      "ecosystem            0\n",
      "species              0\n",
      "year                 0\n",
      "biomass            294\n",
      "abundance          294\n",
      "biomass_index      296\n",
      "abundance_index      7\n",
      "avg_len             73\n",
      "avg_mass           296\n",
      "source               0\n",
      "agency               0\n",
      "season               0\n",
      "species_lower        0\n",
      "dtype: int64\n"
     ]
    }
   ],
   "source": [
    "print(list(set(fish_young['ecosystem'].values)))\n",
    "print('')\n",
    "print('Missing Values')\n",
    "print(fish_young.isna().sum())"
   ]
  },
  {
   "cell_type": "code",
   "execution_count": 61,
   "metadata": {},
   "outputs": [
    {
     "name": "stdout",
     "output_type": "stream",
     "text": [
      "['white_perch', 'channel_catfish', 'silver_perch', 'winter_flounder', 'spot', 'striped_bass', 'american_sand_lance', 'weakfish', 'conger_eel', 'american_eel', 'bay_anchovy', 'summer_flounder', 'blue_crab', 'white_catfish', 'black_sea_bass', 'atlantic_herring']\n",
      "16\n",
      "['weakfish_yoy', 'black_sea_bass_yoy', 'striped_bass_yoy', 'white_catfish_yoy', 'blue_crab_yoy', 'american_sand_lance_yoy', 'gadus_spp._yoy/larvae', 'summer_flounder_yoy', 'y-o-y_winter_flounder', 'anchovy_spp_yoy-est', 'atlantic_herring_yoy-est', 'channel_catfish_yoy', 'white_perch_yoy', 'spot_yoy', 'blue_catfish_yoy', 'bay_anchovy_yoy', 'conger_eel_yoy/larvae', 'american_eel_yoy/larvae', 'silver_perch_yoy']\n",
      "19\n"
     ]
    }
   ],
   "source": [
    "print(list(set(fish_adult['species_lower'].values)))\n",
    "print(len(list(set(fish_adult['species_lower'].values))))\n",
    "print(list(set(fish_young['species_lower'].values)))\n",
    "print(len(list(set(fish_young['species_lower'].values))))"
   ]
  },
  {
   "cell_type": "code",
   "execution_count": 62,
   "metadata": {},
   "outputs": [],
   "source": [
    "csv_folder = r\"C:\\Users\\natha\\Desktop\\bootcamp_repo-1\\NW_Atlantic_Fishery_Sustainability\\data\\interim\"\n",
    "fish_adult.to_csv(fr'{csv_folder}\\fish_adult.csv')\n",
    "fish_young.to_csv(fr'{csv_folder}\\fish_young.csv')"
   ]
  }
 ],
 "metadata": {
  "interpreter": {
   "hash": "9f0d103aebe82dfbb47ec724a2ca4fd3dcb0c9038207abb072b7913218171667"
  },
  "kernelspec": {
   "display_name": "Python 3.10.2 64-bit",
   "language": "python",
   "name": "python3"
  },
  "language_info": {
   "codemirror_mode": {
    "name": "ipython",
    "version": 3
   },
   "file_extension": ".py",
   "mimetype": "text/x-python",
   "name": "python",
   "nbconvert_exporter": "python",
   "pygments_lexer": "ipython3",
   "version": "3.10.2 (tags/v3.10.2:a58ebcc, Jan 17 2022, 14:12:15) [MSC v.1929 64 bit (AMD64)]"
  },
  "orig_nbformat": 4
 },
 "nbformat": 4,
 "nbformat_minor": 2
}
