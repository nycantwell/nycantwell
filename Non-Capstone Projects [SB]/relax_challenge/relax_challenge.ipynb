{
 "cells": [
  {
   "cell_type": "code",
   "execution_count": 280,
   "metadata": {},
   "outputs": [],
   "source": [
    "from pyspark.sql import SparkSession"
   ]
  },
  {
   "cell_type": "code",
   "execution_count": 281,
   "metadata": {},
   "outputs": [],
   "source": [
    "spark = SparkSession.builder.getOrCreate()"
   ]
  },
  {
   "cell_type": "code",
   "execution_count": 282,
   "metadata": {},
   "outputs": [],
   "source": [
    "# Load in users and user engagement csv's\n",
    "data_path = '/Users/natha/Desktop/bootcamp_repo-1/relax_challenge/'\n",
    "file_path_1 = data_path + '/takehome_users.csv'\n",
    "file_path_2 = data_path + '/takehome_user_engagement.csv'\n",
    "\n",
    "df1 = spark.read.format(\"csv\").option(\"header\", \"true\").load(file_path_1)\n",
    "df2 = spark.read.format(\"csv\").option(\"header\", \"true\").load(file_path_2)"
   ]
  },
  {
   "cell_type": "code",
   "execution_count": 283,
   "metadata": {},
   "outputs": [],
   "source": [
    "df2.createOrReplaceTempView('engagement')"
   ]
  },
  {
   "cell_type": "code",
   "execution_count": 284,
   "metadata": {},
   "outputs": [
    {
     "name": "stdout",
     "output_type": "stream",
     "text": [
      "+-------------------+-------+-------------------+\n",
      "|         time_stamp|user_id|  time_stamp_lead_2|\n",
      "+-------------------+-------+-------------------+\n",
      "|2014-04-22 03:53:30|      1|               null|\n",
      "|2013-01-16 22:08:03|     10|2013-01-30 22:08:03|\n",
      "|2013-01-22 22:08:03|     10|2013-02-04 22:08:03|\n",
      "|2013-01-30 22:08:03|     10|2013-02-06 22:08:03|\n",
      "|2013-02-04 22:08:03|     10|2013-02-14 22:08:03|\n",
      "+-------------------+-------+-------------------+\n",
      "only showing top 5 rows\n",
      "\n"
     ]
    }
   ],
   "source": [
    "# Set a new column for 2 visits ahead of current, known that each visit is a distinct date and is in order of occurence.\n",
    "sql_window = 'SELECT time_stamp, user_id,  \\\n",
    "         lead(time_stamp, 2) OVER (PARTITION BY user_id ORDER BY user_id) time_stamp_lead_2 \\\n",
    "         FROM engagement'\n",
    "\n",
    "spark.sql(sql_window).createOrReplaceTempView('engagement_lead_2')\n",
    "spark.sql(sql_window).show(5)"
   ]
  },
  {
   "cell_type": "code",
   "execution_count": 285,
   "metadata": {},
   "outputs": [
    {
     "name": "stdout",
     "output_type": "stream",
     "text": [
      "+-------+-------------------+-------------------+----------+\n",
      "|user_id|         time_stamp|  time_stamp_lead_2|days_apart|\n",
      "+-------+-------------------+-------------------+----------+\n",
      "|      1|2014-04-22 03:53:30|               null|      null|\n",
      "|     10|2013-01-16 22:08:03|2013-01-30 22:08:03|        14|\n",
      "|     10|2013-01-22 22:08:03|2013-02-04 22:08:03|        13|\n",
      "|     10|2013-01-30 22:08:03|2013-02-06 22:08:03|         7|\n",
      "|     10|2013-02-04 22:08:03|2013-02-14 22:08:03|        10|\n",
      "+-------+-------------------+-------------------+----------+\n",
      "only showing top 5 rows\n",
      "\n"
     ]
    }
   ],
   "source": [
    "# Make a comparison of current visit and 2 visits ahead for days apart, set a new column.\n",
    "sql_window = 'SELECT user_id, time_stamp, time_stamp_lead_2, DATEDIFF(time_stamp_lead_2, time_stamp) days_apart\\\n",
    "           FROM engagement_lead_2'\n",
    "\n",
    "spark.sql(sql_window).createOrReplaceTempView('engagement_days_apart')\n",
    "spark.sql(sql_window).show(5)"
   ]
  },
  {
   "cell_type": "code",
   "execution_count": 286,
   "metadata": {},
   "outputs": [
    {
     "name": "stdout",
     "output_type": "stream",
     "text": [
      "+-------+-----------------+------------+\n",
      "|user_id|days_for_3_visits|adopted_user|\n",
      "+-------+-----------------+------------+\n",
      "|      1|             null|       false|\n",
      "|     10|                2|        true|\n",
      "|    100|             null|       false|\n",
      "|  10000|             null|       false|\n",
      "|  10002|                3|        true|\n",
      "+-------+-----------------+------------+\n",
      "only showing top 5 rows\n",
      "\n"
     ]
    }
   ],
   "source": [
    "# Group by users and find each users shortest period of 3 visits. If a user has 3 visits w/in 7 days consider as \"adopted\".\n",
    "# Null values where there are not 3 visits, set \"adopted\" to false.\n",
    "sql_window = 'SELECT user_id, MIN(days_apart) days_for_3_visits, IFNULL(MIN(days_apart)<=7, FALSE) adopted_user\\\n",
    "           FROM engagement_days_apart \\\n",
    "           GROUP BY user_id'\n",
    "\n",
    "spark.sql(sql_window).createOrReplaceTempView('engagement_adopted_users')\n",
    "spark.sql(sql_window).show(5)"
   ]
  },
  {
   "cell_type": "code",
   "execution_count": 287,
   "metadata": {},
   "outputs": [
    {
     "name": "stdout",
     "output_type": "stream",
     "text": [
      "+------------+--------+\n",
      "|adopted_user|count(1)|\n",
      "+------------+--------+\n",
      "|        true|    1656|\n",
      "|       false|    7167|\n",
      "+------------+--------+\n",
      "\n"
     ]
    }
   ],
   "source": [
    "# Show counts of adopted/unadopted users\n",
    "sql_window = 'SELECT adopted_user, count(*)\\\n",
    "           FROM engagement_adopted_users \\\n",
    "           GROUP BY adopted_user'\n",
    "\n",
    "spark.sql(sql_window).createOrReplaceTempView('engagement_value_counts')\n",
    "spark.sql(sql_window).show(5)"
   ]
  },
  {
   "cell_type": "code",
   "execution_count": 288,
   "metadata": {},
   "outputs": [],
   "source": [
    "# Bring in users data.\n",
    "df1.createOrReplaceTempView('users')"
   ]
  },
  {
   "cell_type": "code",
   "execution_count": 289,
   "metadata": {},
   "outputs": [
    {
     "name": "stdout",
     "output_type": "stream",
     "text": [
      "+---------+-------------------+-----------------+--------------------+---------------+--------------------------+------------------------+--------------------------+------+------------------+------------+\n",
      "|object_id|      creation_time|             name|               email|creation_source|last_session_creation_time|opted_in_to_mailing_list|enabled_for_marketing_drip|org_id|invited_by_user_id|adopted_user|\n",
      "+---------+-------------------+-----------------+--------------------+---------------+--------------------------+------------------------+--------------------------+------+------------------+------------+\n",
      "|        1|2014-04-22 03:53:30|   Clausen August|AugustCClausen@ya...|   GUEST_INVITE|                1398138810|                       1|                         0|    11|             10803|       false|\n",
      "|        2|2013-11-15 03:45:04|    Poole Matthew|MatthewPoole@gust...|     ORG_INVITE|                1396237504|                       0|                         0|     1|               316|        true|\n",
      "|        3|2013-03-19 23:14:52|Bottrill Mitchell|MitchellBottrill@...|     ORG_INVITE|                1363734892|                       0|                         0|    94|              1525|       false|\n",
      "|        4|2013-05-21 08:09:28|  Clausen Nicklas|NicklasSClausen@y...|   GUEST_INVITE|                1369210168|                       0|                         0|     1|              5151|       false|\n",
      "|        5|2013-01-17 10:14:20|        Raw Grace|  GraceRaw@yahoo.com|   GUEST_INVITE|                1358849660|                       0|                         0|   193|              5240|       false|\n",
      "+---------+-------------------+-----------------+--------------------+---------------+--------------------------+------------------------+--------------------------+------+------------------+------------+\n",
      "only showing top 5 rows\n",
      "\n"
     ]
    }
   ],
   "source": [
    "# Left join user data to determined adopted/unadopted list.\n",
    "sql_window = 'SELECT u.object_id, u.creation_time, u.name, u.email, u.creation_source, \\\n",
    "           u.last_session_creation_time, u.opted_in_to_mailing_list, \\\n",
    "           u.enabled_for_marketing_drip, u.org_id, u.invited_by_user_id, \\\n",
    "           e.adopted_user \\\n",
    "           FROM users u \\\n",
    "           LEFT JOIN engagement_adopted_users e \\\n",
    "           ON e.user_id = u.object_id'\n",
    "\n",
    "spark.sql(sql_window).createOrReplaceTempView('users_join')\n",
    "spark.sql(sql_window).show(5)"
   ]
  },
  {
   "cell_type": "code",
   "execution_count": 290,
   "metadata": {},
   "outputs": [
    {
     "name": "stdout",
     "output_type": "stream",
     "text": [
      "+---------+-------------------+-----------------+--------------------+---------------+--------------------------+------------------------+--------------------------+------+------------------+------------+\n",
      "|object_id|      creation_time|             name|               email|creation_source|last_session_creation_time|opted_in_to_mailing_list|enabled_for_marketing_drip|org_id|invited_by_user_id|adopted_user|\n",
      "+---------+-------------------+-----------------+--------------------+---------------+--------------------------+------------------------+--------------------------+------+------------------+------------+\n",
      "|        1|2014-04-22 03:53:30|   Clausen August|AugustCClausen@ya...|   GUEST_INVITE|                1398138810|                       1|                         0|    11|             10803|       false|\n",
      "|        2|2013-11-15 03:45:04|    Poole Matthew|MatthewPoole@gust...|     ORG_INVITE|                1396237504|                       0|                         0|     1|               316|        true|\n",
      "|        3|2013-03-19 23:14:52|Bottrill Mitchell|MitchellBottrill@...|     ORG_INVITE|                1363734892|                       0|                         0|    94|              1525|       false|\n",
      "|        4|2013-05-21 08:09:28|  Clausen Nicklas|NicklasSClausen@y...|   GUEST_INVITE|                1369210168|                       0|                         0|     1|              5151|       false|\n",
      "|        5|2013-01-17 10:14:20|        Raw Grace|  GraceRaw@yahoo.com|   GUEST_INVITE|                1358849660|                       0|                         0|   193|              5240|       false|\n",
      "+---------+-------------------+-----------------+--------------------+---------------+--------------------------+------------------------+--------------------------+------+------------------+------------+\n",
      "only showing top 5 rows\n",
      "\n"
     ]
    }
   ],
   "source": [
    "# Nulls (where users were not present) in engagement log, set to unadopted (FALSE).\n",
    "sql_window = 'SELECT object_id, creation_time, name, email, creation_source, \\\n",
    "           last_session_creation_time, opted_in_to_mailing_list, \\\n",
    "           enabled_for_marketing_drip, org_id, invited_by_user_id, \\\n",
    "           IFNULL(adopted_user, FALSE) adopted_user\\\n",
    "           FROM users_join'\n",
    "\n",
    "spark.sql(sql_window).createOrReplaceTempView('users_join_2')\n",
    "spark.sql(sql_window).show(5)"
   ]
  },
  {
   "cell_type": "code",
   "execution_count": 291,
   "metadata": {},
   "outputs": [
    {
     "name": "stdout",
     "output_type": "stream",
     "text": [
      "+------------+--------+\n",
      "|adopted_user|count(1)|\n",
      "+------------+--------+\n",
      "|        true|    1656|\n",
      "|       false|   10344|\n",
      "+------------+--------+\n",
      "\n"
     ]
    }
   ],
   "source": [
    "# Show counts of adopted/unadopted users\n",
    "sql_window = 'SELECT adopted_user, count(*)\\\n",
    "           FROM users_join_2 \\\n",
    "           GROUP BY adopted_user'\n",
    "\n",
    "spark.sql(sql_window).createOrReplaceTempView('users_value_counts')\n",
    "spark.sql(sql_window).show(5)"
   ]
  },
  {
   "cell_type": "code",
   "execution_count": 292,
   "metadata": {},
   "outputs": [
    {
     "name": "stdout",
     "output_type": "stream",
     "text": [
      "root\n",
      " |-- object_id: string (nullable = true)\n",
      " |-- creation_time: string (nullable = true)\n",
      " |-- name: string (nullable = true)\n",
      " |-- email: string (nullable = true)\n",
      " |-- creation_source: string (nullable = true)\n",
      " |-- last_session_creation_time: string (nullable = true)\n",
      " |-- opted_in_to_mailing_list: string (nullable = true)\n",
      " |-- enabled_for_marketing_drip: string (nullable = true)\n",
      " |-- org_id: string (nullable = true)\n",
      " |-- invited_by_user_id: string (nullable = true)\n",
      " |-- adopted_user: boolean (nullable = false)\n",
      "\n"
     ]
    }
   ],
   "source": [
    "df_new = spark.sql('SELECT * FROM users_join_2')\n",
    "df_new.printSchema()"
   ]
  },
  {
   "cell_type": "code",
   "execution_count": 293,
   "metadata": {},
   "outputs": [],
   "source": [
    "import pandas as pd\n",
    "labeled_data = df_new.select('*').toPandas()\n",
    "labeled_data.to_csv('labeled_data.csv')"
   ]
  },
  {
   "cell_type": "code",
   "execution_count": 428,
   "metadata": {},
   "outputs": [],
   "source": [
    "from imblearn.over_sampling import SMOTE\n",
    "from collections import Counter\n",
    "import category_encoders as ce\n",
    "from sklearn.preprocessing import MinMaxScaler\n",
    "from sklearn.model_selection import train_test_split\n",
    "from sklearn.metrics import confusion_matrix\n",
    "from sklearn import metrics\n",
    "\n",
    "# Feature Engineering for adopted_user classification model:\n",
    "# 'object_id' is user_id unused as a feature                        DONE\n",
    "# 'creation_time' is datetime, convert to unix and min/max scale    DONE\n",
    "# 'name' unused as a feature                                        DONE\n",
    "# 'email' extract domain, target encode after split                 DONE\n",
    "# 'creation_source' has 5 categories, target encode after split     DONE\n",
    "# 'last_session_creation_time' is in unix, min/max scale            DONE\n",
    "# 'opted_in_to_mailing_list' is 0/1 leave as is                     DONE\n",
    "# 'enabled_for_marketing_drip' is 0/1 leave as is                   DONE\n",
    "# 'org_id' 417 orgs, target encode after split                      DONE\n",
    "# 'invited_by_user_id' see if inviter is adopted_user or not        DONE\n",
    "# 'adopted_user' target T/F, convert to 0/1                         DONE\n",
    "\n",
    "labeled_data = pd.read_csv('labeled_data.csv').drop(['Unnamed: 0'], axis=1)\n",
    "labeled_data['adopted_user'] = labeled_data['adopted_user'].astype('int')"
   ]
  },
  {
   "cell_type": "code",
   "execution_count": 429,
   "metadata": {},
   "outputs": [
    {
     "data": {
      "text/plain": [
       "@gmail.com         3562\n",
       "@yahoo.com         2447\n",
       "@jourrapide.com    1259\n",
       "@cuvox.de          1202\n",
       "@gustr.com         1179\n",
       "                   ... \n",
       "@lrabg.com            1\n",
       "@mrytw.com            1\n",
       "@ugtav.com            1\n",
       "@hqhll.com            1\n",
       "@iuxiw.com            1\n",
       "Name: domain, Length: 1184, dtype: int64"
      ]
     },
     "execution_count": 429,
     "metadata": {},
     "output_type": "execute_result"
    }
   ],
   "source": [
    "# https://stackoverflow.com/questions/5629907/find-email-domain-in-address-with-regular-expressions\n",
    "# https://stackoverflow.com/questions/53962844/applying-regex-across-entire-column-of-a-dataframe\n",
    "# Extract just the domain from each email address\n",
    "import re\n",
    "labeled_data['domain'] = [re.search('@[\\w.]+', str(x))[0] for x in labeled_data['email']]\n",
    "labeled_data['domain'].value_counts()"
   ]
  },
  {
   "cell_type": "code",
   "execution_count": 430,
   "metadata": {},
   "outputs": [],
   "source": [
    "# Determine with left join if the inviter of a user is an adopted user or not\n",
    "labeled_data['invited_by_user_id'] = labeled_data['invited_by_user_id'].astype('Int64').fillna(0)\n",
    "df_right = labeled_data[['object_id', 'adopted_user']]\n",
    "labeled_data = labeled_data.merge(df_right, left_on='invited_by_user_id', right_on='object_id', \n",
    "                   how='left', suffixes=('_left', '_right'))\n",
    "labeled_data.rename(columns={'object_id_left': 'object_id', 'invited_by_user_id': 'inviter_id', \n",
    "                             'adopted_user_left': 'adopted_user', 'object_id_right': 'inviter_id_dup',\n",
    "                             'adopted_user_right': 'inviter_is_adopted_user'}, inplace=True)\n",
    "labeled_data['inviter_is_adopted_user'] = labeled_data['inviter_is_adopted_user'].fillna(0).astype('int')"
   ]
  },
  {
   "cell_type": "code",
   "execution_count": 431,
   "metadata": {},
   "outputs": [],
   "source": [
    "# New column for if user is invited or not\n",
    "import numpy as np\n",
    "labeled_data['invited'] = np.ceil(labeled_data['inviter_id']/max(labeled_data['inviter_id'])).astype('int')"
   ]
  },
  {
   "cell_type": "code",
   "execution_count": 432,
   "metadata": {},
   "outputs": [],
   "source": [
    "import datetime\n",
    "import time\n",
    "\n",
    "# New column, account creation time as unix\n",
    "labeled_data['creation_time'] = pd.to_datetime(labeled_data['creation_time'])\n",
    "labeled_data['creation_time_unix'] = [time.mktime(x.timetuple()) for x in labeled_data['creation_time']]\n",
    "# Impute the oldest last session unix value for NaN's (user's with no last session value)\n",
    "labeled_data.last_session_creation_time.fillna(min(labeled_data.last_session_creation_time), inplace=True)"
   ]
  },
  {
   "cell_type": "code",
   "execution_count": 433,
   "metadata": {},
   "outputs": [],
   "source": [
    "scaler = MinMaxScaler()\n",
    "labeled_data[['creation_time_scaled', 'last_session_creation_time_scaled']] = \\\n",
    "    scaler.fit_transform(labeled_data[['creation_time_unix', 'last_session_creation_time']] )"
   ]
  },
  {
   "cell_type": "code",
   "execution_count": 434,
   "metadata": {},
   "outputs": [
    {
     "data": {
      "text/html": [
       "<div>\n",
       "<style scoped>\n",
       "    .dataframe tbody tr th:only-of-type {\n",
       "        vertical-align: middle;\n",
       "    }\n",
       "\n",
       "    .dataframe tbody tr th {\n",
       "        vertical-align: top;\n",
       "    }\n",
       "\n",
       "    .dataframe thead th {\n",
       "        text-align: right;\n",
       "    }\n",
       "</style>\n",
       "<table border=\"1\" class=\"dataframe\">\n",
       "  <thead>\n",
       "    <tr style=\"text-align: right;\">\n",
       "      <th></th>\n",
       "      <th>object_id</th>\n",
       "      <th>creation_time</th>\n",
       "      <th>name</th>\n",
       "      <th>email</th>\n",
       "      <th>creation_source</th>\n",
       "      <th>last_session_creation_time</th>\n",
       "      <th>opted_in_to_mailing_list</th>\n",
       "      <th>enabled_for_marketing_drip</th>\n",
       "      <th>org_id</th>\n",
       "      <th>inviter_id</th>\n",
       "      <th>adopted_user</th>\n",
       "      <th>domain</th>\n",
       "      <th>inviter_id_dup</th>\n",
       "      <th>inviter_is_adopted_user</th>\n",
       "      <th>invited</th>\n",
       "      <th>creation_time_unix</th>\n",
       "      <th>creation_time_scaled</th>\n",
       "      <th>last_session_creation_time_scaled</th>\n",
       "    </tr>\n",
       "  </thead>\n",
       "  <tbody>\n",
       "    <tr>\n",
       "      <th>0</th>\n",
       "      <td>1</td>\n",
       "      <td>2014-04-22 03:53:30</td>\n",
       "      <td>Clausen August</td>\n",
       "      <td>AugustCClausen@yahoo.com</td>\n",
       "      <td>GUEST_INVITE</td>\n",
       "      <td>1.398139e+09</td>\n",
       "      <td>1</td>\n",
       "      <td>0</td>\n",
       "      <td>11</td>\n",
       "      <td>10803</td>\n",
       "      <td>0</td>\n",
       "      <td>@yahoo.com</td>\n",
       "      <td>10803.0</td>\n",
       "      <td>0</td>\n",
       "      <td>1</td>\n",
       "      <td>1.398164e+09</td>\n",
       "      <td>0.946796</td>\n",
       "      <td>0.938254</td>\n",
       "    </tr>\n",
       "    <tr>\n",
       "      <th>1</th>\n",
       "      <td>2</td>\n",
       "      <td>2013-11-15 03:45:04</td>\n",
       "      <td>Poole Matthew</td>\n",
       "      <td>MatthewPoole@gustr.com</td>\n",
       "      <td>ORG_INVITE</td>\n",
       "      <td>1.396238e+09</td>\n",
       "      <td>0</td>\n",
       "      <td>0</td>\n",
       "      <td>1</td>\n",
       "      <td>316</td>\n",
       "      <td>1</td>\n",
       "      <td>@gustr.com</td>\n",
       "      <td>316.0</td>\n",
       "      <td>0</td>\n",
       "      <td>1</td>\n",
       "      <td>1.384516e+09</td>\n",
       "      <td>0.730397</td>\n",
       "      <td>0.908366</td>\n",
       "    </tr>\n",
       "    <tr>\n",
       "      <th>2</th>\n",
       "      <td>3</td>\n",
       "      <td>2013-03-19 23:14:52</td>\n",
       "      <td>Bottrill Mitchell</td>\n",
       "      <td>MitchellBottrill@gustr.com</td>\n",
       "      <td>ORG_INVITE</td>\n",
       "      <td>1.363735e+09</td>\n",
       "      <td>0</td>\n",
       "      <td>0</td>\n",
       "      <td>94</td>\n",
       "      <td>1525</td>\n",
       "      <td>0</td>\n",
       "      <td>@gustr.com</td>\n",
       "      <td>1525.0</td>\n",
       "      <td>1</td>\n",
       "      <td>1</td>\n",
       "      <td>1.363760e+09</td>\n",
       "      <td>0.401302</td>\n",
       "      <td>0.397434</td>\n",
       "    </tr>\n",
       "    <tr>\n",
       "      <th>3</th>\n",
       "      <td>4</td>\n",
       "      <td>2013-05-21 08:09:28</td>\n",
       "      <td>Clausen Nicklas</td>\n",
       "      <td>NicklasSClausen@yahoo.com</td>\n",
       "      <td>GUEST_INVITE</td>\n",
       "      <td>1.369210e+09</td>\n",
       "      <td>0</td>\n",
       "      <td>0</td>\n",
       "      <td>1</td>\n",
       "      <td>5151</td>\n",
       "      <td>0</td>\n",
       "      <td>@yahoo.com</td>\n",
       "      <td>5151.0</td>\n",
       "      <td>1</td>\n",
       "      <td>1</td>\n",
       "      <td>1.369149e+09</td>\n",
       "      <td>0.486746</td>\n",
       "      <td>0.483504</td>\n",
       "    </tr>\n",
       "    <tr>\n",
       "      <th>4</th>\n",
       "      <td>5</td>\n",
       "      <td>2013-01-17 10:14:20</td>\n",
       "      <td>Raw Grace</td>\n",
       "      <td>GraceRaw@yahoo.com</td>\n",
       "      <td>GUEST_INVITE</td>\n",
       "      <td>1.358850e+09</td>\n",
       "      <td>0</td>\n",
       "      <td>0</td>\n",
       "      <td>193</td>\n",
       "      <td>5240</td>\n",
       "      <td>0</td>\n",
       "      <td>@yahoo.com</td>\n",
       "      <td>5240.0</td>\n",
       "      <td>1</td>\n",
       "      <td>1</td>\n",
       "      <td>1.358446e+09</td>\n",
       "      <td>0.317052</td>\n",
       "      <td>0.320639</td>\n",
       "    </tr>\n",
       "  </tbody>\n",
       "</table>\n",
       "</div>"
      ],
      "text/plain": [
       "   object_id       creation_time               name  \\\n",
       "0          1 2014-04-22 03:53:30     Clausen August   \n",
       "1          2 2013-11-15 03:45:04      Poole Matthew   \n",
       "2          3 2013-03-19 23:14:52  Bottrill Mitchell   \n",
       "3          4 2013-05-21 08:09:28    Clausen Nicklas   \n",
       "4          5 2013-01-17 10:14:20          Raw Grace   \n",
       "\n",
       "                        email creation_source  last_session_creation_time  \\\n",
       "0    AugustCClausen@yahoo.com    GUEST_INVITE                1.398139e+09   \n",
       "1      MatthewPoole@gustr.com      ORG_INVITE                1.396238e+09   \n",
       "2  MitchellBottrill@gustr.com      ORG_INVITE                1.363735e+09   \n",
       "3   NicklasSClausen@yahoo.com    GUEST_INVITE                1.369210e+09   \n",
       "4          GraceRaw@yahoo.com    GUEST_INVITE                1.358850e+09   \n",
       "\n",
       "   opted_in_to_mailing_list  enabled_for_marketing_drip  org_id  inviter_id  \\\n",
       "0                         1                           0      11       10803   \n",
       "1                         0                           0       1         316   \n",
       "2                         0                           0      94        1525   \n",
       "3                         0                           0       1        5151   \n",
       "4                         0                           0     193        5240   \n",
       "\n",
       "   adopted_user      domain  inviter_id_dup  inviter_is_adopted_user  invited  \\\n",
       "0             0  @yahoo.com         10803.0                        0        1   \n",
       "1             1  @gustr.com           316.0                        0        1   \n",
       "2             0  @gustr.com          1525.0                        1        1   \n",
       "3             0  @yahoo.com          5151.0                        1        1   \n",
       "4             0  @yahoo.com          5240.0                        1        1   \n",
       "\n",
       "   creation_time_unix  creation_time_scaled  last_session_creation_time_scaled  \n",
       "0        1.398164e+09              0.946796                           0.938254  \n",
       "1        1.384516e+09              0.730397                           0.908366  \n",
       "2        1.363760e+09              0.401302                           0.397434  \n",
       "3        1.369149e+09              0.486746                           0.483504  \n",
       "4        1.358446e+09              0.317052                           0.320639  "
      ]
     },
     "execution_count": 434,
     "metadata": {},
     "output_type": "execute_result"
    }
   ],
   "source": [
    "labeled_data.head()"
   ]
  },
  {
   "cell_type": "code",
   "execution_count": 485,
   "metadata": {},
   "outputs": [],
   "source": [
    "X = labeled_data[['domain', 'creation_source', 'org_id',\n",
    "       'opted_in_to_mailing_list', 'enabled_for_marketing_drip',\n",
    "       'inviter_is_adopted_user', 'invited',\n",
    "       'creation_time_scaled', 'last_session_creation_time_scaled']]\n",
    "y = labeled_data['adopted_user']\n",
    "\n",
    "X_train, X_test, y_train, y_test = train_test_split(X, y, train_size=0.7, shuffle=True)"
   ]
  },
  {
   "cell_type": "code",
   "execution_count": 486,
   "metadata": {},
   "outputs": [],
   "source": [
    "tar_enc = ce.TargetEncoder(cols=['domain', 'creation_source', 'org_id'],\n",
    "       min_samples_leaf=5, smoothing=3).fit(X_train, y_train)\n",
    "X_train = tar_enc.transform(X_train)\n",
    "X_test = tar_enc.transform(X_test)"
   ]
  },
  {
   "cell_type": "code",
   "execution_count": 487,
   "metadata": {},
   "outputs": [
    {
     "data": {
      "text/html": [
       "<div>\n",
       "<style scoped>\n",
       "    .dataframe tbody tr th:only-of-type {\n",
       "        vertical-align: middle;\n",
       "    }\n",
       "\n",
       "    .dataframe tbody tr th {\n",
       "        vertical-align: top;\n",
       "    }\n",
       "\n",
       "    .dataframe thead th {\n",
       "        text-align: right;\n",
       "    }\n",
       "</style>\n",
       "<table border=\"1\" class=\"dataframe\">\n",
       "  <thead>\n",
       "    <tr style=\"text-align: right;\">\n",
       "      <th></th>\n",
       "      <th>domain</th>\n",
       "      <th>creation_source</th>\n",
       "      <th>org_id</th>\n",
       "      <th>opted_in_to_mailing_list</th>\n",
       "      <th>enabled_for_marketing_drip</th>\n",
       "      <th>inviter_is_adopted_user</th>\n",
       "      <th>invited</th>\n",
       "      <th>creation_time_scaled</th>\n",
       "      <th>last_session_creation_time_scaled</th>\n",
       "    </tr>\n",
       "  </thead>\n",
       "  <tbody>\n",
       "    <tr>\n",
       "      <th>6440</th>\n",
       "      <td>0.106519</td>\n",
       "      <td>0.181818</td>\n",
       "      <td>0.058065</td>\n",
       "      <td>0</td>\n",
       "      <td>0</td>\n",
       "      <td>0</td>\n",
       "      <td>1</td>\n",
       "      <td>0.978501</td>\n",
       "      <td>0.972404</td>\n",
       "    </tr>\n",
       "    <tr>\n",
       "      <th>7259</th>\n",
       "      <td>0.106519</td>\n",
       "      <td>0.080429</td>\n",
       "      <td>0.148936</td>\n",
       "      <td>1</td>\n",
       "      <td>0</td>\n",
       "      <td>0</td>\n",
       "      <td>0</td>\n",
       "      <td>0.291039</td>\n",
       "      <td>0.293491</td>\n",
       "    </tr>\n",
       "    <tr>\n",
       "      <th>4882</th>\n",
       "      <td>0.165358</td>\n",
       "      <td>0.138889</td>\n",
       "      <td>0.230768</td>\n",
       "      <td>1</td>\n",
       "      <td>0</td>\n",
       "      <td>0</td>\n",
       "      <td>1</td>\n",
       "      <td>0.577586</td>\n",
       "      <td>0.572207</td>\n",
       "    </tr>\n",
       "    <tr>\n",
       "      <th>9907</th>\n",
       "      <td>0.126984</td>\n",
       "      <td>0.138889</td>\n",
       "      <td>0.095455</td>\n",
       "      <td>0</td>\n",
       "      <td>0</td>\n",
       "      <td>0</td>\n",
       "      <td>1</td>\n",
       "      <td>0.861085</td>\n",
       "      <td>0.857295</td>\n",
       "    </tr>\n",
       "    <tr>\n",
       "      <th>7784</th>\n",
       "      <td>0.165358</td>\n",
       "      <td>0.179487</td>\n",
       "      <td>0.133333</td>\n",
       "      <td>0</td>\n",
       "      <td>0</td>\n",
       "      <td>0</td>\n",
       "      <td>0</td>\n",
       "      <td>0.460831</td>\n",
       "      <td>0.457811</td>\n",
       "    </tr>\n",
       "  </tbody>\n",
       "</table>\n",
       "</div>"
      ],
      "text/plain": [
       "        domain  creation_source    org_id  opted_in_to_mailing_list  \\\n",
       "6440  0.106519         0.181818  0.058065                         0   \n",
       "7259  0.106519         0.080429  0.148936                         1   \n",
       "4882  0.165358         0.138889  0.230768                         1   \n",
       "9907  0.126984         0.138889  0.095455                         0   \n",
       "7784  0.165358         0.179487  0.133333                         0   \n",
       "\n",
       "      enabled_for_marketing_drip  inviter_is_adopted_user  invited  \\\n",
       "6440                           0                        0        1   \n",
       "7259                           0                        0        0   \n",
       "4882                           0                        0        1   \n",
       "9907                           0                        0        1   \n",
       "7784                           0                        0        0   \n",
       "\n",
       "      creation_time_scaled  last_session_creation_time_scaled  \n",
       "6440              0.978501                           0.972404  \n",
       "7259              0.291039                           0.293491  \n",
       "4882              0.577586                           0.572207  \n",
       "9907              0.861085                           0.857295  \n",
       "7784              0.460831                           0.457811  "
      ]
     },
     "execution_count": 487,
     "metadata": {},
     "output_type": "execute_result"
    }
   ],
   "source": [
    "X_train.head()"
   ]
  },
  {
   "cell_type": "code",
   "execution_count": 488,
   "metadata": {},
   "outputs": [
    {
     "name": "stdout",
     "output_type": "stream",
     "text": [
      "Before Counter({0: 7220, 1: 1180})\n",
      "After Counter({0: 7220, 1: 7220})\n"
     ]
    }
   ],
   "source": [
    "counter = Counter(y_train)\n",
    "print('Before', counter)\n",
    "smt = SMOTE()\n",
    "X_train_smt, y_train_smt = smt.fit_resample(X_train, y_train)\n",
    "counter = Counter(y_train_smt)\n",
    "print('After', counter)"
   ]
  },
  {
   "cell_type": "code",
   "execution_count": 489,
   "metadata": {},
   "outputs": [
    {
     "name": "stdout",
     "output_type": "stream",
     "text": [
      "RandomForestClassifier(max_features=None)\n"
     ]
    }
   ],
   "source": [
    "from sklearn.ensemble import RandomForestClassifier\n",
    "from sklearn.model_selection import GridSearchCV\n",
    "\n",
    "# Grid Search from: https://stackoverflow.com/questions/38151615/specific-cross-validation-with-random-forest\n",
    "clf = RandomForestClassifier()  \n",
    "param_grid = {'n_estimators': [10,30,50,70,100], 'max_depth': [None], 'max_features': [3,6,None],\n",
    "    'min_samples_leaf': [1,2,3]}\n",
    "\n",
    "grid_clf = GridSearchCV(clf, param_grid, cv=5)\n",
    "grid_clf.fit(X_train_smt, y_train_smt)\n",
    "\n",
    "print(grid_clf.best_estimator_)"
   ]
  },
  {
   "cell_type": "code",
   "execution_count": 490,
   "metadata": {},
   "outputs": [
    {
     "data": {
      "text/html": [
       "<div>\n",
       "<style scoped>\n",
       "    .dataframe tbody tr th:only-of-type {\n",
       "        vertical-align: middle;\n",
       "    }\n",
       "\n",
       "    .dataframe tbody tr th {\n",
       "        vertical-align: top;\n",
       "    }\n",
       "\n",
       "    .dataframe thead th {\n",
       "        text-align: right;\n",
       "    }\n",
       "</style>\n",
       "<table border=\"1\" class=\"dataframe\">\n",
       "  <thead>\n",
       "    <tr style=\"text-align: right;\">\n",
       "      <th></th>\n",
       "      <th>mean_fit_time</th>\n",
       "      <th>std_fit_time</th>\n",
       "      <th>mean_score_time</th>\n",
       "      <th>std_score_time</th>\n",
       "      <th>param_max_depth</th>\n",
       "      <th>param_max_features</th>\n",
       "      <th>param_min_samples_leaf</th>\n",
       "      <th>param_n_estimators</th>\n",
       "      <th>params</th>\n",
       "      <th>split0_test_score</th>\n",
       "      <th>split1_test_score</th>\n",
       "      <th>split2_test_score</th>\n",
       "      <th>split3_test_score</th>\n",
       "      <th>split4_test_score</th>\n",
       "      <th>mean_test_score</th>\n",
       "      <th>std_test_score</th>\n",
       "      <th>rank_test_score</th>\n",
       "    </tr>\n",
       "  </thead>\n",
       "  <tbody>\n",
       "    <tr>\n",
       "      <th>4</th>\n",
       "      <td>2.776350</td>\n",
       "      <td>0.241891</td>\n",
       "      <td>0.041976</td>\n",
       "      <td>0.004129</td>\n",
       "      <td>None</td>\n",
       "      <td>None</td>\n",
       "      <td>1</td>\n",
       "      <td>100</td>\n",
       "      <td>{'max_depth': None, 'max_features': None, 'min...</td>\n",
       "      <td>0.962604</td>\n",
       "      <td>0.987188</td>\n",
       "      <td>0.985457</td>\n",
       "      <td>0.982687</td>\n",
       "      <td>0.984072</td>\n",
       "      <td>0.980402</td>\n",
       "      <td>0.009023</td>\n",
       "      <td>1</td>\n",
       "    </tr>\n",
       "    <tr>\n",
       "      <th>3</th>\n",
       "      <td>1.789752</td>\n",
       "      <td>0.080278</td>\n",
       "      <td>0.039721</td>\n",
       "      <td>0.025950</td>\n",
       "      <td>None</td>\n",
       "      <td>None</td>\n",
       "      <td>1</td>\n",
       "      <td>70</td>\n",
       "      <td>{'max_depth': None, 'max_features': None, 'min...</td>\n",
       "      <td>0.961565</td>\n",
       "      <td>0.985111</td>\n",
       "      <td>0.985457</td>\n",
       "      <td>0.983033</td>\n",
       "      <td>0.984418</td>\n",
       "      <td>0.979917</td>\n",
       "      <td>0.009213</td>\n",
       "      <td>2</td>\n",
       "    </tr>\n",
       "    <tr>\n",
       "      <th>2</th>\n",
       "      <td>1.351769</td>\n",
       "      <td>0.060656</td>\n",
       "      <td>0.022491</td>\n",
       "      <td>0.004913</td>\n",
       "      <td>None</td>\n",
       "      <td>None</td>\n",
       "      <td>1</td>\n",
       "      <td>50</td>\n",
       "      <td>{'max_depth': None, 'max_features': None, 'min...</td>\n",
       "      <td>0.963296</td>\n",
       "      <td>0.983726</td>\n",
       "      <td>0.984418</td>\n",
       "      <td>0.981994</td>\n",
       "      <td>0.984072</td>\n",
       "      <td>0.979501</td>\n",
       "      <td>0.008145</td>\n",
       "      <td>3</td>\n",
       "    </tr>\n",
       "    <tr>\n",
       "      <th>6</th>\n",
       "      <td>0.709429</td>\n",
       "      <td>0.018237</td>\n",
       "      <td>0.013061</td>\n",
       "      <td>0.001022</td>\n",
       "      <td>None</td>\n",
       "      <td>None</td>\n",
       "      <td>2</td>\n",
       "      <td>30</td>\n",
       "      <td>{'max_depth': None, 'max_features': None, 'min...</td>\n",
       "      <td>0.962604</td>\n",
       "      <td>0.985803</td>\n",
       "      <td>0.984765</td>\n",
       "      <td>0.980956</td>\n",
       "      <td>0.983033</td>\n",
       "      <td>0.979432</td>\n",
       "      <td>0.008573</td>\n",
       "      <td>4</td>\n",
       "    </tr>\n",
       "    <tr>\n",
       "      <th>1</th>\n",
       "      <td>0.811691</td>\n",
       "      <td>0.025033</td>\n",
       "      <td>0.018473</td>\n",
       "      <td>0.008588</td>\n",
       "      <td>None</td>\n",
       "      <td>None</td>\n",
       "      <td>1</td>\n",
       "      <td>30</td>\n",
       "      <td>{'max_depth': None, 'max_features': None, 'min...</td>\n",
       "      <td>0.959834</td>\n",
       "      <td>0.984765</td>\n",
       "      <td>0.984765</td>\n",
       "      <td>0.982341</td>\n",
       "      <td>0.984072</td>\n",
       "      <td>0.979155</td>\n",
       "      <td>0.009701</td>\n",
       "      <td>5</td>\n",
       "    </tr>\n",
       "  </tbody>\n",
       "</table>\n",
       "</div>"
      ],
      "text/plain": [
       "   mean_fit_time  std_fit_time  mean_score_time  std_score_time  \\\n",
       "4       2.776350      0.241891         0.041976        0.004129   \n",
       "3       1.789752      0.080278         0.039721        0.025950   \n",
       "2       1.351769      0.060656         0.022491        0.004913   \n",
       "6       0.709429      0.018237         0.013061        0.001022   \n",
       "1       0.811691      0.025033         0.018473        0.008588   \n",
       "\n",
       "  param_max_depth param_max_features param_min_samples_leaf  \\\n",
       "4            None               None                      1   \n",
       "3            None               None                      1   \n",
       "2            None               None                      1   \n",
       "6            None               None                      2   \n",
       "1            None               None                      1   \n",
       "\n",
       "  param_n_estimators                                             params  \\\n",
       "4                100  {'max_depth': None, 'max_features': None, 'min...   \n",
       "3                 70  {'max_depth': None, 'max_features': None, 'min...   \n",
       "2                 50  {'max_depth': None, 'max_features': None, 'min...   \n",
       "6                 30  {'max_depth': None, 'max_features': None, 'min...   \n",
       "1                 30  {'max_depth': None, 'max_features': None, 'min...   \n",
       "\n",
       "   split0_test_score  split1_test_score  split2_test_score  split3_test_score  \\\n",
       "4           0.962604           0.987188           0.985457           0.982687   \n",
       "3           0.961565           0.985111           0.985457           0.983033   \n",
       "2           0.963296           0.983726           0.984418           0.981994   \n",
       "6           0.962604           0.985803           0.984765           0.980956   \n",
       "1           0.959834           0.984765           0.984765           0.982341   \n",
       "\n",
       "   split4_test_score  mean_test_score  std_test_score  rank_test_score  \n",
       "4           0.984072         0.980402        0.009023                1  \n",
       "3           0.984418         0.979917        0.009213                2  \n",
       "2           0.984072         0.979501        0.008145                3  \n",
       "6           0.983033         0.979432        0.008573                4  \n",
       "1           0.984072         0.979155        0.009701                5  "
      ]
     },
     "execution_count": 490,
     "metadata": {},
     "output_type": "execute_result"
    }
   ],
   "source": [
    "cv_res = pd.DataFrame(grid_clf.cv_results_)\n",
    "cv_res[cv_res['rank_test_score']<=5].sort_values(by=['rank_test_score'])"
   ]
  },
  {
   "cell_type": "code",
   "execution_count": 491,
   "metadata": {},
   "outputs": [
    {
     "name": "stdout",
     "output_type": "stream",
     "text": [
      "ACCURACY:  0.9488888888888889\n",
      "PRECISION:  0.7786259541984732\n",
      "RECALL:  0.8571428571428571\n",
      "F1:  0.8160000000000001\n"
     ]
    },
    {
     "data": {
      "text/plain": [
       "<AxesSubplot:title={'center':'Confusion matrix'}, xlabel='Predicted label', ylabel='True label'>"
      ]
     },
     "execution_count": 491,
     "metadata": {},
     "output_type": "execute_result"
    },
    {
     "data": {
      "image/png": "[encoded data removed]",
      "text/plain": [
       "<Figure size 432x288 with 2 Axes>"
      ]
     },
     "metadata": {
      "needs_background": "light"
     },
     "output_type": "display_data"
    }
   ],
   "source": [
    "from sklearn_evaluation import plot\n",
    "# Training the model on the training dataset\n",
    "# fit function is used to train the model using the training sets as parameters\n",
    "clf = RandomForestClassifier(max_depth = None, max_features=None, min_samples_leaf=1, n_estimators=100)\n",
    "clf.fit(X_train_smt, y_train_smt)\n",
    "  \n",
    "# performing predictions on the test dataset\n",
    "y_pred = clf.predict(X_test)\n",
    "\n",
    "# using metrics module for accuracy calculation\n",
    "print('ACCURACY: ', metrics.accuracy_score(y_test, y_pred))\n",
    "print('PRECISION: ', metrics.precision_score(y_test, y_pred))\n",
    "print('RECALL: ', metrics.recall_score(y_test, y_pred))\n",
    "print('F1: ', metrics.f1_score(y_test, y_pred))\n",
    "plot.confusion_matrix(y_test, y_pred)"
   ]
  },
  {
   "cell_type": "code",
   "execution_count": 492,
   "metadata": {},
   "outputs": [
    {
     "name": "stdout",
     "output_type": "stream",
     "text": [
      "Adopted users mean last session time scaled:  0.8923882944922542\n",
      "Unadopted users mean last session time scaled:  0.4045532783777767\n",
      "Adopted users mean creation time scaled:  0.4998419443792634\n",
      "Unadopted users mean creation time scaled:  0.5740180644395827\n"
     ]
    }
   ],
   "source": [
    "print('Adopted users mean last session time scaled: ',\\\n",
    "    labeled_data[labeled_data['adopted_user']==1]['last_session_creation_time_scaled'].mean())\n",
    "print('Unadopted users mean last session time scaled: ',\\\n",
    "    labeled_data[labeled_data['adopted_user']==0]['last_session_creation_time_scaled'].mean())\n",
    "print('Adopted users mean creation time scaled: ',\\\n",
    "    labeled_data[labeled_data['adopted_user']==1]['creation_time_scaled'].mean())\n",
    "print('Unadopted users mean creation time scaled: ',\\\n",
    "    labeled_data[labeled_data['adopted_user']==0]['creation_time_scaled'].mean())"
   ]
  },
  {
   "cell_type": "code",
   "execution_count": 493,
   "metadata": {},
   "outputs": [
    {
     "data": {
      "text/plain": [
       "Text(0, 0.5, 'Mean decrease in impurity')"
      ]
     },
     "execution_count": 493,
     "metadata": {},
     "output_type": "execute_result"
    },
    {
     "data": {
      "image/png": "[encoded data removed]",
      "text/plain": [
       "<Figure size 432x288 with 1 Axes>"
      ]
     },
     "metadata": {
      "needs_background": "light"
     },
     "output_type": "display_data"
    }
   ],
   "source": [
    "# feature importance\n",
    "# https://scikit-learn.org/stable/auto_examples/ensemble/plot_forest_importances.html\n",
    "import matplotlib.pyplot as plt\n",
    "importances = clf.feature_importances_\n",
    "std = np.std([tree.feature_importances_ for tree in clf.estimators_], axis=0)\n",
    "forest_importances = pd.Series(importances, index=X_train.columns).sort_values(ascending=False)\n",
    "\n",
    "fig, ax = plt.subplots()\n",
    "forest_importances.plot.bar(yerr=std, ax=ax)\n",
    "ax.set_title(\"Feature importances using MDI\")\n",
    "ax.set_ylabel(\"Mean decrease in impurity\")"
   ]
  },
  {
   "cell_type": "code",
   "execution_count": 494,
   "metadata": {},
   "outputs": [],
   "source": [
    "from sklearn.neighbors import KNeighborsClassifier\n",
    "neigh = KNeighborsClassifier(n_neighbors=3)\n",
    "neigh.fit(X_train_smt, y_train_smt)\n",
    "y_pred = neigh.predict(X_test)"
   ]
  },
  {
   "cell_type": "code",
   "execution_count": 495,
   "metadata": {},
   "outputs": [
    {
     "name": "stdout",
     "output_type": "stream",
     "text": [
      "ACCURACY:  0.9511111111111111\n",
      "PRECISION:  0.7884615384615384\n",
      "RECALL:  0.8613445378151261\n",
      "F1:  0.8232931726907632\n"
     ]
    },
    {
     "data": {
      "text/plain": [
       "<AxesSubplot:title={'center':'Confusion matrix'}, xlabel='Predicted label', ylabel='True label'>"
      ]
     },
     "execution_count": 495,
     "metadata": {},
     "output_type": "execute_result"
    },
    {
     "data": {
      "image/png": "[encoded data removed]",
      "text/plain": [
       "<Figure size 432x288 with 2 Axes>"
      ]
     },
     "metadata": {
      "needs_background": "light"
     },
     "output_type": "display_data"
    }
   ],
   "source": [
    "from sklearn_evaluation import plot\n",
    "print('ACCURACY: ', metrics.accuracy_score(y_test, y_pred))\n",
    "print('PRECISION: ', metrics.precision_score(y_test, y_pred))\n",
    "print('RECALL: ', metrics.recall_score(y_test, y_pred))\n",
    "print('F1: ', metrics.f1_score(y_test, y_pred))\n",
    "plot.confusion_matrix(y_test, y_pred)"
   ]
  }
 ],
 "metadata": {
  "kernelspec": {
   "display_name": "Python 3",
   "language": "python",
   "name": "python3"
  },
  "language_info": {
   "codemirror_mode": {
    "name": "ipython",
    "version": 3
   },
   "file_extension": ".py",
   "mimetype": "text/x-python",
   "name": "python",
   "nbconvert_exporter": "python",
   "pygments_lexer": "ipython3",
   "version": "3.10.2"
  },
  "orig_nbformat": 4,
  "vscode": {
   "interpreter": {
    "hash": "9f0d103aebe82dfbb47ec724a2ca4fd3dcb0c9038207abb072b7913218171667"
   }
  }
 },
 "nbformat": 4,
 "nbformat_minor": 2
}
