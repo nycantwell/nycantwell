{
 "cells": [
  {
   "cell_type": "markdown",
   "metadata": {},
   "source": [
    "QUESTIONS:\n",
    "\n",
    "/* Q10: Produce a list of facilities with a total revenue less than 1000.\n",
    "The output of facility name and total revenue, sorted by revenue. Remember\n",
    "that there's a different cost for guests and members! */\n",
    "\n",
    "/* Q11: Produce a report of members and who recommended them in alphabetic surname,firstname order */\n",
    "\n",
    "\n",
    "/* Q12: Find the facilities with their usage by member, but not guests */\n",
    "\n",
    "\n",
    "/* Q13: Find the facilities usage by month, but not guests */"
   ]
  },
  {
   "cell_type": "markdown",
   "metadata": {},
   "source": [
    "# Instructions\n",
    "\n",
    "- `sqlite_db_pythonsqlite.db` - This is the database file you are looking to use python to write SQL queries against.\n",
    "- `SQLTask Tier 2.sql` - This is a text file with the list of questions we are looking to answer via SQL queries on `sqlite_db_pythonsqlite.db`. "
   ]
  },
  {
   "cell_type": "code",
   "execution_count": 1,
   "metadata": {},
   "outputs": [],
   "source": [
    "import sqlite3"
   ]
  },
  {
   "cell_type": "code",
   "execution_count": 2,
   "metadata": {},
   "outputs": [
    {
     "name": "stdout",
     "output_type": "stream",
     "text": [
      "('Table Tennis', 180)\n",
      "('Snooker Table', 240)\n",
      "('Pool Table', 270)\n",
      "('Badminton Court', 1906.5)\n",
      "('Squash Court', 13468.0)\n",
      "('Tennis Court 1', 13860)\n",
      "('Tennis Court 2', 14310)\n",
      "('Massage Room 2', 14454.599999999995)\n",
      "('Massage Room 1', 50351.600000000275)\n"
     ]
    }
   ],
   "source": [
    "'''Q10: Produce a list of facilities with a total revenue less than 1000.\n",
    "The output of facility name and total revenue, sorted by revenue. Remember\n",
    "that there's a different cost for guests and members! '''\n",
    "\n",
    "con = sqlite3.connect('sqlite_db_pythonsqlite.db')\n",
    "cur = con.cursor()\n",
    "query = 'WITH fac_rev AS (SELECT f.name,\\\n",
    "    CASE WHEN b.memid=0 \\\n",
    "    THEN b.slots * f.guestcost \\\n",
    "    ELSE b.slots * f.membercost \\\n",
    "    END AS rev \\\n",
    "    FROM Bookings AS b \\\n",
    "    LEFT JOIN `Members` AS m ON b.memid = m.memid \\\n",
    "    LEFT JOIN `Facilities` AS f ON b.facid = f.facid) \\\n",
    "    SELECT name, SUM(rev) AS total_rev \\\n",
    "    FROM fac_rev \\\n",
    "    GROUP BY name \\\n",
    "    ORDER BY total_rev'\n",
    "\n",
    "for row in cur.execute(query):\n",
    "    print(row)\n",
    "con.close()"
   ]
  },
  {
   "cell_type": "code",
   "execution_count": 57,
   "metadata": {},
   "outputs": [
    {
     "name": "stdout",
     "output_type": "stream",
     "text": [
      "('Bader', 'Florence', 'Stibbons', 'Ponder')\n",
      "('Baker', 'Anne', 'Stibbons', 'Ponder')\n",
      "('Baker', 'Timothy', 'Farrell', 'Jemima')\n",
      "('Boothe', 'Tim', 'Rownam', 'Tim')\n",
      "('Butters', 'Gerald', 'Smith', 'Darren')\n",
      "('Coplin', 'Joan', 'Baker', 'Timothy')\n",
      "('Crumpet', 'Erica', 'Smith', 'Tracy')\n",
      "('Dare', 'Nancy', 'Joplette', 'Janice')\n",
      "('Genting', 'Matthew', 'Butters', 'Gerald')\n",
      "('Hunt', 'John', 'Purview', 'Millicent')\n",
      "('Jones', 'David', 'Joplette', 'Janice')\n",
      "('Jones', 'Douglas', 'Jones', 'David')\n",
      "('Joplette', 'Janice', 'Smith', 'Darren')\n",
      "('Mackenzie', 'Anna', 'Smith', 'Darren')\n",
      "('Owen', 'Charles', 'Smith', 'Darren')\n",
      "('Pinker', 'David', 'Farrell', 'Jemima')\n",
      "('Purview', 'Millicent', 'Smith', 'Tracy')\n",
      "('Rumney', 'Henrietta', 'Genting', 'Matthew')\n",
      "('Sarwin', 'Ramnaresh', 'Bader', 'Florence')\n",
      "('Smith', 'Jack', 'Smith', 'Darren')\n",
      "('Stibbons', 'Ponder', 'Tracy', 'Burton')\n",
      "('Worthington-Smyth', 'Henry', 'Smith', 'Tracy')\n"
     ]
    }
   ],
   "source": [
    "'''Q11: Produce a report of members and who recommended them in alphabetic surname,firstname order'''\n",
    "con = sqlite3.connect('sqlite_db_pythonsqlite.db')\n",
    "cur = con.cursor()\n",
    "query = 'SELECT m1.surname, m1.firstname, m2.surname, m2.firstname \\\n",
    "    FROM Members AS m1 \\\n",
    "    INNER JOIN Members m2 ON m1.recommendedby = m2.memid \\\n",
    "    ORDER BY m1.surname, m1.firstname'\n",
    "\n",
    "for row in cur.execute(query):\n",
    "    print(row)\n",
    "con.close()"
   ]
  },
  {
   "cell_type": "code",
   "execution_count": 63,
   "metadata": {},
   "outputs": [
    {
     "name": "stdout",
     "output_type": "stream",
     "text": [
      "('Tennis Court 1', 308)\n",
      "('Tennis Court 2', 276)\n",
      "('Badminton Court', 344)\n",
      "('Table Tennis', 385)\n",
      "('Massage Room 1', 421)\n",
      "('Massage Room 2', 27)\n",
      "('Squash Court', 195)\n",
      "('Snooker Table', 421)\n",
      "('Pool Table', 783)\n"
     ]
    }
   ],
   "source": [
    "'''Q12: Find the facilities with their usage by member, but not guests'''\n",
    "con = sqlite3.connect('sqlite_db_pythonsqlite.db')\n",
    "cur = con.cursor()\n",
    "query = 'SELECT (SELECT name FROM Facilities AS f WHERE f.facid=b.facid), \\\n",
    "    COUNT(*) \\\n",
    "    FROM Bookings AS b \\\n",
    "    WHERE memid!=0 \\\n",
    "    GROUP BY facid'\n",
    "\n",
    "for row in cur.execute(query):\n",
    "    print(row)\n",
    "con.close()"
   ]
  },
  {
   "cell_type": "code",
   "execution_count": null,
   "metadata": {},
   "outputs": [],
   "source": [
    "'''Q13: Find the facilities usage by month, but not guests'''\n",
    "con = sqlite3.connect('sqlite_db_pythonsqlite.db')\n",
    "cur = con.cursor()\n",
    "query = 'SELECT MONTH(b.starttime) AS Month, \\\n",
    "    COUNT(*) \\\n",
    "    FROM Bookings AS b \\\n",
    "    WHERE memid!=0 \\\n",
    "    GROUP BY Month'\n",
    "\n",
    "for row in cur.execute(query):\n",
    "    print(row)\n",
    "con.close()"
   ]
  }
 ],
 "metadata": {
  "interpreter": {
   "hash": "07d3f96871aa038c641a94b611343adecd2331386feecc9546385b30192b2d34"
  },
  "kernelspec": {
   "display_name": "Python 3.10.2 64-bit",
   "language": "python",
   "name": "python3"
  },
  "language_info": {
   "codemirror_mode": {
    "name": "ipython",
    "version": 3
   },
   "file_extension": ".py",
   "mimetype": "text/x-python",
   "name": "python",
   "nbconvert_exporter": "python",
   "pygments_lexer": "ipython3",
   "version": "3.10.2"
  },
  "orig_nbformat": 4
 },
 "nbformat": 4,
 "nbformat_minor": 2
}
