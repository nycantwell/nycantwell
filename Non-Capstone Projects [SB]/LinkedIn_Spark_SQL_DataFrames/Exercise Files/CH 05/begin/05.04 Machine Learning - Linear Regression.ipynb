{
 "cells": [
  {
   "cell_type": "code",
   "execution_count": 1,
   "metadata": {
    "collapsed": true
   },
   "outputs": [],
   "source": [
    "from pyspark.sql import SparkSession\n",
    "from pyspark.ml.regression import LinearRegression\n",
    "from pyspark.ml.feature import VectorAssembler"
   ]
  },
  {
   "cell_type": "code",
   "execution_count": 2,
   "metadata": {
    "collapsed": true
   },
   "outputs": [],
   "source": [
    "spark = SparkSession.builder.getOrCreate()"
   ]
  },
  {
   "cell_type": "code",
   "execution_count": 3,
   "metadata": {
    "collapsed": true
   },
   "outputs": [],
   "source": [
    "data_path = '/Users/natha/Desktop/bootcamp_repo-1/LinkedIn_Spark_SQL_DataFrames/Exercise Files/Data'\n",
    "file_path_no_header = data_path + \"/utilization.csv\"\n",
    "df_util = spark.read.format(\"csv\").option(\"header\", \"false\").option(\"inferSchema\",\"true\").load(file_path_no_header)\n",
    "\n",
    "df_util = df_util.withColumnRenamed(\"_c0\", \"event_datetime\") \\\n",
    "        .withColumnRenamed (\"_c1\", \"server_id\")       \\\n",
    "        .withColumnRenamed(\"_c2\", \"cpu_utilization\")  \\\n",
    "        .withColumnRenamed(\"_c3\", \"free_memory\")      \\\n",
    "        .withColumnRenamed(\"_c4\", \"session_count\")"
   ]
  },
  {
   "cell_type": "code",
   "execution_count": 4,
   "metadata": {},
   "outputs": [
    {
     "name": "stdout",
     "output_type": "stream",
     "text": [
      "+-------------------+---------+---------------+-----------+-------------+--------+\n",
      "|     event_datetime|server_id|cpu_utilization|free_memory|session_count|features|\n",
      "+-------------------+---------+---------------+-----------+-------------+--------+\n",
      "|03/05/2019 08:06:14|      100|           0.57|       0.51|           47|  [0.57]|\n",
      "|03/05/2019 08:11:14|      100|           0.47|       0.62|           43|  [0.47]|\n",
      "|03/05/2019 08:16:14|      100|           0.56|       0.57|           62|  [0.56]|\n",
      "|03/05/2019 08:21:14|      100|           0.57|       0.56|           50|  [0.57]|\n",
      "|03/05/2019 08:26:14|      100|           0.35|       0.46|           43|  [0.35]|\n",
      "|03/05/2019 08:31:14|      100|           0.41|       0.58|           48|  [0.41]|\n",
      "|03/05/2019 08:36:14|      100|           0.57|       0.35|           58|  [0.57]|\n",
      "|03/05/2019 08:41:14|      100|           0.41|        0.4|           58|  [0.41]|\n",
      "|03/05/2019 08:46:14|      100|           0.53|       0.35|           62|  [0.53]|\n",
      "|03/05/2019 08:51:14|      100|           0.51|        0.6|           45|  [0.51]|\n",
      "|03/05/2019 08:56:14|      100|           0.32|       0.37|           47|  [0.32]|\n",
      "|03/05/2019 09:01:14|      100|           0.62|       0.59|           60|  [0.62]|\n",
      "|03/05/2019 09:06:14|      100|           0.66|       0.72|           57|  [0.66]|\n",
      "|03/05/2019 09:11:14|      100|           0.54|       0.54|           44|  [0.54]|\n",
      "|03/05/2019 09:16:14|      100|           0.29|        0.4|           47|  [0.29]|\n",
      "|03/05/2019 09:21:14|      100|           0.43|       0.68|           66|  [0.43]|\n",
      "|03/05/2019 09:26:14|      100|           0.49|       0.66|           65|  [0.49]|\n",
      "|03/05/2019 09:31:14|      100|           0.64|       0.55|           66|  [0.64]|\n",
      "|03/05/2019 09:36:14|      100|           0.42|        0.6|           42|  [0.42]|\n",
      "|03/05/2019 09:41:14|      100|           0.55|       0.59|           63|  [0.55]|\n",
      "+-------------------+---------+---------------+-----------+-------------+--------+\n",
      "only showing top 20 rows\n",
      "\n"
     ]
    }
   ],
   "source": [
    "vectorAssembler = VectorAssembler(inputCols=[\"cpu_utilization\"], outputCol=\"features\")\n",
    "df_vutil = vectorAssembler.transform(df_util)\n",
    "df_vutil.show()"
   ]
  },
  {
   "cell_type": "code",
   "execution_count": 5,
   "metadata": {
    "collapsed": true
   },
   "outputs": [],
   "source": [
    "lr = LinearRegression(featuresCol=\"features\",labelCol=\"session_count\")"
   ]
  },
  {
   "cell_type": "code",
   "execution_count": 8,
   "metadata": {
    "collapsed": true
   },
   "outputs": [],
   "source": [
    "lrModel = lr.fit(df_vutil)"
   ]
  },
  {
   "cell_type": "code",
   "execution_count": 9,
   "metadata": {},
   "outputs": [
    {
     "data": {
      "text/plain": [
       "DenseVector([47.024])"
      ]
     },
     "execution_count": 9,
     "metadata": {},
     "output_type": "execute_result"
    }
   ],
   "source": [
    "lrModel.coefficients"
   ]
  },
  {
   "cell_type": "code",
   "execution_count": 10,
   "metadata": {},
   "outputs": [
    {
     "data": {
      "text/plain": [
       "40.41695103553592"
      ]
     },
     "execution_count": 10,
     "metadata": {},
     "output_type": "execute_result"
    }
   ],
   "source": [
    "lrModel.intercept"
   ]
  },
  {
   "cell_type": "code",
   "execution_count": 11,
   "metadata": {},
   "outputs": [
    {
     "data": {
      "text/plain": [
       "12.837990225931861"
      ]
     },
     "execution_count": 11,
     "metadata": {},
     "output_type": "execute_result"
    }
   ],
   "source": [
    "lrModel.summary.rootMeanSquaredError"
   ]
  }
 ],
 "metadata": {
  "kernelspec": {
   "display_name": "Python 3",
   "language": "python",
   "name": "python3"
  },
  "language_info": {
   "codemirror_mode": {
    "name": "ipython",
    "version": 3
   },
   "file_extension": ".py",
   "mimetype": "text/x-python",
   "name": "python",
   "nbconvert_exporter": "python",
   "pygments_lexer": "ipython3",
   "version": "3.10.2"
  },
  "vscode": {
   "interpreter": {
    "hash": "9f0d103aebe82dfbb47ec724a2ca4fd3dcb0c9038207abb072b7913218171667"
   }
  }
 },
 "nbformat": 4,
 "nbformat_minor": 2
}
