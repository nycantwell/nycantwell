{
 "cells": [
  {
   "cell_type": "code",
   "execution_count": 2,
   "metadata": {},
   "outputs": [],
   "source": [
    "from pyspark.sql import SparkSession\n",
    "spark = SparkSession.builder.getOrCreate()\n",
    "\n",
    "data_path = '/Users/natha/Desktop/bootcamp_repo-1/LinkedIn_Spark_SQL_DataFrames/Exercise Files/Data'\n",
    "file_path = data_path + \"/location_temp.csv\"\n",
    "df1 = spark.read.format(\"csv\").option(\"header\", \"true\").load(file_path)\n",
    "file_path_no_header = data_path + \"/utilization.csv\"\n",
    "df2 = spark.read.format(\"csv\").option(\"header\", \"false\").option(\"inferSchema\",\"true\").load(file_path_no_header)\n",
    "\n",
    "df2 = df2.withColumnRenamed(\"_c0\", \"event_datetime\") \\\n",
    "        .withColumnRenamed (\"_c1\", \"server_id\")       \\\n",
    "        .withColumnRenamed(\"_c2\", \"cpu_utilization\")  \\\n",
    "        .withColumnRenamed(\"_c3\", \"free_memory\")      \\\n",
    "        .withColumnRenamed(\"_c4\", \"session_count\")"
   ]
  },
  {
   "cell_type": "code",
   "execution_count": null,
   "metadata": {
    "collapsed": true
   },
   "outputs": [],
   "source": [
    "#json_df2_path = data_path + \"/utilization.json\"\n",
    "#df2 = spark.read.format(\"json\").load(json_df2_path)"
   ]
  },
  {
   "cell_type": "code",
   "execution_count": 4,
   "metadata": {},
   "outputs": [
    {
     "data": {
      "text/plain": [
       "[Row(event_datetime='03/05/2019 08:06:14', server_id=100, cpu_utilization=0.57, free_memory=0.51, session_count=47),\n",
       " Row(event_datetime='03/05/2019 08:11:14', server_id=100, cpu_utilization=0.47, free_memory=0.62, session_count=43),\n",
       " Row(event_datetime='03/05/2019 08:16:14', server_id=100, cpu_utilization=0.56, free_memory=0.57, session_count=62),\n",
       " Row(event_datetime='03/05/2019 08:21:14', server_id=100, cpu_utilization=0.57, free_memory=0.56, session_count=50),\n",
       " Row(event_datetime='03/05/2019 08:26:14', server_id=100, cpu_utilization=0.35, free_memory=0.46, session_count=43),\n",
       " Row(event_datetime='03/05/2019 08:31:14', server_id=100, cpu_utilization=0.41, free_memory=0.58, session_count=48),\n",
       " Row(event_datetime='03/05/2019 08:36:14', server_id=100, cpu_utilization=0.57, free_memory=0.35, session_count=58),\n",
       " Row(event_datetime='03/05/2019 08:41:14', server_id=100, cpu_utilization=0.41, free_memory=0.4, session_count=58),\n",
       " Row(event_datetime='03/05/2019 08:46:14', server_id=100, cpu_utilization=0.53, free_memory=0.35, session_count=62),\n",
       " Row(event_datetime='03/05/2019 08:51:14', server_id=100, cpu_utilization=0.51, free_memory=0.6, session_count=45),\n",
       " Row(event_datetime='03/05/2019 08:56:14', server_id=100, cpu_utilization=0.32, free_memory=0.37, session_count=47),\n",
       " Row(event_datetime='03/05/2019 09:01:14', server_id=100, cpu_utilization=0.62, free_memory=0.59, session_count=60),\n",
       " Row(event_datetime='03/05/2019 09:06:14', server_id=100, cpu_utilization=0.66, free_memory=0.72, session_count=57),\n",
       " Row(event_datetime='03/05/2019 09:11:14', server_id=100, cpu_utilization=0.54, free_memory=0.54, session_count=44),\n",
       " Row(event_datetime='03/05/2019 09:16:14', server_id=100, cpu_utilization=0.29, free_memory=0.4, session_count=47),\n",
       " Row(event_datetime='03/05/2019 09:21:14', server_id=100, cpu_utilization=0.43, free_memory=0.68, session_count=66),\n",
       " Row(event_datetime='03/05/2019 09:26:14', server_id=100, cpu_utilization=0.49, free_memory=0.66, session_count=65),\n",
       " Row(event_datetime='03/05/2019 09:31:14', server_id=100, cpu_utilization=0.64, free_memory=0.55, session_count=66),\n",
       " Row(event_datetime='03/05/2019 09:36:14', server_id=100, cpu_utilization=0.42, free_memory=0.6, session_count=42),\n",
       " Row(event_datetime='03/05/2019 09:41:14', server_id=100, cpu_utilization=0.55, free_memory=0.59, session_count=63)]"
      ]
     },
     "execution_count": 4,
     "metadata": {},
     "output_type": "execute_result"
    }
   ],
   "source": [
    "df2.head(20)"
   ]
  },
  {
   "cell_type": "code",
   "execution_count": 5,
   "metadata": {},
   "outputs": [
    {
     "name": "stdout",
     "output_type": "stream",
     "text": [
      "+-------------------+---------+---------------+-----------+-------------+\n",
      "|     event_datetime|server_id|cpu_utilization|free_memory|session_count|\n",
      "+-------------------+---------+---------------+-----------+-------------+\n",
      "|03/05/2019 08:06:14|      100|           0.57|       0.51|           47|\n",
      "|03/05/2019 08:11:14|      100|           0.47|       0.62|           43|\n",
      "|03/05/2019 08:16:14|      100|           0.56|       0.57|           62|\n",
      "|03/05/2019 08:21:14|      100|           0.57|       0.56|           50|\n",
      "|03/05/2019 08:26:14|      100|           0.35|       0.46|           43|\n",
      "|03/05/2019 08:31:14|      100|           0.41|       0.58|           48|\n",
      "|03/05/2019 08:36:14|      100|           0.57|       0.35|           58|\n",
      "|03/05/2019 08:41:14|      100|           0.41|        0.4|           58|\n",
      "|03/05/2019 08:46:14|      100|           0.53|       0.35|           62|\n",
      "|03/05/2019 08:51:14|      100|           0.51|        0.6|           45|\n",
      "+-------------------+---------+---------------+-----------+-------------+\n",
      "only showing top 10 rows\n",
      "\n"
     ]
    }
   ],
   "source": [
    "df2.show(10)"
   ]
  },
  {
   "cell_type": "code",
   "execution_count": 6,
   "metadata": {},
   "outputs": [
    {
     "data": {
      "text/plain": [
       "500000"
      ]
     },
     "execution_count": 6,
     "metadata": {},
     "output_type": "execute_result"
    }
   ],
   "source": [
    "df2.count()"
   ]
  },
  {
   "cell_type": "code",
   "execution_count": 7,
   "metadata": {},
   "outputs": [
    {
     "data": {
      "text/plain": [
       "['event_datetime',\n",
       " 'server_id',\n",
       " 'cpu_utilization',\n",
       " 'free_memory',\n",
       " 'session_count']"
      ]
     },
     "execution_count": 7,
     "metadata": {},
     "output_type": "execute_result"
    }
   ],
   "source": [
    "df2.columns"
   ]
  },
  {
   "cell_type": "code",
   "execution_count": 8,
   "metadata": {},
   "outputs": [
    {
     "data": {
      "text/plain": [
       "DataFrame[summary: string, event_datetime: string, server_id: string, cpu_utilization: string, free_memory: string, session_count: string]"
      ]
     },
     "execution_count": 8,
     "metadata": {},
     "output_type": "execute_result"
    }
   ],
   "source": [
    "df2.describe()"
   ]
  },
  {
   "cell_type": "code",
   "execution_count": 9,
   "metadata": {
    "collapsed": true
   },
   "outputs": [],
   "source": [
    "df2_sample = df2.sample(False,fraction=0.1)"
   ]
  },
  {
   "cell_type": "code",
   "execution_count": 10,
   "metadata": {},
   "outputs": [
    {
     "name": "stdout",
     "output_type": "stream",
     "text": [
      "+-------------------+---------+---------------+-----------+-------------+\n",
      "|     event_datetime|server_id|cpu_utilization|free_memory|session_count|\n",
      "+-------------------+---------+---------------+-----------+-------------+\n",
      "|03/05/2019 10:31:14|      100|           0.36|       0.35|           61|\n",
      "|03/05/2019 10:36:14|      100|           0.62|       0.36|           50|\n",
      "|03/05/2019 11:31:14|      100|           0.66|        0.6|           56|\n",
      "|03/05/2019 12:16:14|      100|            0.5|        0.5|           51|\n",
      "|03/05/2019 13:21:14|      100|            0.4|       0.55|           43|\n",
      "|03/05/2019 14:06:14|      100|           0.33|       0.53|           44|\n",
      "|03/05/2019 14:26:14|      100|           0.36|       0.55|           53|\n",
      "|03/05/2019 15:01:14|      100|           0.39|       0.52|           48|\n",
      "|03/05/2019 15:06:14|      100|           0.55|       0.71|           66|\n",
      "|03/05/2019 16:36:14|      100|           0.49|       0.66|           71|\n",
      "+-------------------+---------+---------------+-----------+-------------+\n",
      "only showing top 10 rows\n",
      "\n"
     ]
    }
   ],
   "source": [
    "df2_sample.show(10)"
   ]
  },
  {
   "cell_type": "code",
   "execution_count": 11,
   "metadata": {
    "collapsed": true
   },
   "outputs": [],
   "source": [
    "df2_sort = df2_sample.sort('event_datetime')"
   ]
  },
  {
   "cell_type": "code",
   "execution_count": 12,
   "metadata": {},
   "outputs": [
    {
     "name": "stdout",
     "output_type": "stream",
     "text": [
      "+-------------------+---------+---------------+-----------+-------------+\n",
      "|     event_datetime|server_id|cpu_utilization|free_memory|session_count|\n",
      "+-------------------+---------+---------------+-----------+-------------+\n",
      "|03/05/2019 08:06:43|      117|           0.71|       0.61|           60|\n",
      "|03/05/2019 08:07:21|      138|           0.24|       0.68|           59|\n",
      "|03/05/2019 08:07:33|      144|           0.86|       0.16|           83|\n",
      "|03/05/2019 08:11:24|      106|           0.32|       0.56|           59|\n",
      "|03/05/2019 08:11:33|      111|           0.75|       0.28|           48|\n",
      "|03/05/2019 08:11:36|      113|           0.78|       0.38|           83|\n",
      "|03/05/2019 08:11:58|      126|           0.65|       0.12|           83|\n",
      "|03/05/2019 08:12:01|      128|           0.61|       0.29|           59|\n",
      "|03/05/2019 08:12:25|      140|           0.48|       0.36|           65|\n",
      "|03/05/2019 08:16:16|      101|           0.77|       0.33|          100|\n",
      "|03/05/2019 08:16:24|      106|           0.62|       0.58|           36|\n",
      "|03/05/2019 08:16:34|      112|           0.87|        0.1|           64|\n",
      "|03/05/2019 08:17:00|      127|           0.71|       0.19|           58|\n",
      "|03/05/2019 08:17:15|      135|           0.61|       0.55|           54|\n",
      "|03/05/2019 08:17:33|      144|           0.65|        0.3|           86|\n",
      "|03/05/2019 08:17:44|      149|           0.59|       0.19|           84|\n",
      "|03/05/2019 08:21:24|      106|           0.26|       0.45|           38|\n",
      "|03/05/2019 08:21:28|      108|           0.69|       0.44|           68|\n",
      "|03/05/2019 08:21:29|      109|           0.74|       0.52|           64|\n",
      "|03/05/2019 08:21:48|      120|            0.7|       0.35|           80|\n",
      "+-------------------+---------+---------------+-----------+-------------+\n",
      "only showing top 20 rows\n",
      "\n"
     ]
    }
   ],
   "source": [
    "df2_sort.show()"
   ]
  },
  {
   "cell_type": "code",
   "execution_count": 13,
   "metadata": {},
   "outputs": [
    {
     "name": "stdout",
     "output_type": "stream",
     "text": [
      "+-------+-------------------+------------------+-------------------+-------------------+------------------+\n",
      "|summary|     event_datetime|         server_id|    cpu_utilization|        free_memory|     session_count|\n",
      "+-------+-------------------+------------------+-------------------+-------------------+------------------+\n",
      "|  count|             500000|            500000|             500000|             500000|            500000|\n",
      "|   mean|               null|             124.5| 0.6205177400000115|0.37912809999999625|          69.59616|\n",
      "| stddev|               null|14.430884120553204|0.15875173872912818|0.15830931278376212|14.850676696352831|\n",
      "|    min|03/05/2019 08:06:14|               100|               0.22|                0.0|                32|\n",
      "|    max|04/09/2019 01:22:46|               149|                1.0|               0.78|               105|\n",
      "+-------+-------------------+------------------+-------------------+-------------------+------------------+\n",
      "\n"
     ]
    }
   ],
   "source": [
    "df2.describe().show()"
   ]
  },
  {
   "cell_type": "code",
   "execution_count": 15,
   "metadata": {
    "collapsed": true
   },
   "outputs": [
    {
     "data": {
      "text/plain": [
       "DataFrame[event_date: string, location_id: string, temp_celcius: string]"
      ]
     },
     "execution_count": 15,
     "metadata": {},
     "output_type": "execute_result"
    }
   ],
   "source": [
    "df1"
   ]
  }
 ],
 "metadata": {
  "kernelspec": {
   "display_name": "Python 3",
   "language": "python",
   "name": "python3"
  },
  "language_info": {
   "codemirror_mode": {
    "name": "ipython",
    "version": 3
   },
   "file_extension": ".py",
   "mimetype": "text/x-python",
   "name": "python",
   "nbconvert_exporter": "python",
   "pygments_lexer": "ipython3",
   "version": "3.10.2"
  },
  "vscode": {
   "interpreter": {
    "hash": "9f0d103aebe82dfbb47ec724a2ca4fd3dcb0c9038207abb072b7913218171667"
   }
  }
 },
 "nbformat": 4,
 "nbformat_minor": 2
}
