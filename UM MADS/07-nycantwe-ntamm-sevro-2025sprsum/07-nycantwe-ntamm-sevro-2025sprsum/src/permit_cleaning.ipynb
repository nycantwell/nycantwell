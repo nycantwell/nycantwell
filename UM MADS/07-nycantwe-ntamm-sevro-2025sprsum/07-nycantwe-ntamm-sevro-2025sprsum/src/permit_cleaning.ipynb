{
 "cells": [
  {
   "cell_type": "markdown",
   "metadata": {},
   "source": [
    "# Authored by Noah Tamminga (ntamm@umich.edu)."
   ]
  },
  {
   "cell_type": "markdown",
   "metadata": {
    "id": "qU-9VgDq0Se6"
   },
   "source": [
    "# Permit Cleaning"
   ]
  },
  {
   "cell_type": "markdown",
   "metadata": {
    "id": "I-SkearU0YqC"
   },
   "source": [
    "This file takes the extracted csv files from the US Census Bureau and formats the data in a long form for easier analysis and visualization"
   ]
  },
  {
   "cell_type": "code",
   "execution_count": 1,
   "metadata": {
    "colab": {
     "base_uri": "https://localhost:8080/"
    },
    "executionInfo": {
     "elapsed": 16525,
     "status": "ok",
     "timestamp": 1749420381856,
     "user": {
      "displayName": "Noah Tamminga",
      "userId": "01886202281761034357"
     },
     "user_tz": 240
    },
    "id": "B3tZnB-j3CtB",
    "outputId": "d19e5ef4-e9a9-48fa-cf43-79d4362565db"
   },
   "outputs": [],
   "source": [
    "import pandas as pd\n",
    "import numpy as np\n"
   ]
  },
  {
   "cell_type": "code",
   "execution_count": 2,
   "metadata": {
    "colab": {
     "base_uri": "https://localhost:8080/"
    },
    "executionInfo": {
     "elapsed": 5226,
     "status": "ok",
     "timestamp": 1749420387084,
     "user": {
      "displayName": "Noah Tamminga",
      "userId": "01886202281761034357"
     },
     "user_tz": 240
    },
    "id": "bipVrivb0qaA",
    "outputId": "0e90e5da-b6f4-4fea-c645-c841cf31a8c7"
   },
   "outputs": [],
   "source": [
    "imputed = pd.read_parquet('data/imputed_permits.parquet.gzip')"
   ]
  },
  {
   "cell_type": "code",
   "execution_count": 3,
   "metadata": {
    "colab": {
     "base_uri": "https://localhost:8080/",
     "height": 313
    },
    "executionInfo": {
     "elapsed": 49,
     "status": "ok",
     "timestamp": 1748698897894,
     "user": {
      "displayName": "Noah Tamminga",
      "userId": "01886202281761034357"
     },
     "user_tz": 240
    },
    "id": "xa25FWe05M2X",
    "outputId": "27b5d89e-a3f9-49cf-bf01-aba75c201f4f"
   },
   "outputs": [
    {
     "data": {
      "text/html": [
       "<div>\n",
       "<style scoped>\n",
       "    .dataframe tbody tr th:only-of-type {\n",
       "        vertical-align: middle;\n",
       "    }\n",
       "\n",
       "    .dataframe tbody tr th {\n",
       "        vertical-align: top;\n",
       "    }\n",
       "\n",
       "    .dataframe thead th {\n",
       "        text-align: right;\n",
       "    }\n",
       "</style>\n",
       "<table border=\"1\" class=\"dataframe\">\n",
       "  <thead>\n",
       "    <tr style=\"text-align: right;\">\n",
       "      <th></th>\n",
       "      <th>Unnamed: 0</th>\n",
       "      <th>survey_date</th>\n",
       "      <th>fips_state</th>\n",
       "      <th>fips_county</th>\n",
       "      <th>region_code</th>\n",
       "      <th>division_code</th>\n",
       "      <th>county_name</th>\n",
       "      <th>1_unit_bldgs_i</th>\n",
       "      <th>1_unit_units_i</th>\n",
       "      <th>1_unit_value_i</th>\n",
       "      <th>2_unit_bldgs_i</th>\n",
       "      <th>2_unit_units_i</th>\n",
       "      <th>2_unit_value_i</th>\n",
       "      <th>3_4_unit_bldgs_i</th>\n",
       "      <th>3_4_unit_units_i</th>\n",
       "      <th>3_4_unit_value_i</th>\n",
       "      <th>5_plus_unit_bldgs_i</th>\n",
       "      <th>5_plus_unit_units_i</th>\n",
       "      <th>5_plus_unit_value_i</th>\n",
       "    </tr>\n",
       "  </thead>\n",
       "  <tbody>\n",
       "    <tr>\n",
       "      <th>0</th>\n",
       "      <td>0</td>\n",
       "      <td>200001</td>\n",
       "      <td>1</td>\n",
       "      <td>1</td>\n",
       "      <td>3</td>\n",
       "      <td>6</td>\n",
       "      <td>Autauga County</td>\n",
       "      <td>13</td>\n",
       "      <td>13</td>\n",
       "      <td>690525</td>\n",
       "      <td>0</td>\n",
       "      <td>0</td>\n",
       "      <td>0</td>\n",
       "      <td>0</td>\n",
       "      <td>0</td>\n",
       "      <td>0</td>\n",
       "      <td>0</td>\n",
       "      <td>0</td>\n",
       "      <td>0</td>\n",
       "    </tr>\n",
       "    <tr>\n",
       "      <th>1</th>\n",
       "      <td>1</td>\n",
       "      <td>200001</td>\n",
       "      <td>1</td>\n",
       "      <td>81</td>\n",
       "      <td>3</td>\n",
       "      <td>6</td>\n",
       "      <td>Lee County</td>\n",
       "      <td>28</td>\n",
       "      <td>28</td>\n",
       "      <td>3392260</td>\n",
       "      <td>1</td>\n",
       "      <td>2</td>\n",
       "      <td>73788</td>\n",
       "      <td>2</td>\n",
       "      <td>6</td>\n",
       "      <td>658488</td>\n",
       "      <td>1</td>\n",
       "      <td>27</td>\n",
       "      <td>1434000</td>\n",
       "    </tr>\n",
       "    <tr>\n",
       "      <th>2</th>\n",
       "      <td>2</td>\n",
       "      <td>200001</td>\n",
       "      <td>1</td>\n",
       "      <td>113</td>\n",
       "      <td>3</td>\n",
       "      <td>6</td>\n",
       "      <td>Russell County</td>\n",
       "      <td>2</td>\n",
       "      <td>2</td>\n",
       "      <td>253000</td>\n",
       "      <td>1</td>\n",
       "      <td>2</td>\n",
       "      <td>90000</td>\n",
       "      <td>0</td>\n",
       "      <td>0</td>\n",
       "      <td>0</td>\n",
       "      <td>0</td>\n",
       "      <td>0</td>\n",
       "      <td>0</td>\n",
       "    </tr>\n",
       "    <tr>\n",
       "      <th>3</th>\n",
       "      <td>3</td>\n",
       "      <td>200001</td>\n",
       "      <td>1</td>\n",
       "      <td>125</td>\n",
       "      <td>3</td>\n",
       "      <td>6</td>\n",
       "      <td>Tuscaloosa County</td>\n",
       "      <td>52</td>\n",
       "      <td>52</td>\n",
       "      <td>4889075</td>\n",
       "      <td>4</td>\n",
       "      <td>8</td>\n",
       "      <td>464774</td>\n",
       "      <td>0</td>\n",
       "      <td>0</td>\n",
       "      <td>0</td>\n",
       "      <td>0</td>\n",
       "      <td>0</td>\n",
       "      <td>0</td>\n",
       "    </tr>\n",
       "    <tr>\n",
       "      <th>4</th>\n",
       "      <td>4</td>\n",
       "      <td>200001</td>\n",
       "      <td>2</td>\n",
       "      <td>13</td>\n",
       "      <td>4</td>\n",
       "      <td>9</td>\n",
       "      <td>Aleutians East Borough</td>\n",
       "      <td>0</td>\n",
       "      <td>0</td>\n",
       "      <td>0</td>\n",
       "      <td>0</td>\n",
       "      <td>0</td>\n",
       "      <td>0</td>\n",
       "      <td>0</td>\n",
       "      <td>0</td>\n",
       "      <td>0</td>\n",
       "      <td>0</td>\n",
       "      <td>0</td>\n",
       "      <td>0</td>\n",
       "    </tr>\n",
       "  </tbody>\n",
       "</table>\n",
       "</div>"
      ],
      "text/plain": [
       "   Unnamed: 0  survey_date  fips_state  fips_county  region_code  \\\n",
       "0           0       200001           1            1            3   \n",
       "1           1       200001           1           81            3   \n",
       "2           2       200001           1          113            3   \n",
       "3           3       200001           1          125            3   \n",
       "4           4       200001           2           13            4   \n",
       "\n",
       "   division_code                     county_name  1_unit_bldgs_i  \\\n",
       "0              6  Autauga County                              13   \n",
       "1              6  Lee County                                  28   \n",
       "2              6  Russell County                               2   \n",
       "3              6  Tuscaloosa County                           52   \n",
       "4              9  Aleutians East Borough                       0   \n",
       "\n",
       "   1_unit_units_i  1_unit_value_i  2_unit_bldgs_i  2_unit_units_i  \\\n",
       "0              13          690525               0               0   \n",
       "1              28         3392260               1               2   \n",
       "2               2          253000               1               2   \n",
       "3              52         4889075               4               8   \n",
       "4               0               0               0               0   \n",
       "\n",
       "   2_unit_value_i  3_4_unit_bldgs_i  3_4_unit_units_i  3_4_unit_value_i  \\\n",
       "0               0                 0                 0                 0   \n",
       "1           73788                 2                 6            658488   \n",
       "2           90000                 0                 0                 0   \n",
       "3          464774                 0                 0                 0   \n",
       "4               0                 0                 0                 0   \n",
       "\n",
       "   5_plus_unit_bldgs_i  5_plus_unit_units_i  5_plus_unit_value_i  \n",
       "0                    0                    0                    0  \n",
       "1                    1                   27              1434000  \n",
       "2                    0                    0                    0  \n",
       "3                    0                    0                    0  \n",
       "4                    0                    0                    0  "
      ]
     },
     "execution_count": 3,
     "metadata": {},
     "output_type": "execute_result"
    }
   ],
   "source": [
    "imputed.head()"
   ]
  },
  {
   "cell_type": "markdown",
   "metadata": {
    "id": "GFox0SG2uWBA"
   },
   "source": [
    "To aid in any potential visualizations and analyses, we need to reorganize our dataframe into a long format from it's current wide format. Specifically, we want three measure: buildings, units, and value. The extra breakout for number of units is more suited to be a separate categorical column. To accomplish this task, we will melt the dataframe, extract the categorical column and pivot the data back to aggregate our three measures of interest."
   ]
  },
  {
   "cell_type": "code",
   "execution_count": 4,
   "metadata": {
    "colab": {
     "base_uri": "https://localhost:8080/",
     "height": 206
    },
    "executionInfo": {
     "elapsed": 22009,
     "status": "ok",
     "timestamp": 1748698919907,
     "user": {
      "displayName": "Noah Tamminga",
      "userId": "01886202281761034357"
     },
     "user_tz": 240
    },
    "id": "QV6fsgbd0OYk",
    "outputId": "02d02d0c-8f78-444b-a107-fb0d75a95d9c"
   },
   "outputs": [
    {
     "data": {
      "text/html": [
       "<div>\n",
       "<style scoped>\n",
       "    .dataframe tbody tr th:only-of-type {\n",
       "        vertical-align: middle;\n",
       "    }\n",
       "\n",
       "    .dataframe tbody tr th {\n",
       "        vertical-align: top;\n",
       "    }\n",
       "\n",
       "    .dataframe thead th {\n",
       "        text-align: right;\n",
       "    }\n",
       "</style>\n",
       "<table border=\"1\" class=\"dataframe\">\n",
       "  <thead>\n",
       "    <tr style=\"text-align: right;\">\n",
       "      <th>measure</th>\n",
       "      <th>Unnamed: 0</th>\n",
       "      <th>survey_date</th>\n",
       "      <th>region_code</th>\n",
       "      <th>division_code</th>\n",
       "      <th>num_units</th>\n",
       "      <th>bldgs</th>\n",
       "      <th>name</th>\n",
       "      <th>units</th>\n",
       "      <th>value</th>\n",
       "      <th>fips</th>\n",
       "    </tr>\n",
       "  </thead>\n",
       "  <tbody>\n",
       "    <tr>\n",
       "      <th>0</th>\n",
       "      <td>0</td>\n",
       "      <td>200001</td>\n",
       "      <td>3</td>\n",
       "      <td>6</td>\n",
       "      <td>1_unit</td>\n",
       "      <td>13</td>\n",
       "      <td>NaN</td>\n",
       "      <td>13</td>\n",
       "      <td>690525</td>\n",
       "      <td>01001</td>\n",
       "    </tr>\n",
       "    <tr>\n",
       "      <th>1</th>\n",
       "      <td>0</td>\n",
       "      <td>200001</td>\n",
       "      <td>3</td>\n",
       "      <td>6</td>\n",
       "      <td>2_unit</td>\n",
       "      <td>0</td>\n",
       "      <td>NaN</td>\n",
       "      <td>0</td>\n",
       "      <td>0</td>\n",
       "      <td>01001</td>\n",
       "    </tr>\n",
       "    <tr>\n",
       "      <th>2</th>\n",
       "      <td>0</td>\n",
       "      <td>200001</td>\n",
       "      <td>3</td>\n",
       "      <td>6</td>\n",
       "      <td>3_4_unit</td>\n",
       "      <td>0</td>\n",
       "      <td>NaN</td>\n",
       "      <td>0</td>\n",
       "      <td>0</td>\n",
       "      <td>01001</td>\n",
       "    </tr>\n",
       "    <tr>\n",
       "      <th>3</th>\n",
       "      <td>0</td>\n",
       "      <td>200001</td>\n",
       "      <td>3</td>\n",
       "      <td>6</td>\n",
       "      <td>5_plus_unit</td>\n",
       "      <td>0</td>\n",
       "      <td>NaN</td>\n",
       "      <td>0</td>\n",
       "      <td>0</td>\n",
       "      <td>01001</td>\n",
       "    </tr>\n",
       "    <tr>\n",
       "      <th>4</th>\n",
       "      <td>0</td>\n",
       "      <td>200001</td>\n",
       "      <td>3</td>\n",
       "      <td>6</td>\n",
       "      <td>county</td>\n",
       "      <td>NaN</td>\n",
       "      <td>Autauga County</td>\n",
       "      <td>NaN</td>\n",
       "      <td>NaN</td>\n",
       "      <td>01001</td>\n",
       "    </tr>\n",
       "  </tbody>\n",
       "</table>\n",
       "</div>"
      ],
      "text/plain": [
       "measure  Unnamed: 0  survey_date  region_code  division_code    num_units  \\\n",
       "0                 0       200001            3              6       1_unit   \n",
       "1                 0       200001            3              6       2_unit   \n",
       "2                 0       200001            3              6     3_4_unit   \n",
       "3                 0       200001            3              6  5_plus_unit   \n",
       "4                 0       200001            3              6       county   \n",
       "\n",
       "measure bldgs                            name units   value   fips  \n",
       "0          13                             NaN    13  690525  01001  \n",
       "1           0                             NaN     0       0  01001  \n",
       "2           0                             NaN     0       0  01001  \n",
       "3           0                             NaN     0       0  01001  \n",
       "4         NaN  Autauga County                   NaN     NaN  01001  "
      ]
     },
     "execution_count": 4,
     "metadata": {},
     "output_type": "execute_result"
    }
   ],
   "source": [
    "cols = list(imputed.columns)\n",
    "ids = cols[:6]\n",
    "vals = cols[6:]\n",
    "\n",
    "imputed_melt = pd.melt(\n",
    "    imputed,\n",
    "    id_vars = ids,\n",
    "    value_vars = vals,\n",
    "    var_name = 'permit_metric',\n",
    "    value_name = 'value'\n",
    ")\n",
    "\n",
    "#Extracting what we need for the num_units column\n",
    "split_metric = imputed_melt['permit_metric'].str.rsplit('_', n=2, expand=True)\n",
    "\n",
    "# print(split_metric)\n",
    "\n",
    "imputed_melt['num_units'] = split_metric[0]\n",
    "imputed_melt['measure'] = split_metric[1]\n",
    "imputed_melt.drop(columns=['permit_metric'], inplace=True)\n",
    "\n",
    "# imputed_melt.head()\n",
    "\n",
    "ids.append('num_units')\n",
    "# print(type(ids))\n",
    "\n",
    "imputed_final = imputed_melt.pivot(index=ids, columns='measure', values='value').reset_index()\n",
    "# imputed_final.drop(columns=['measure'], inplace=True)\n",
    "\n",
    "#To join to other datasets, need to backfill fips state with 0 for 2 digits and backfill fips county with 0 for 3 digits then concat fields\n",
    "imputed_final['fips_state'] = imputed_final['fips_state'].astype(str).str.zfill(2)\n",
    "imputed_final['fips_county'] = imputed_final['fips_county'].astype(str).str.zfill(3)\n",
    "imputed_final['fips'] = imputed_final['fips_state'] + imputed_final['fips_county']\n",
    "\n",
    "imputed_final.drop(columns=['fips_state', 'fips_county'], inplace=True)\n",
    "\n",
    "imputed_final.head()"
   ]
  },
  {
   "cell_type": "markdown",
   "metadata": {
    "id": "_NrMvBnang5v"
   },
   "source": [
    "Imputed data will be most useful for our analysis. The US Census provides well thought out and applied imputation methodology to fill in any missing values. Overall, their methodology imputes a value based on geographic area, history, and type of housing. This imputation specifically takes into account prior annual information for a given geographic area where reporting did occur and current information where reporting did occur to calculate a imputation factor. Then, that imputation factor is applied to non-reporting areas to impute missing values.\n",
    "\n",
    "Detailed modeling information can be found here: https://www.census.gov/construction/bps/methodology.html\n"
   ]
  },
  {
   "cell_type": "code",
   "execution_count": 5,
   "metadata": {
    "colab": {
     "base_uri": "https://localhost:8080/"
    },
    "executionInfo": {
     "elapsed": 874,
     "status": "ok",
     "timestamp": 1748699301402,
     "user": {
      "displayName": "Noah Tamminga",
      "userId": "01886202281761034357"
     },
     "user_tz": 240
    },
    "id": "eBOttKgXmNVn",
    "outputId": "f416cbbf-e19f-4bb0-cc58-f63193334a9d"
   },
   "outputs": [
    {
     "name": "stdout",
     "output_type": "stream",
     "text": [
      "<class 'pandas.core.frame.DataFrame'>\n",
      "RangeIndex: 1648070 entries, 0 to 1648069\n",
      "Data columns (total 10 columns):\n",
      " #   Column         Non-Null Count    Dtype \n",
      "---  ------         --------------    ----- \n",
      " 0   Unnamed: 0     1648070 non-null  int64 \n",
      " 1   survey_date    1648070 non-null  int64 \n",
      " 2   region_code    1648070 non-null  int64 \n",
      " 3   division_code  1648070 non-null  int64 \n",
      " 4   num_units      1648070 non-null  object\n",
      " 5   bldgs          1318456 non-null  object\n",
      " 6   name           329614 non-null   object\n",
      " 7   units          1318456 non-null  object\n",
      " 8   value          1318456 non-null  object\n",
      " 9   fips           1648070 non-null  object\n",
      "dtypes: int64(4), object(6)\n",
      "memory usage: 125.7+ MB\n"
     ]
    }
   ],
   "source": [
    "imputed_final.info()"
   ]
  },
  {
   "cell_type": "code",
   "execution_count": 6,
   "metadata": {
    "id": "8SAieBe97rGy"
   },
   "outputs": [],
   "source": [
    "# imputed_final.to_parquet('data/imputed_permits_final.parquet.gzip',\n",
    "#               compression='gzip')\n"
   ]
  }
 ],
 "metadata": {
  "colab": {
   "authorship_tag": "ABX9TyMyieuAzSKEjyw8ctEeRi75",
   "provenance": []
  },
  "kernelspec": {
   "display_name": "Python 3",
   "name": "python3"
  },
  "language_info": {
   "codemirror_mode": {
    "name": "ipython",
    "version": 3
   },
   "file_extension": ".py",
   "mimetype": "text/x-python",
   "name": "python",
   "nbconvert_exporter": "python",
   "pygments_lexer": "ipython3",
   "version": "3.10.2"
  }
 },
 "nbformat": 4,
 "nbformat_minor": 0
}
