{
 "cells": [
  {
   "cell_type": "markdown",
   "metadata": {},
   "source": [
    "# Authored by Nathan Cantwell (nycantwe@umich.edu)."
   ]
  },
  {
   "cell_type": "markdown",
   "metadata": {
    "id": "CGHK1TEOLyJ_"
   },
   "source": [
    "# **Imports, G Drive mount, and read in csv files.**\n",
    "Contains:\n",
    "* Imported libraries\n",
    "* Datasets (csv format) and source url's.\n",
    "---"
   ]
  },
  {
   "cell_type": "code",
   "execution_count": 1,
   "metadata": {
    "executionInfo": {
     "elapsed": 18,
     "status": "ok",
     "timestamp": 1749599312217,
     "user": {
      "displayName": "Nathan Cantwell",
      "userId": "15236319868573600434"
     },
     "user_tz": 420
    },
    "id": "FQWIqaDz3FZZ"
   },
   "outputs": [],
   "source": [
    "import pandas as pd\n",
    "import numpy as np\n",
    "import matplotlib.pyplot as plt\n",
    "from scipy import stats\n",
    "import warnings\n",
    "warnings.filterwarnings('ignore')\n",
    "import os\n",
    "import time\n",
    "# Comment out G Drive mount, parquet files already written.\n",
    "# from google.colab import drive\n",
    "# drive.mount('/content/drive')"
   ]
  },
  {
   "cell_type": "markdown",
   "metadata": {
    "id": "Uyfd1jaqJ3TI"
   },
   "source": [
    "**Importing datasets in Google Drive, sourced from:**\n",
    "* Redfin (home sales)\n",
    "* FRED database (Federal Reserve Economic Data, consumer price index)\n",
    "* Census.gov (state and county ID codes called FIPS)"
   ]
  },
  {
   "cell_type": "code",
   "execution_count": 2,
   "metadata": {
    "executionInfo": {
     "elapsed": 29561,
     "status": "ok",
     "timestamp": 1749599341775,
     "user": {
      "displayName": "Nathan Cantwell",
      "userId": "15236319868573600434"
     },
     "user_tz": 420
    },
    "id": "0GClrN9L38fj"
   },
   "outputs": [],
   "source": [
    "\n",
    "# https://www.redfin.com/news/data-center/\n",
    "df_housing_market = pd.read_csv('https://redfin-public-data.s3.us-west-2.amazonaws.com/redfin_market_tracker/county_market_tracker.tsv000.gz', sep='\\t')\n",
    "\n",
    "# https://fred.stlouisfed.org/series/CPIAUCSL\n",
    "df_inflation = pd.read_csv('https://fred.stlouisfed.org/graph/fredgraph.csv?bgcolor=%23ebf3fb&chart_type=line&drp=0&fo=open%20sans&graph_bgcolor=%23ffffff&height=450&mode=fred&recession_bars=on&txtcolor=%23444444&ts=12&tts=12&width=1320&nt=0&thu=0&trc=0&show_legend=yes&show_axis_titles=yes&show_tooltip=yes&id=CPIAUCSL&scale=left&cosd=1947-01-01&coed=2025-04-01&line_color=%230073e6&link_values=false&line_style=solid&mark_type=none&mw=3&lw=3&ost=-99999&oet=99999&mma=0&fml=a&fq=Monthly&fam=avg&fgst=lin&fgsnd=2020-02-01&line_index=1&transformation=lin&vintage_date=2025-06-06&revision_date=2025-06-06&nd=1947-01-01')\n",
    "\n",
    "while True:\n",
    "    try:\n",
    "        # Census website again having issues\n",
    "        # https://www.census.gov/library/reference/code-lists/ansi.html#cou\n",
    "        # https://www2.census.gov/geo/docs/reference/codes2020/national_county2020.txt\n",
    "        df_county_FIPS = pd.read_csv('https://www2.census.gov/geo/docs/reference/codes2020/national_county2020.txt', sep='|')\n",
    "        break\n",
    "    except Exception as e:\n",
    "        time.sleep(3)"
   ]
  },
  {
   "cell_type": "markdown",
   "metadata": {
    "id": "mDF5rPJrMJZD"
   },
   "source": [
    "# **Dataset metrics and merging.**\n",
    "Contains:\n",
    "* Number of records for each data set (max 1.2M).\n",
    "* Time periods of each data set (min 2012-2025).\n",
    "* Reformatting census data to combined 5 digit FIPS codes.\n",
    "* Reformatting county names in the housing market data to match the census data.\n",
    "* Left join FIPS to housing market data on matching county names.\n",
    "* Left join CPI to housing market data on matching months.\n",
    "---"
   ]
  },
  {
   "cell_type": "markdown",
   "metadata": {
    "id": "51QLLXi7Ko4n"
   },
   "source": [
    "**Looking into each DataFrame:**\n",
    "* FIPS codes are time independent.\n",
    "* Home sales data is from Jan 2012 to Mar 2025.\n",
    "* CPI data is Jan 1913 to Mar 2025."
   ]
  },
  {
   "cell_type": "code",
   "execution_count": 3,
   "metadata": {
    "colab": {
     "base_uri": "https://localhost:8080/"
    },
    "executionInfo": {
     "elapsed": 167,
     "status": "ok",
     "timestamp": 1749599341939,
     "user": {
      "displayName": "Nathan Cantwell",
      "userId": "15236319868573600434"
     },
     "user_tz": 420
    },
    "id": "F-YecXei4SxT",
    "outputId": "edcbc6ce-af6c-4ade-d7ed-d741f182de7f"
   },
   "outputs": [
    {
     "name": "stdout",
     "output_type": "stream",
     "text": [
      "Redfin data from 2012-01-01, to 2025-04-01, shaped: (1238375, 58)\n",
      "Inflation/CPI data from 1947-01-01, to 2025-04-01, shaped: (940, 2)\n",
      "FIPS data shaped: (3235, 7)\n"
     ]
    }
   ],
   "source": [
    "print(f'Redfin data from {df_housing_market.PERIOD_BEGIN.min()}, to {df_housing_market.PERIOD_BEGIN.max()}, shaped: {df_housing_market.shape}')\n",
    "print(f'Inflation/CPI data from {df_inflation.observation_date.min()}, to {df_inflation.observation_date.max()}, shaped: {df_inflation.shape}')\n",
    "print(f'FIPS data shaped: {df_county_FIPS.shape}')"
   ]
  },
  {
   "cell_type": "markdown",
   "metadata": {
    "id": "PSTkFcG0Lqls"
   },
   "source": [
    "**Our FIPS code data currently lacks the 5 digit representation seen in the Redfin data.**\n",
    "* States are typically represented with 2 digits, for example Alabama is assigned *01*.\n",
    "* Counties are typically represented with 3 digits, like *001* for Autauga County inside Alabama.\n",
    "* The FIPS dataset stores these as integers, for our desired format we combine these with arithmetic and then convert the combined integer to a string and add leading zeros.\n",
    "* This yields the 5 digit representation: *01001* for Autauga County Alabama.**\n",
    "\n",
    "**To add this 5 digit FIPS code to matching rows in the Redfin data will we join on a new column that combines the county name, and the state abbreviation.**"
   ]
  },
  {
   "cell_type": "code",
   "execution_count": 4,
   "metadata": {
    "colab": {
     "base_uri": "https://localhost:8080/"
    },
    "executionInfo": {
     "elapsed": 229,
     "status": "ok",
     "timestamp": 1749599342170,
     "user": {
      "displayName": "Nathan Cantwell",
      "userId": "15236319868573600434"
     },
     "user_tz": 420
    },
    "id": "xt579A0n-ugf",
    "outputId": "cdd4a2c2-44df-4574-ee46-a6f673ea1fba"
   },
   "outputs": [
    {
     "name": "stdout",
     "output_type": "stream",
     "text": [
      "  STATE  STATEFP  COUNTYFP  COUNTYNS      COUNTYNAME CLASSFP FUNCSTAT\n",
      "0    AL        1         1    161526  Autauga County      H1        A\n",
      "     county_and_state county_and_state_FIPS\n",
      "0  Autauga County, AL                 01001\n"
     ]
    }
   ],
   "source": [
    "print(df_county_FIPS.head(1))\n",
    "\n",
    "# Combine state abbv and county name to match format found in Redfin housing market data.\n",
    "df_county_FIPS['county_and_state'] = [\n",
    "    f\"{row[1][4]}, {row[1][0]}\" for row in df_county_FIPS.iterrows()\n",
    "    ]\n",
    "\n",
    "# Concat state FIPS and county FIPS, add leading zeros up to 5 digits.\n",
    "df_county_FIPS['county_and_state_FIPS'] = df_county_FIPS['STATEFP']*1000+df_county_FIPS['COUNTYFP']\n",
    "df_county_FIPS['county_and_state_FIPS'] = df_county_FIPS['county_and_state_FIPS'].astype(str).str.zfill(5)\n",
    "\n",
    "print(df_county_FIPS[['county_and_state','county_and_state_FIPS']].head(1))"
   ]
  },
  {
   "cell_type": "markdown",
   "metadata": {
    "id": "4p1Yf2uURBWy"
   },
   "source": [
    "**Next we join the FIPS codes into the Redfin dataset:**\n",
    "* A helper function is created to solve format mismatches in the title given to different counties.\n",
    "* Words like \"city\", \"county\", \"borough\", and \"municipality\" were added, dropped, or interchanged when comparing Redfin and census data.\n",
    "\n",
    "**There were 51 distinct counties not being populated on the inital left join, this mapped to 5 types of mismatch and 2 counties missing with special characters from the FIPS dataset that were added directly.**"
   ]
  },
  {
   "cell_type": "code",
   "execution_count": 5,
   "metadata": {
    "executionInfo": {
     "elapsed": 4,
     "status": "ok",
     "timestamp": 1749599342182,
     "user": {
      "displayName": "Nathan Cantwell",
      "userId": "15236319868573600434"
     },
     "user_tz": 420
    },
    "id": "mtca8dy8iP4r"
   },
   "outputs": [],
   "source": [
    "# These 51 counties have inconsistent names b/w Redfin and census data sources:\n",
    "\n",
    "# baltimore city county > baltimore city\n",
    "# richmond, roanoke, fairfax, st. louis, franklin same as above.\n",
    "\n",
    "# charlottesville > charlottesville city\n",
    "# lynchburg, norfolk, portsmouth, harrisonburg, alexandria,\n",
    "# virginia beach, manassas, manassas park, chesapeake,\n",
    "# falls church, suffolk, hampton, fredericksburg, newport news\n",
    "# staunton, winchester, salem, petersburg, waynesboro, bristol\n",
    "# williamsburg hopewell, danville, colonial heights, poquoson\n",
    "# martinsville, radford, buena vista, lexington, covington\n",
    "# norton, galax, emporia same as above.\n",
    "\n",
    "# juneau borough > juneau city and borough\n",
    "# sitka, wrangell, yakutat same as above.\n",
    "\n",
    "# lewis & clark county > lewis and clark county\n",
    "# king & queen county same as above.\n",
    "\n",
    "# anchorage borough > anchorage municipality\n",
    "# skagway same as above.\n",
    "\n",
    "# la salle parish > lasalle parish\n",
    "\n",
    "# Issues with special characters, not in helper function.\n",
    "# dona ana = FIPS 35013\n",
    "# valdez-cordova census area = FIPS 02261\n",
    "\n",
    "# Helper function for aligning Redfin county names to census county names.\n",
    "def county_name_matching(county):\n",
    "  add_city_list = [\n",
    "      'charlottesville', 'lynchburg', 'norfolk', 'portsmouth', 'harrisonburg',\n",
    "      'alexandria', 'virginia beach', 'manassas', 'manassas park',\n",
    "      'chesapeake', 'falls church', 'suffolk', 'hampton', 'fredericksburg',\n",
    "      'newport news', 'staunton', 'winchester', 'salem', 'petersburg',\n",
    "      'waynesboro', 'bristol', 'williamsburg', 'hopewell', 'danville',\n",
    "      'colonial heights', 'poquoson', 'martinsville', 'radford', 'buena vista',\n",
    "      'lexington', 'covington', 'norton', 'galax', 'emporia'\n",
    "  ]\n",
    "  add_city_and_list = [\n",
    "      'juneau borough', 'sitka borough', 'wrangell borough', 'yakutat borough'\n",
    "  ]\n",
    "  drop_county_list = [\n",
    "      'baltimore city county', 'richmond city county', 'roanoke city county',\n",
    "      'fairfax city county', 'st. louis city county', 'franklin city county'\n",
    "  ]\n",
    "  replace_borough_list = [\n",
    "      'anchorage borough', 'skagway borough'\n",
    "  ]\n",
    "\n",
    "  # If the Redfin county is in the add_city_list, add 'city' to it.\n",
    "  if county[:-4] in add_city_list:\n",
    "    return f'{county[:-4]} city{county[-4:]}'\n",
    "  # If the Redfin county is in the add_city_and_list, add 'city and' to it.\n",
    "  elif county[:-4] in add_city_and_list:\n",
    "    return f'{county[:-12]} city and{county[-12:]}'\n",
    "  # If the Redfin county is in the drop_county_list, drop 'county' from it.\n",
    "  elif county[:-4] in drop_county_list:\n",
    "    return f'{county[:-11]}{county[-4:]}'\n",
    "  # If the Redfin county is in replace_borough_list, change to 'municipality'.\n",
    "  elif county[:-4] in replace_borough_list:\n",
    "    return f'{county[:-12]} municipality{county[-4:]}'\n",
    "  # Replace '&' with 'and' for 'lewis & clark', and 'king & queen' counties.\n",
    "  elif '&' in county:\n",
    "    return county.replace('&', 'and')\n",
    "  # Remove space from 'la salle'.\n",
    "  elif county=='la salle parish, la':\n",
    "    return 'lasalle parish, la'\n",
    "  # If not in the above cases, return original.\n",
    "  else:\n",
    "    return county"
   ]
  },
  {
   "cell_type": "code",
   "execution_count": 6,
   "metadata": {
    "executionInfo": {
     "elapsed": 3115,
     "status": "ok",
     "timestamp": 1749599345300,
     "user": {
      "displayName": "Nathan Cantwell",
      "userId": "15236319868573600434"
     },
     "user_tz": 420
    },
    "id": "GeC-ZISsz1Wt"
   },
   "outputs": [],
   "source": [
    "# Prepare lower case columns for matching helper function and df merge.\n",
    "df_housing_market['REGION_lower'] = df_housing_market['REGION'].str.lower()\n",
    "df_county_FIPS['county_and_state_lower'] = df_county_FIPS['county_and_state'].str.lower()\n",
    "\n",
    "# Apply the county name helper function.\n",
    "df_housing_market['REGION_lower'] = df_housing_market['REGION_lower'].apply(\n",
    "    county_name_matching\n",
    "    )\n",
    "\n",
    "# Merge FIPS codes to housing market data, on matching county names.\n",
    "df_housing_market = pd.merge(\n",
    "    df_housing_market,\n",
    "    df_county_FIPS[['county_and_state_lower', 'county_and_state_FIPS']],\n",
    "    left_on='REGION_lower',\n",
    "    right_on='county_and_state_lower',\n",
    "    how='left'\n",
    "    )\n",
    "\n",
    "# Two special cases not handled by helper function, add FIPS code directly.\n",
    "df_housing_market.loc[\n",
    "    df_housing_market['REGION_lower']=='dona ana county, nm',\n",
    "    'county_and_state_FIPS'\n",
    "    ] = '35013'\n",
    "df_housing_market.loc[\n",
    "    df_housing_market['REGION_lower']=='valdez-cordova census area, ak',\n",
    "    'county_and_state_FIPS'\n",
    "    ] = '02261'"
   ]
  },
  {
   "cell_type": "markdown",
   "metadata": {
    "id": "kjYy4YBaPqPH"
   },
   "source": [
    "**Finally we merge CPI with the Redfin data by matching the date of CPI observation to the intial date of housing market observation data.**"
   ]
  },
  {
   "cell_type": "code",
   "execution_count": 7,
   "metadata": {
    "colab": {
     "base_uri": "https://localhost:8080/",
     "height": 0
    },
    "executionInfo": {
     "elapsed": 1412,
     "status": "ok",
     "timestamp": 1749599346717,
     "user": {
      "displayName": "Nathan Cantwell",
      "userId": "15236319868573600434"
     },
     "user_tz": 420
    },
    "id": "7Mte7SNJX9pX",
    "outputId": "0e744088-1fb6-4e3d-9ee8-63d905baf276"
   },
   "outputs": [
    {
     "data": {
      "text/html": [
       "<div>\n",
       "<style scoped>\n",
       "    .dataframe tbody tr th:only-of-type {\n",
       "        vertical-align: middle;\n",
       "    }\n",
       "\n",
       "    .dataframe tbody tr th {\n",
       "        vertical-align: top;\n",
       "    }\n",
       "\n",
       "    .dataframe thead th {\n",
       "        text-align: right;\n",
       "    }\n",
       "</style>\n",
       "<table border=\"1\" class=\"dataframe\">\n",
       "  <thead>\n",
       "    <tr style=\"text-align: right;\">\n",
       "      <th></th>\n",
       "      <th>MEDIAN_SALE_PRICE</th>\n",
       "      <th>CPIAUCSL</th>\n",
       "      <th>PERIOD_BEGIN</th>\n",
       "    </tr>\n",
       "  </thead>\n",
       "  <tbody>\n",
       "    <tr>\n",
       "      <th>0</th>\n",
       "      <td>196000.0</td>\n",
       "      <td>301.476</td>\n",
       "      <td>2023-02-01</td>\n",
       "    </tr>\n",
       "    <tr>\n",
       "      <th>1</th>\n",
       "      <td>108250.0</td>\n",
       "      <td>231.015</td>\n",
       "      <td>2012-09-01</td>\n",
       "    </tr>\n",
       "    <tr>\n",
       "      <th>2</th>\n",
       "      <td>92000.0</td>\n",
       "      <td>260.319</td>\n",
       "      <td>2020-10-01</td>\n",
       "    </tr>\n",
       "    <tr>\n",
       "      <th>3</th>\n",
       "      <td>320000.0</td>\n",
       "      <td>241.176</td>\n",
       "      <td>2016-09-01</td>\n",
       "    </tr>\n",
       "    <tr>\n",
       "      <th>4</th>\n",
       "      <td>277700.0</td>\n",
       "      <td>307.374</td>\n",
       "      <td>2023-09-01</td>\n",
       "    </tr>\n",
       "  </tbody>\n",
       "</table>\n",
       "</div>"
      ],
      "text/plain": [
       "   MEDIAN_SALE_PRICE  CPIAUCSL PERIOD_BEGIN\n",
       "0           196000.0   301.476   2023-02-01\n",
       "1           108250.0   231.015   2012-09-01\n",
       "2            92000.0   260.319   2020-10-01\n",
       "3           320000.0   241.176   2016-09-01\n",
       "4           277700.0   307.374   2023-09-01"
      ]
     },
     "execution_count": 7,
     "metadata": {},
     "output_type": "execute_result"
    }
   ],
   "source": [
    "# Convert txt values for Redfin and inflation data to datetimes\n",
    "# (for period begin, end dates, inflation observation date).\n",
    "df_housing_market.PERIOD_BEGIN = pd.to_datetime(df_housing_market.PERIOD_BEGIN)\n",
    "df_housing_market.PERIOD_END = pd.to_datetime(df_housing_market.PERIOD_END)\n",
    "df_inflation.observation_date = pd.to_datetime(df_inflation.observation_date)\n",
    "\n",
    "# Add CPI column to housing market data.\n",
    "df_housing_market = pd.merge(\n",
    "    df_housing_market,\n",
    "    df_inflation,\n",
    "    left_on='PERIOD_BEGIN',\n",
    "    right_on='observation_date',\n",
    "    how='left'\n",
    "    )\n",
    "df_housing_market.drop('observation_date', axis=1, inplace=True)\n",
    "\n",
    "df_housing_market[['MEDIAN_SALE_PRICE','CPIAUCSL','PERIOD_BEGIN']].head()"
   ]
  },
  {
   "cell_type": "markdown",
   "metadata": {
    "id": "DkshRqefOJ84"
   },
   "source": [
    "# **Data cleaning.**\n",
    "Contains:\n",
    "* Removing 52 unneeded columns.\n",
    "* Sorting the df in order by: FIPS, property type, and month.\n",
    "* Addressing outliers in our price columns (|z-score|>3)\n",
    "* Replacing outliers with NaN's, and adding an outlier record keeping column.\n",
    "* Adding monthly rows for groups (group by FIPS, by property type) without all months reported.\n",
    "* Imputing NaN's by time linear interpolation, and adding an interpolation record keeping column.\n",
    "* Imputing with a single fill value, forward fill, or back fill where appropriate.\n",
    "* Adjusting price columns for inflation (adjusted to Jan. 2012 value).\n",
    "---"
   ]
  },
  {
   "cell_type": "markdown",
   "metadata": {
    "id": "ytx7iG5vJWyL"
   },
   "source": [
    "**There are 52 columns unnecessary for our analysis and will be dropped. Among them are:**\n",
    "* City only contains: NaN's\n",
    "* Seasonal adjustment only contains: False\n",
    "* Region type only contains: 'county'\n",
    "* Region type ID only contains: 5\n",
    "* State and state code are redundant with region\n",
    "* County_and_state_lower and region_lower are redundant with region\n",
    "* Period duration only contains: 30\n",
    "* Table ID, and last updated (artifacts of Redfin database architecture)\n",
    "* MoM and YoY columns (not part of this analysis, but can be derived later as first-order difference or ratio).\n",
    "\n",
    "\n",
    "**Let's define our 9 columns of interest. Quantitative values describe the value in one county, of one property type, in a one month period:**\n",
    "* FIPS code: 5 digit unique idenfitier for a US state and county\n",
    "* Region: the US county and state abbreviation\n",
    "* Property type: different categories of homes (single family, condo, , all, etc.)\n",
    "* Period begin: start date of the month of observation\n",
    "* Median sale price: central value of sale price\n",
    "* Median list price: central value of list price in this county\n",
    "* CPI: consumer price index, used for inflation adjustment\n",
    "* Inventory: count of homes on the market\n",
    "* Homes sold: count of homes sales this month/depletion of inventory."
   ]
  },
  {
   "cell_type": "code",
   "execution_count": 8,
   "metadata": {
    "executionInfo": {
     "elapsed": 651,
     "status": "ok",
     "timestamp": 1749599347371,
     "user": {
      "displayName": "Nathan Cantwell",
      "userId": "15236319868573600434"
     },
     "user_tz": 420
    },
    "id": "TsgUccpqHL-G"
   },
   "outputs": [],
   "source": [
    "df_housing_market = df_housing_market.rename(columns={\n",
    "    'county_and_state_FIPS':'FIPS_CODE',\n",
    "    'CPIAUCSL':'CPI'\n",
    "    })\n",
    "\n",
    "df_housing_market = df_housing_market[[\n",
    "    'FIPS_CODE','REGION', 'PROPERTY_TYPE', 'PERIOD_BEGIN',\n",
    "    'MEDIAN_SALE_PRICE', 'MEDIAN_LIST_PRICE',\n",
    "    'CPI', 'INVENTORY', 'HOMES_SOLD'\n",
    "    ]]"
   ]
  },
  {
   "cell_type": "markdown",
   "metadata": {
    "id": "fUgW8LnmREWG"
   },
   "source": [
    "**Median sales price will be critical to this analysis. Two counties have only NaN's for this column (El Paso and Teller counties in CO).**\n",
    "\n",
    "**While we could attempt to estimated sales price from neighboring counties, a noted ethical consideration is some municipalites by law or local custom do not disclose home sales price for privacy reasons. With respect to this possibility, these two counties are removed from the dataset.**"
   ]
  },
  {
   "cell_type": "code",
   "execution_count": 9,
   "metadata": {
    "colab": {
     "base_uri": "https://localhost:8080/"
    },
    "executionInfo": {
     "elapsed": 231,
     "status": "ok",
     "timestamp": 1749599347607,
     "user": {
      "displayName": "Nathan Cantwell",
      "userId": "15236319868573600434"
     },
     "user_tz": 420
    },
    "id": "KUV1D1eERArQ",
    "outputId": "789b6055-1feb-4c54-b721-d84a637b0e86"
   },
   "outputs": [
    {
     "name": "stdout",
     "output_type": "stream",
     "text": [
      "           0_x  0_y\n",
      "FIPS_CODE          \n",
      "08041      621  621\n",
      "08119      396  396\n",
      "20017        2  187\n"
     ]
    }
   ],
   "source": [
    "df_missing_sales = pd.merge(\n",
    "    df_housing_market[df_housing_market['MEDIAN_SALE_PRICE'].isna()][['FIPS_CODE']].value_counts().to_frame(),\n",
    "    df_housing_market[['FIPS_CODE']].value_counts().to_frame(),\n",
    "    left_index=True,\n",
    "    right_index=True,\n",
    "    how='left'\n",
    "    )\n",
    "\n",
    "print(df_missing_sales.head(3))\n",
    "# Dropping 2 counties without price data.\n",
    "df_housing_market = df_housing_market[~df_housing_market['FIPS_CODE'].isin(['08041', '08119'])]"
   ]
  },
  {
   "cell_type": "markdown",
   "metadata": {
    "id": "22yuOWAN7TP3"
   },
   "source": [
    "**Let's quickly sort our df into an intuitive order:**\n",
    "1. By county FIPS\n",
    "2. Then by the property type (single family, multi-family, townhouse, condo, or all)\n",
    "3. Then by period start date"
   ]
  },
  {
   "cell_type": "code",
   "execution_count": 10,
   "metadata": {
    "colab": {
     "base_uri": "https://localhost:8080/",
     "height": 143
    },
    "executionInfo": {
     "elapsed": 596,
     "status": "ok",
     "timestamp": 1749599348208,
     "user": {
      "displayName": "Nathan Cantwell",
      "userId": "15236319868573600434"
     },
     "user_tz": 420
    },
    "id": "kAZCjCg47FVp",
    "outputId": "d001fa61-c6ef-4e14-8dd0-82ccb27485e6"
   },
   "outputs": [
    {
     "data": {
      "text/html": [
       "<div>\n",
       "<style scoped>\n",
       "    .dataframe tbody tr th:only-of-type {\n",
       "        vertical-align: middle;\n",
       "    }\n",
       "\n",
       "    .dataframe tbody tr th {\n",
       "        vertical-align: top;\n",
       "    }\n",
       "\n",
       "    .dataframe thead th {\n",
       "        text-align: right;\n",
       "    }\n",
       "</style>\n",
       "<table border=\"1\" class=\"dataframe\">\n",
       "  <thead>\n",
       "    <tr style=\"text-align: right;\">\n",
       "      <th></th>\n",
       "      <th>FIPS_CODE</th>\n",
       "      <th>REGION</th>\n",
       "      <th>PROPERTY_TYPE</th>\n",
       "      <th>PERIOD_BEGIN</th>\n",
       "      <th>MEDIAN_SALE_PRICE</th>\n",
       "      <th>MEDIAN_LIST_PRICE</th>\n",
       "      <th>CPI</th>\n",
       "      <th>INVENTORY</th>\n",
       "      <th>HOMES_SOLD</th>\n",
       "    </tr>\n",
       "  </thead>\n",
       "  <tbody>\n",
       "    <tr>\n",
       "      <th>0</th>\n",
       "      <td>01001</td>\n",
       "      <td>Autauga County, AL</td>\n",
       "      <td>All Residential</td>\n",
       "      <td>2012-01-01</td>\n",
       "      <td>133250.0</td>\n",
       "      <td>157450.0</td>\n",
       "      <td>227.842</td>\n",
       "      <td>286.0</td>\n",
       "      <td>20.0</td>\n",
       "    </tr>\n",
       "    <tr>\n",
       "      <th>1</th>\n",
       "      <td>01001</td>\n",
       "      <td>Autauga County, AL</td>\n",
       "      <td>All Residential</td>\n",
       "      <td>2012-02-01</td>\n",
       "      <td>162000.0</td>\n",
       "      <td>185000.0</td>\n",
       "      <td>228.329</td>\n",
       "      <td>302.0</td>\n",
       "      <td>32.0</td>\n",
       "    </tr>\n",
       "    <tr>\n",
       "      <th>2</th>\n",
       "      <td>01001</td>\n",
       "      <td>Autauga County, AL</td>\n",
       "      <td>All Residential</td>\n",
       "      <td>2012-03-01</td>\n",
       "      <td>149500.0</td>\n",
       "      <td>189900.0</td>\n",
       "      <td>228.807</td>\n",
       "      <td>319.0</td>\n",
       "      <td>36.0</td>\n",
       "    </tr>\n",
       "  </tbody>\n",
       "</table>\n",
       "</div>"
      ],
      "text/plain": [
       "  FIPS_CODE              REGION    PROPERTY_TYPE PERIOD_BEGIN  \\\n",
       "0     01001  Autauga County, AL  All Residential   2012-01-01   \n",
       "1     01001  Autauga County, AL  All Residential   2012-02-01   \n",
       "2     01001  Autauga County, AL  All Residential   2012-03-01   \n",
       "\n",
       "   MEDIAN_SALE_PRICE  MEDIAN_LIST_PRICE      CPI  INVENTORY  HOMES_SOLD  \n",
       "0           133250.0           157450.0  227.842      286.0        20.0  \n",
       "1           162000.0           185000.0  228.329      302.0        32.0  \n",
       "2           149500.0           189900.0  228.807      319.0        36.0  "
      ]
     },
     "execution_count": 10,
     "metadata": {},
     "output_type": "execute_result"
    }
   ],
   "source": [
    "df_housing_market = df_housing_market.sort_values(by=['FIPS_CODE', 'PROPERTY_TYPE', 'PERIOD_BEGIN'])\n",
    "df_housing_market = df_housing_market.reset_index().drop(columns=['index'])\n",
    "df_housing_market.head(3)"
   ]
  },
  {
   "cell_type": "markdown",
   "metadata": {
    "id": "6QnhMDEBKbHd"
   },
   "source": [
    "**Looking at our price columns, they have strange min and max values, ranging from $1 to 1B. This is a good time to deal with outliers.**"
   ]
  },
  {
   "cell_type": "code",
   "execution_count": 11,
   "metadata": {
    "colab": {
     "base_uri": "https://localhost:8080/",
     "height": 300
    },
    "executionInfo": {
     "elapsed": 276,
     "status": "ok",
     "timestamp": 1749599348481,
     "user": {
      "displayName": "Nathan Cantwell",
      "userId": "15236319868573600434"
     },
     "user_tz": 420
    },
    "id": "nIAKfxSdKaTR",
    "outputId": "7c1fb638-a260-4795-d36e-5321611b65aa"
   },
   "outputs": [
    {
     "data": {
      "text/html": [
       "<div>\n",
       "<style scoped>\n",
       "    .dataframe tbody tr th:only-of-type {\n",
       "        vertical-align: middle;\n",
       "    }\n",
       "\n",
       "    .dataframe tbody tr th {\n",
       "        vertical-align: top;\n",
       "    }\n",
       "\n",
       "    .dataframe thead th {\n",
       "        text-align: right;\n",
       "    }\n",
       "</style>\n",
       "<table border=\"1\" class=\"dataframe\">\n",
       "  <thead>\n",
       "    <tr style=\"text-align: right;\">\n",
       "      <th></th>\n",
       "      <th>MEDIAN_SALE_PRICE</th>\n",
       "      <th>MEDIAN_LIST_PRICE</th>\n",
       "      <th>CPI</th>\n",
       "      <th>INVENTORY</th>\n",
       "      <th>HOMES_SOLD</th>\n",
       "    </tr>\n",
       "  </thead>\n",
       "  <tbody>\n",
       "    <tr>\n",
       "      <th>count</th>\n",
       "      <td>1.237338e+06</td>\n",
       "      <td>1.138006e+06</td>\n",
       "      <td>1.237358e+06</td>\n",
       "      <td>1.191991e+06</td>\n",
       "      <td>1.237358e+06</td>\n",
       "    </tr>\n",
       "    <tr>\n",
       "      <th>mean</th>\n",
       "      <td>2.146971e+05</td>\n",
       "      <td>2.386733e+05</td>\n",
       "      <td>2.628887e+02</td>\n",
       "      <td>2.931254e+02</td>\n",
       "      <td>8.428700e+01</td>\n",
       "    </tr>\n",
       "    <tr>\n",
       "      <th>std</th>\n",
       "      <td>1.081188e+06</td>\n",
       "      <td>1.346275e+06</td>\n",
       "      <td>2.852089e+01</td>\n",
       "      <td>8.651523e+02</td>\n",
       "      <td>2.696573e+02</td>\n",
       "    </tr>\n",
       "    <tr>\n",
       "      <th>min</th>\n",
       "      <td>1.000000e+00</td>\n",
       "      <td>1.000000e+02</td>\n",
       "      <td>2.278420e+02</td>\n",
       "      <td>1.000000e+00</td>\n",
       "      <td>1.000000e+00</td>\n",
       "    </tr>\n",
       "    <tr>\n",
       "      <th>25%</th>\n",
       "      <td>1.150000e+05</td>\n",
       "      <td>1.361000e+05</td>\n",
       "      <td>2.380170e+02</td>\n",
       "      <td>1.700000e+01</td>\n",
       "      <td>3.000000e+00</td>\n",
       "    </tr>\n",
       "    <tr>\n",
       "      <th>50%</th>\n",
       "      <td>1.697500e+05</td>\n",
       "      <td>1.924000e+05</td>\n",
       "      <td>2.542770e+02</td>\n",
       "      <td>6.300000e+01</td>\n",
       "      <td>1.300000e+01</td>\n",
       "    </tr>\n",
       "    <tr>\n",
       "      <th>75%</th>\n",
       "      <td>2.550000e+05</td>\n",
       "      <td>2.850000e+05</td>\n",
       "      <td>2.885820e+02</td>\n",
       "      <td>2.160000e+02</td>\n",
       "      <td>5.100000e+01</td>\n",
       "    </tr>\n",
       "    <tr>\n",
       "      <th>max</th>\n",
       "      <td>1.000000e+09</td>\n",
       "      <td>1.000000e+09</td>\n",
       "      <td>3.203210e+02</td>\n",
       "      <td>2.852000e+04</td>\n",
       "      <td>9.221000e+03</td>\n",
       "    </tr>\n",
       "  </tbody>\n",
       "</table>\n",
       "</div>"
      ],
      "text/plain": [
       "       MEDIAN_SALE_PRICE  MEDIAN_LIST_PRICE           CPI     INVENTORY  \\\n",
       "count       1.237338e+06       1.138006e+06  1.237358e+06  1.191991e+06   \n",
       "mean        2.146971e+05       2.386733e+05  2.628887e+02  2.931254e+02   \n",
       "std         1.081188e+06       1.346275e+06  2.852089e+01  8.651523e+02   \n",
       "min         1.000000e+00       1.000000e+02  2.278420e+02  1.000000e+00   \n",
       "25%         1.150000e+05       1.361000e+05  2.380170e+02  1.700000e+01   \n",
       "50%         1.697500e+05       1.924000e+05  2.542770e+02  6.300000e+01   \n",
       "75%         2.550000e+05       2.850000e+05  2.885820e+02  2.160000e+02   \n",
       "max         1.000000e+09       1.000000e+09  3.203210e+02  2.852000e+04   \n",
       "\n",
       "         HOMES_SOLD  \n",
       "count  1.237358e+06  \n",
       "mean   8.428700e+01  \n",
       "std    2.696573e+02  \n",
       "min    1.000000e+00  \n",
       "25%    3.000000e+00  \n",
       "50%    1.300000e+01  \n",
       "75%    5.100000e+01  \n",
       "max    9.221000e+03  "
      ]
     },
     "execution_count": 11,
     "metadata": {},
     "output_type": "execute_result"
    }
   ],
   "source": [
    "df_housing_market.describe()"
   ]
  },
  {
   "cell_type": "markdown",
   "metadata": {
    "id": "GpJLm7Og6tdf"
   },
   "source": [
    "**For each price column we add columns for:**\n",
    "* z-score\n",
    "* outlier or not\n",
    "\n",
    "**Outliers are defined with magnitude of z-score greater than 3.**"
   ]
  },
  {
   "cell_type": "code",
   "execution_count": 12,
   "metadata": {
    "executionInfo": {
     "elapsed": 27,
     "status": "ok",
     "timestamp": 1749599348506,
     "user": {
      "displayName": "Nathan Cantwell",
      "userId": "15236319868573600434"
     },
     "user_tz": 420
    },
    "id": "aRcWiRQnsaDz"
   },
   "outputs": [],
   "source": [
    "def add_zscore_outlier_cols(df, col):\n",
    "  # Add columns to track z-score and if a value is an outlier.\n",
    "  is_outlier_col = col+'_is_outlier'\n",
    "  zscore_col = col+'_zscore'\n",
    "  df[zscore_col] = df.groupby(['FIPS_CODE', 'PROPERTY_TYPE'])[[col]].transform(stats.zscore)\n",
    "  # Define an outlier threshold here.\n",
    "  max_z = 3\n",
    "  df[is_outlier_col] = abs(df[zscore_col]>max_z)\n",
    "  return df"
   ]
  },
  {
   "cell_type": "code",
   "execution_count": 13,
   "metadata": {
    "colab": {
     "base_uri": "https://localhost:8080/"
    },
    "executionInfo": {
     "elapsed": 24501,
     "status": "ok",
     "timestamp": 1749599372985,
     "user": {
      "displayName": "Nathan Cantwell",
      "userId": "15236319868573600434"
     },
     "user_tz": 420
    },
    "id": "axFNhyxJ1TNw",
    "outputId": "fbbc769a-63db-4aa3-c7c9-fba04b549729"
   },
   "outputs": [
    {
     "name": "stdout",
     "output_type": "stream",
     "text": [
      "Number of median sale price outliers: 7290\n",
      "Number of median list price outliers: 1598\n"
     ]
    }
   ],
   "source": [
    "# Add z-score and outlier columns with above helper function.\n",
    "price_cols = ['MEDIAN_SALE_PRICE', 'MEDIAN_LIST_PRICE']\n",
    "for price_col in price_cols:\n",
    "  df_housing_market = add_zscore_outlier_cols(df_housing_market, price_col)\n",
    "\n",
    "# Drop z-score columns.\n",
    "price_cols_zscore = [price_col+'_zscore' for price_col in price_cols]\n",
    "df_housing_market = df_housing_market.drop(columns=price_cols_zscore)\n",
    "\n",
    "print(f'Number of median sale price outliers: {sum(df_housing_market.MEDIAN_SALE_PRICE_is_outlier)}')\n",
    "print(f'Number of median list price outliers: {sum(df_housing_market.MEDIAN_LIST_PRICE_is_outlier)}')"
   ]
  },
  {
   "cell_type": "markdown",
   "metadata": {
    "id": "QiYjxMzw7QZ0"
   },
   "source": [
    "**It's noted that some of these outliers are likely data entry errors like a median sale price of 1B, but others may just be anomalous sales.**\n",
    "\n",
    "This could be the case for Baldiwn County, AL in November of 2022. With 1 \"homes sold\" the multi-family sale was noted as 10.75M. This may be the sale of a large housing structure, but is still an unusually high outlier relative to other months of multi-family sales in Baldwin County. Both kinds of outliers are shown below. For the purposes of trend analysis we will remove both kinds of outliers."
   ]
  },
  {
   "cell_type": "code",
   "execution_count": 14,
   "metadata": {
    "colab": {
     "base_uri": "https://localhost:8080/",
     "height": 238
    },
    "executionInfo": {
     "elapsed": 68,
     "status": "ok",
     "timestamp": 1749599373024,
     "user": {
      "displayName": "Nathan Cantwell",
      "userId": "15236319868573600434"
     },
     "user_tz": 420
    },
    "id": "JVR-Hbel0u3R",
    "outputId": "2dbcb6d9-70e3-4ecd-c77d-66af0f8cbc64"
   },
   "outputs": [
    {
     "data": {
      "text/html": [
       "<div>\n",
       "<style scoped>\n",
       "    .dataframe tbody tr th:only-of-type {\n",
       "        vertical-align: middle;\n",
       "    }\n",
       "\n",
       "    .dataframe tbody tr th {\n",
       "        vertical-align: top;\n",
       "    }\n",
       "\n",
       "    .dataframe thead th {\n",
       "        text-align: right;\n",
       "    }\n",
       "</style>\n",
       "<table border=\"1\" class=\"dataframe\">\n",
       "  <thead>\n",
       "    <tr style=\"text-align: right;\">\n",
       "      <th></th>\n",
       "      <th>FIPS_CODE</th>\n",
       "      <th>REGION</th>\n",
       "      <th>PROPERTY_TYPE</th>\n",
       "      <th>PERIOD_BEGIN</th>\n",
       "      <th>MEDIAN_SALE_PRICE</th>\n",
       "      <th>MEDIAN_LIST_PRICE</th>\n",
       "      <th>CPI</th>\n",
       "      <th>INVENTORY</th>\n",
       "      <th>HOMES_SOLD</th>\n",
       "      <th>MEDIAN_SALE_PRICE_is_outlier</th>\n",
       "      <th>MEDIAN_LIST_PRICE_is_outlier</th>\n",
       "    </tr>\n",
       "  </thead>\n",
       "  <tbody>\n",
       "    <tr>\n",
       "      <th>699</th>\n",
       "      <td>01003</td>\n",
       "      <td>Baldwin County, AL</td>\n",
       "      <td>Multi-Family (2-4 Unit)</td>\n",
       "      <td>2022-03-01</td>\n",
       "      <td>521500.0</td>\n",
       "      <td>410000.0</td>\n",
       "      <td>287.467</td>\n",
       "      <td>11.0</td>\n",
       "      <td>10.0</td>\n",
       "      <td>False</td>\n",
       "      <td>False</td>\n",
       "    </tr>\n",
       "    <tr>\n",
       "      <th>700</th>\n",
       "      <td>01003</td>\n",
       "      <td>Baldwin County, AL</td>\n",
       "      <td>Multi-Family (2-4 Unit)</td>\n",
       "      <td>2022-04-01</td>\n",
       "      <td>625000.0</td>\n",
       "      <td>432671.0</td>\n",
       "      <td>288.582</td>\n",
       "      <td>6.0</td>\n",
       "      <td>2.0</td>\n",
       "      <td>False</td>\n",
       "      <td>False</td>\n",
       "    </tr>\n",
       "    <tr>\n",
       "      <th>701</th>\n",
       "      <td>01003</td>\n",
       "      <td>Baldwin County, AL</td>\n",
       "      <td>Multi-Family (2-4 Unit)</td>\n",
       "      <td>2022-05-01</td>\n",
       "      <td>288600.0</td>\n",
       "      <td>409000.0</td>\n",
       "      <td>291.299</td>\n",
       "      <td>6.0</td>\n",
       "      <td>4.0</td>\n",
       "      <td>False</td>\n",
       "      <td>False</td>\n",
       "    </tr>\n",
       "    <tr>\n",
       "      <th>827586</th>\n",
       "      <td>39137</td>\n",
       "      <td>Putnam County, OH</td>\n",
       "      <td>Single Family Residential</td>\n",
       "      <td>2018-05-01</td>\n",
       "      <td>112000.0</td>\n",
       "      <td>115400.0</td>\n",
       "      <td>250.792</td>\n",
       "      <td>98.0</td>\n",
       "      <td>15.0</td>\n",
       "      <td>False</td>\n",
       "      <td>False</td>\n",
       "    </tr>\n",
       "    <tr>\n",
       "      <th>827587</th>\n",
       "      <td>39137</td>\n",
       "      <td>Putnam County, OH</td>\n",
       "      <td>Single Family Residential</td>\n",
       "      <td>2018-06-01</td>\n",
       "      <td>114250.0</td>\n",
       "      <td>95250.0</td>\n",
       "      <td>251.018</td>\n",
       "      <td>104.0</td>\n",
       "      <td>14.0</td>\n",
       "      <td>False</td>\n",
       "      <td>False</td>\n",
       "    </tr>\n",
       "    <tr>\n",
       "      <th>827588</th>\n",
       "      <td>39137</td>\n",
       "      <td>Putnam County, OH</td>\n",
       "      <td>Single Family Residential</td>\n",
       "      <td>2018-07-01</td>\n",
       "      <td>93100.0</td>\n",
       "      <td>139900.0</td>\n",
       "      <td>251.214</td>\n",
       "      <td>105.0</td>\n",
       "      <td>21.0</td>\n",
       "      <td>False</td>\n",
       "      <td>False</td>\n",
       "    </tr>\n",
       "  </tbody>\n",
       "</table>\n",
       "</div>"
      ],
      "text/plain": [
       "       FIPS_CODE              REGION              PROPERTY_TYPE PERIOD_BEGIN  \\\n",
       "699        01003  Baldwin County, AL    Multi-Family (2-4 Unit)   2022-03-01   \n",
       "700        01003  Baldwin County, AL    Multi-Family (2-4 Unit)   2022-04-01   \n",
       "701        01003  Baldwin County, AL    Multi-Family (2-4 Unit)   2022-05-01   \n",
       "827586     39137   Putnam County, OH  Single Family Residential   2018-05-01   \n",
       "827587     39137   Putnam County, OH  Single Family Residential   2018-06-01   \n",
       "827588     39137   Putnam County, OH  Single Family Residential   2018-07-01   \n",
       "\n",
       "        MEDIAN_SALE_PRICE  MEDIAN_LIST_PRICE      CPI  INVENTORY  HOMES_SOLD  \\\n",
       "699              521500.0           410000.0  287.467       11.0        10.0   \n",
       "700              625000.0           432671.0  288.582        6.0         2.0   \n",
       "701              288600.0           409000.0  291.299        6.0         4.0   \n",
       "827586           112000.0           115400.0  250.792       98.0        15.0   \n",
       "827587           114250.0            95250.0  251.018      104.0        14.0   \n",
       "827588            93100.0           139900.0  251.214      105.0        21.0   \n",
       "\n",
       "        MEDIAN_SALE_PRICE_is_outlier  MEDIAN_LIST_PRICE_is_outlier  \n",
       "699                            False                         False  \n",
       "700                            False                         False  \n",
       "701                            False                         False  \n",
       "827586                         False                         False  \n",
       "827587                         False                         False  \n",
       "827588                         False                         False  "
      ]
     },
     "execution_count": 14,
     "metadata": {},
     "output_type": "execute_result"
    }
   ],
   "source": [
    "df_housing_market.iloc[[699,700,701,827586,827587,827588]]"
   ]
  },
  {
   "cell_type": "markdown",
   "metadata": {
    "id": "2Ba2Xy_KGWkW"
   },
   "source": [
    "**We replace price column outliers with NaN's, in a new column to preserve the original data.**"
   ]
  },
  {
   "cell_type": "code",
   "execution_count": 15,
   "metadata": {
    "executionInfo": {
     "elapsed": 11,
     "status": "ok",
     "timestamp": 1749599373026,
     "user": {
      "displayName": "Nathan Cantwell",
      "userId": "15236319868573600434"
     },
     "user_tz": 420
    },
    "id": "ylDIksh-Gzv6"
   },
   "outputs": [],
   "source": [
    "def outliers_to_nan(df, col):\n",
    "  # Add new column that removes values if they are tagged as outliers.\n",
    "  is_outlier_col = col+'_is_outlier'\n",
    "  no_outliers_col = col+'_no_outliers'\n",
    "  df[no_outliers_col] = df[col]\n",
    "  df.loc[df[is_outlier_col], no_outliers_col] = np.nan\n",
    "  return df"
   ]
  },
  {
   "cell_type": "code",
   "execution_count": 16,
   "metadata": {
    "colab": {
     "base_uri": "https://localhost:8080/"
    },
    "executionInfo": {
     "elapsed": 184,
     "status": "ok",
     "timestamp": 1749599373203,
     "user": {
      "displayName": "Nathan Cantwell",
      "userId": "15236319868573600434"
     },
     "user_tz": 420
    },
    "id": "oVkaaHe01ijA",
    "outputId": "01eda582-b2af-4af4-d138-97e27a278973"
   },
   "outputs": [
    {
     "name": "stdout",
     "output_type": "stream",
     "text": [
      "MEDIAN_LIST_PRICE_no_outliers    100950\n",
      "MEDIAN_LIST_PRICE                 99352\n",
      "INVENTORY                         45367\n",
      "MEDIAN_SALE_PRICE_no_outliers      7310\n",
      "MEDIAN_SALE_PRICE                    20\n",
      "FIPS_CODE                             0\n",
      "REGION                                0\n",
      "dtype: int64\n"
     ]
    }
   ],
   "source": [
    "# Change the price column value to NaN for outliers, with above helper function.\n",
    "price_cols = ['MEDIAN_SALE_PRICE', 'MEDIAN_LIST_PRICE']\n",
    "for price_col in price_cols:\n",
    "  df_housing_market = outliers_to_nan(df_housing_market, price_col)\n",
    "\n",
    "print(df_housing_market.isna().sum().sort_values(ascending=False).head(7))"
   ]
  },
  {
   "cell_type": "markdown",
   "metadata": {
    "id": "RSaH0Aw8Z_BW"
   },
   "source": [
    "**For smooth visuals, we want every county to have a row for every month. To accomplish this we merge our data to a set of columns that for each group (FIPS, and property type) has the full range of months.**"
   ]
  },
  {
   "cell_type": "code",
   "execution_count": 17,
   "metadata": {
    "executionInfo": {
     "elapsed": 1805,
     "status": "ok",
     "timestamp": 1749599375009,
     "user": {
      "displayName": "Nathan Cantwell",
      "userId": "15236319868573600434"
     },
     "user_tz": 420
    },
    "id": "4rrrtPg0aFHg"
   },
   "outputs": [],
   "source": [
    "# Series for every unique FIPS in the dataset.\n",
    "all_FIPS = pd.Series(df_housing_market['FIPS_CODE'].unique()).rename('FIPS_CODE')\n",
    "# Series for every unique property type in the dataset.\n",
    "all_types = pd.Series(df_housing_market['PROPERTY_TYPE'].unique()).rename('PROPERTY_TYPE')\n",
    "# Series for every month between min and max values of PERIOD_BEGIN.\n",
    "all_months = pd.Series(\n",
    "    pd.date_range(\n",
    "        start=df_housing_market['PERIOD_BEGIN'].min(),\n",
    "        end=df_housing_market['PERIOD_BEGIN'].max(),\n",
    "        freq='MS'# Each month, starting date.\n",
    "        )\n",
    "    ).rename('PERIOD_BEGIN')\n",
    "\n",
    "# Cross join the three series above so every FIPS/property type group\n",
    "# has rows for every month.\n",
    "df_all_groups_all_months = pd.merge(\n",
    "    all_FIPS,\n",
    "    all_types,\n",
    "    how='cross'\n",
    "    ).merge(\n",
    "        all_months,\n",
    "        how='cross'\n",
    "    )\n",
    "\n",
    "# Before merging our housing market data to many new rows,\n",
    "# denote current rows as original records.\n",
    "df_housing_market['original_record'] = True\n",
    "\n",
    "# Merge our housing market data onto the list of every month for every group.\n",
    "df_housing_market = pd.merge(\n",
    "    df_all_groups_all_months,\n",
    "    df_housing_market,\n",
    "    on=['FIPS_CODE', 'PROPERTY_TYPE', 'PERIOD_BEGIN'],\n",
    "    how='left'\n",
    "    )"
   ]
  },
  {
   "cell_type": "markdown",
   "metadata": {
    "id": "Ru4KO5bF2OvC"
   },
   "source": [
    "**We then fill the new rows appropriately:**\n",
    "* We use ***forward and back fill*** for ***county names***, on matching FIPS and property type.\n",
    "* We use ***forward and back fill*** for ***CPI***, on matching months.\n",
    "* We use ***forward fill*** to impute missing ***inventory*** values. It is assumed that if a county reports no sales then inventory has not changed.\n",
    "* It is similary assumed with no reported sales that homes sold is zero. In the ***homes sold*** column we ***impute 0***.\n",
    "* For these new rows we ***impute 'False'*** for markers of original records and outliers."
   ]
  },
  {
   "cell_type": "code",
   "execution_count": 18,
   "metadata": {
    "colab": {
     "base_uri": "https://localhost:8080/"
    },
    "executionInfo": {
     "elapsed": 3400,
     "status": "ok",
     "timestamp": 1749599378445,
     "user": {
      "displayName": "Nathan Cantwell",
      "userId": "15236319868573600434"
     },
     "user_tz": 420
    },
    "id": "8FJ_impt2HM6",
    "outputId": "d39462bc-f39e-4590-c458-ca0638db865e"
   },
   "outputs": [
    {
     "name": "stdout",
     "output_type": "stream",
     "text": [
      "MEDIAN_LIST_PRICE_no_outliers    1329992\n",
      "MEDIAN_LIST_PRICE                1328394\n",
      "MEDIAN_SALE_PRICE_no_outliers    1236352\n",
      "MEDIAN_SALE_PRICE                1229062\n",
      "INVENTORY                         868628\n",
      "FIPS_CODE                              0\n",
      "PROPERTY_TYPE                          0\n",
      "PERIOD_BEGIN                           0\n",
      "REGION                                 0\n",
      "CPI                                    0\n",
      "dtype: int64\n"
     ]
    }
   ],
   "source": [
    "# For each FIPS, there is only one region value.\n",
    "df_housing_market['REGION'] =\\\n",
    "  df_housing_market.groupby('FIPS_CODE')['REGION'].ffill()\n",
    "df_housing_market['REGION'] =\\\n",
    "  df_housing_market.groupby('FIPS_CODE')['REGION'].bfill()\n",
    "# For each month, theres is only one CPI value.\n",
    "df_housing_market['CPI'] =\\\n",
    "  df_housing_market.groupby('PERIOD_BEGIN')['CPI'].ffill()\n",
    "df_housing_market['CPI'] =\\\n",
    "  df_housing_market.groupby('PERIOD_BEGIN')['CPI'].bfill()\n",
    "# For inventory we assume if there is no reported sales,\n",
    "# then inventory is constant from last reported sales record.\n",
    "df_housing_market['INVENTORY'] = \\\n",
    "  df_housing_market.groupby(['FIPS_CODE','PROPERTY_TYPE'])\\\n",
    "  ['INVENTORY'].ffill()\n",
    "\n",
    "# Fill NaN's in \"original_record\" column, and \"_is_outlier\" columns with False.\n",
    "# For homes sold column, we assume if there is no reported sales, 0 homes sold.\n",
    "fill_values = {\n",
    "    'original_record': False,\n",
    "    'MEDIAN_SALE_PRICE_is_outlier': False,\n",
    "    'MEDIAN_LIST_PRICE_is_outlier': False,\n",
    "    'HOMES_SOLD': 0\n",
    "    }\n",
    "df_housing_market = df_housing_market.fillna(fill_values)\n",
    "\n",
    "print(df_housing_market.isna().sum().sort_values(ascending=False).head(10))"
   ]
  },
  {
   "cell_type": "markdown",
   "metadata": {
    "id": "hsH4WeyCSbO7"
   },
   "source": [
    "**There are now a large number of missing values in our price and inventory columns.**\n",
    "\n",
    "* We will be using ***linear interpolation*** to impute missing values for ***price*** in new columns to preserve the original data. Changes over time of price is a key feature of this analysis and we want to minimze NaN's. Linear imputation replaces them with a reasonable value between known values by assuming a linear relationship.\n",
    "* There are some remaining missing values in inventory and price columns. These occur in the earliest months, primarily in 2012. For these, the best available technique is to ***back fill our first record for inventory, and sale and list prices***."
   ]
  },
  {
   "cell_type": "code",
   "execution_count": 19,
   "metadata": {
    "executionInfo": {
     "elapsed": 7,
     "status": "ok",
     "timestamp": 1749599378446,
     "user": {
      "displayName": "Nathan Cantwell",
      "userId": "15236319868573600434"
     },
     "user_tz": 420
    },
    "id": "eKbGbkWw3IzO"
   },
   "outputs": [],
   "source": [
    "def interpolate_col(df, col):\n",
    "  # Create a column to receive interpolated values.\n",
    "  interpolated_col = col+'_interpolated'\n",
    "  df[interpolated_col] = np.nan\n",
    "  # Interpolation will be performed on the column without outliers.\n",
    "  no_outliers_col = col+'_no_outliers'\n",
    "  # Create a column to note these values are interpolated.\n",
    "  is_interpolated_col = col+'_is_interpolated'\n",
    "  df[is_interpolated_col] = df[no_outliers_col].isna()\n",
    "\n",
    "  # From: https://stackoverflow.com/questions/37057187/pandas-interpolate-within-a-groupby\n",
    "  # Define a new df to perform interpolation on.\n",
    "  df_interpolated = df[['FIPS_CODE', 'PROPERTY_TYPE', 'PERIOD_BEGIN', no_outliers_col]].set_index('PERIOD_BEGIN')\n",
    "  # Group by FIPS and property type, interpolate for months missing data.\n",
    "  df_interpolated = df_interpolated.groupby(['FIPS_CODE', 'PROPERTY_TYPE'])\\\n",
    "   [['FIPS_CODE', 'PROPERTY_TYPE', no_outliers_col]].apply(\n",
    "       lambda group: group.interpolate(\n",
    "           method='time',\n",
    "           )\n",
    "       )\n",
    "  # Return our original input df, with a new column of interpolated values.\n",
    "  df[interpolated_col] = df_interpolated[no_outliers_col].values\n",
    "  return df"
   ]
  },
  {
   "cell_type": "code",
   "execution_count": 20,
   "metadata": {
    "colab": {
     "base_uri": "https://localhost:8080/"
    },
    "executionInfo": {
     "elapsed": 35836,
     "status": "ok",
     "timestamp": 1749599414278,
     "user": {
      "displayName": "Nathan Cantwell",
      "userId": "15236319868573600434"
     },
     "user_tz": 420
    },
    "id": "nk1mOhe8TuYW",
    "outputId": "3f05b88e-17e2-41ed-c051-5afe7a35587b"
   },
   "outputs": [
    {
     "name": "stdout",
     "output_type": "stream",
     "text": [
      "(2466400, 18)\n",
      "MEDIAN_LIST_PRICE_no_outliers        1329992\n",
      "MEDIAN_LIST_PRICE                    1328394\n",
      "MEDIAN_SALE_PRICE_no_outliers        1236352\n",
      "MEDIAN_SALE_PRICE                    1229062\n",
      "MEDIAN_LIST_PRICE_interpolated        695680\n",
      "INVENTORY                             650720\n",
      "MEDIAN_SALE_PRICE_interpolated        419360\n",
      "FIPS_CODE                                  0\n",
      "MEDIAN_SALE_PRICE_is_interpolated          0\n",
      "original_record                            0\n",
      "dtype: int64\n"
     ]
    }
   ],
   "source": [
    "# Add interpolated columns, with above helper function.\n",
    "cols = ['MEDIAN_SALE_PRICE', 'MEDIAN_LIST_PRICE']\n",
    "for col in cols:\n",
    "  df_housing_market = interpolate_col(df_housing_market, col)\n",
    "\n",
    "# The above fill methods and interpolation will not cover\n",
    "# groups with earliest months missing (primarily in 2012),\n",
    "# for these there are limited options, we will backfill.\n",
    "cols = ['MEDIAN_SALE_PRICE_interpolated',\n",
    "              'MEDIAN_LIST_PRICE_interpolated',\n",
    "              'INVENTORY']\n",
    "for col in cols:\n",
    "  df_housing_market[col] = df_housing_market.groupby(\n",
    "      ['FIPS_CODE','PROPERTY_TYPE']\n",
    "      )[col].bfill()\n",
    "\n",
    "print(df_housing_market.shape)\n",
    "print(df_housing_market.isna().sum().sort_values(ascending=False).head(10))"
   ]
  },
  {
   "cell_type": "markdown",
   "metadata": {
    "id": "oXPPUc_64zd-"
   },
   "source": [
    "**There are still some missing values in inventory, interpolated sale price, and interpolated list price:**\n",
    "* These occur where a group has no records at all.\n",
    "* For example, a county may have no reported list prices or inventory.\n",
    "* Another example is counties that lack records of a particular property type entirely.\n",
    "* These missing values will be left as is.\n",
    "\n",
    "**Lastly we adjust our price columns for inflation, keeping both columns for raw price and inflation adjusted price.**"
   ]
  },
  {
   "cell_type": "code",
   "execution_count": 21,
   "metadata": {
    "executionInfo": {
     "elapsed": 9,
     "status": "ok",
     "timestamp": 1749599414301,
     "user": {
      "displayName": "Nathan Cantwell",
      "userId": "15236319868573600434"
     },
     "user_tz": 420
    },
    "id": "r6behNiNcJJh"
   },
   "outputs": [],
   "source": [
    "def inflation_adjustment(df, price_col):\n",
    "  # Get our earliest record, and the CPI on that date.\n",
    "  earliest_period = min(df['PERIOD_BEGIN'])\n",
    "  CPI_init = df[df_housing_market['PERIOD_BEGIN']==earliest_period]['CPI'][0]\n",
    "\n",
    "  # Create an inflation adjusted column from the price column.\n",
    "  inflation_col = f'{price_col}_inflation_adj_{str(earliest_period)[0:7]}'\n",
    "  inflation_adjustment_col = df['CPI']/CPI_init\n",
    "  df[inflation_col] = df[price_col]*inflation_adjustment_col\n",
    "  return df"
   ]
  },
  {
   "cell_type": "code",
   "execution_count": 22,
   "metadata": {
    "colab": {
     "base_uri": "https://localhost:8080/",
     "height": 314
    },
    "executionInfo": {
     "elapsed": 32263,
     "status": "ok",
     "timestamp": 1749599446560,
     "user": {
      "displayName": "Nathan Cantwell",
      "userId": "15236319868573600434"
     },
     "user_tz": 420
    },
    "id": "YcxRYw304V_1",
    "outputId": "b3b18121-20f6-48fb-f1ea-93ae83b29d68"
   },
   "outputs": [
    {
     "data": {
      "text/html": [
       "<div>\n",
       "<style scoped>\n",
       "    .dataframe tbody tr th:only-of-type {\n",
       "        vertical-align: middle;\n",
       "    }\n",
       "\n",
       "    .dataframe tbody tr th {\n",
       "        vertical-align: top;\n",
       "    }\n",
       "\n",
       "    .dataframe thead th {\n",
       "        text-align: right;\n",
       "    }\n",
       "</style>\n",
       "<table border=\"1\" class=\"dataframe\">\n",
       "  <thead>\n",
       "    <tr style=\"text-align: right;\">\n",
       "      <th></th>\n",
       "      <th>FIPS_CODE</th>\n",
       "      <th>PROPERTY_TYPE</th>\n",
       "      <th>PERIOD_BEGIN</th>\n",
       "      <th>REGION</th>\n",
       "      <th>MEDIAN_SALE_PRICE</th>\n",
       "      <th>MEDIAN_LIST_PRICE</th>\n",
       "      <th>CPI</th>\n",
       "      <th>INVENTORY</th>\n",
       "      <th>HOMES_SOLD</th>\n",
       "      <th>MEDIAN_SALE_PRICE_is_outlier</th>\n",
       "      <th>...</th>\n",
       "      <th>MEDIAN_SALE_PRICE_interpolated</th>\n",
       "      <th>MEDIAN_SALE_PRICE_is_interpolated</th>\n",
       "      <th>MEDIAN_LIST_PRICE_interpolated</th>\n",
       "      <th>MEDIAN_LIST_PRICE_is_interpolated</th>\n",
       "      <th>MEDIAN_SALE_PRICE_inflation_adj_2012-01</th>\n",
       "      <th>MEDIAN_SALE_PRICE_no_outliers_inflation_adj_2012-01</th>\n",
       "      <th>MEDIAN_SALE_PRICE_interpolated_inflation_adj_2012-01</th>\n",
       "      <th>MEDIAN_LIST_PRICE_inflation_adj_2012-01</th>\n",
       "      <th>MEDIAN_LIST_PRICE_no_outliers_inflation_adj_2012-01</th>\n",
       "      <th>MEDIAN_LIST_PRICE_interpolated_inflation_adj_2012-01</th>\n",
       "    </tr>\n",
       "  </thead>\n",
       "  <tbody>\n",
       "    <tr>\n",
       "      <th>0</th>\n",
       "      <td>01001</td>\n",
       "      <td>All Residential</td>\n",
       "      <td>2012-01-01</td>\n",
       "      <td>Autauga County, AL</td>\n",
       "      <td>133250.0</td>\n",
       "      <td>157450.0</td>\n",
       "      <td>227.842</td>\n",
       "      <td>286.0</td>\n",
       "      <td>20.0</td>\n",
       "      <td>False</td>\n",
       "      <td>...</td>\n",
       "      <td>133250.0</td>\n",
       "      <td>False</td>\n",
       "      <td>157450.0</td>\n",
       "      <td>False</td>\n",
       "      <td>133250.000000</td>\n",
       "      <td>133250.000000</td>\n",
       "      <td>133250.000000</td>\n",
       "      <td>157450.000000</td>\n",
       "      <td>157450.000000</td>\n",
       "      <td>157450.000000</td>\n",
       "    </tr>\n",
       "    <tr>\n",
       "      <th>1</th>\n",
       "      <td>01001</td>\n",
       "      <td>All Residential</td>\n",
       "      <td>2012-02-01</td>\n",
       "      <td>Autauga County, AL</td>\n",
       "      <td>162000.0</td>\n",
       "      <td>185000.0</td>\n",
       "      <td>228.329</td>\n",
       "      <td>302.0</td>\n",
       "      <td>32.0</td>\n",
       "      <td>False</td>\n",
       "      <td>...</td>\n",
       "      <td>162000.0</td>\n",
       "      <td>False</td>\n",
       "      <td>185000.0</td>\n",
       "      <td>False</td>\n",
       "      <td>162346.266272</td>\n",
       "      <td>162346.266272</td>\n",
       "      <td>162346.266272</td>\n",
       "      <td>185395.427533</td>\n",
       "      <td>185395.427533</td>\n",
       "      <td>185395.427533</td>\n",
       "    </tr>\n",
       "    <tr>\n",
       "      <th>2</th>\n",
       "      <td>01001</td>\n",
       "      <td>All Residential</td>\n",
       "      <td>2012-03-01</td>\n",
       "      <td>Autauga County, AL</td>\n",
       "      <td>149500.0</td>\n",
       "      <td>189900.0</td>\n",
       "      <td>228.807</td>\n",
       "      <td>319.0</td>\n",
       "      <td>36.0</td>\n",
       "      <td>False</td>\n",
       "      <td>...</td>\n",
       "      <td>149500.0</td>\n",
       "      <td>False</td>\n",
       "      <td>189900.0</td>\n",
       "      <td>False</td>\n",
       "      <td>150133.190983</td>\n",
       "      <td>150133.190983</td>\n",
       "      <td>150133.190983</td>\n",
       "      <td>190704.300787</td>\n",
       "      <td>190704.300787</td>\n",
       "      <td>190704.300787</td>\n",
       "    </tr>\n",
       "  </tbody>\n",
       "</table>\n",
       "<p>3 rows × 24 columns</p>\n",
       "</div>"
      ],
      "text/plain": [
       "  FIPS_CODE    PROPERTY_TYPE PERIOD_BEGIN              REGION  \\\n",
       "0     01001  All Residential   2012-01-01  Autauga County, AL   \n",
       "1     01001  All Residential   2012-02-01  Autauga County, AL   \n",
       "2     01001  All Residential   2012-03-01  Autauga County, AL   \n",
       "\n",
       "   MEDIAN_SALE_PRICE  MEDIAN_LIST_PRICE      CPI  INVENTORY  HOMES_SOLD  \\\n",
       "0           133250.0           157450.0  227.842      286.0        20.0   \n",
       "1           162000.0           185000.0  228.329      302.0        32.0   \n",
       "2           149500.0           189900.0  228.807      319.0        36.0   \n",
       "\n",
       "   MEDIAN_SALE_PRICE_is_outlier  ...  MEDIAN_SALE_PRICE_interpolated  \\\n",
       "0                         False  ...                        133250.0   \n",
       "1                         False  ...                        162000.0   \n",
       "2                         False  ...                        149500.0   \n",
       "\n",
       "   MEDIAN_SALE_PRICE_is_interpolated  MEDIAN_LIST_PRICE_interpolated  \\\n",
       "0                              False                        157450.0   \n",
       "1                              False                        185000.0   \n",
       "2                              False                        189900.0   \n",
       "\n",
       "   MEDIAN_LIST_PRICE_is_interpolated  MEDIAN_SALE_PRICE_inflation_adj_2012-01  \\\n",
       "0                              False                            133250.000000   \n",
       "1                              False                            162346.266272   \n",
       "2                              False                            150133.190983   \n",
       "\n",
       "   MEDIAN_SALE_PRICE_no_outliers_inflation_adj_2012-01  \\\n",
       "0                                      133250.000000     \n",
       "1                                      162346.266272     \n",
       "2                                      150133.190983     \n",
       "\n",
       "   MEDIAN_SALE_PRICE_interpolated_inflation_adj_2012-01  \\\n",
       "0                                      133250.000000      \n",
       "1                                      162346.266272      \n",
       "2                                      150133.190983      \n",
       "\n",
       "   MEDIAN_LIST_PRICE_inflation_adj_2012-01  \\\n",
       "0                            157450.000000   \n",
       "1                            185395.427533   \n",
       "2                            190704.300787   \n",
       "\n",
       "   MEDIAN_LIST_PRICE_no_outliers_inflation_adj_2012-01  \\\n",
       "0                                      157450.000000     \n",
       "1                                      185395.427533     \n",
       "2                                      190704.300787     \n",
       "\n",
       "   MEDIAN_LIST_PRICE_interpolated_inflation_adj_2012-01  \n",
       "0                                      157450.000000     \n",
       "1                                      185395.427533     \n",
       "2                                      190704.300787     \n",
       "\n",
       "[3 rows x 24 columns]"
      ]
     },
     "execution_count": 22,
     "metadata": {},
     "output_type": "execute_result"
    }
   ],
   "source": [
    "# Add inflation adjusted columns, with above helper function.\n",
    "price_cols = [\n",
    "    'MEDIAN_SALE_PRICE', 'MEDIAN_SALE_PRICE_no_outliers',\n",
    "    'MEDIAN_SALE_PRICE_interpolated',\n",
    "    'MEDIAN_LIST_PRICE', 'MEDIAN_LIST_PRICE_no_outliers',\n",
    "    'MEDIAN_LIST_PRICE_interpolated'\n",
    "    ]\n",
    "for price_col in price_cols:\n",
    "  df_housing_market = inflation_adjustment(df_housing_market, price_col)\n",
    "\n",
    "df_housing_market.head(3)"
   ]
  },
  {
   "cell_type": "markdown",
   "metadata": {
    "id": "kbC8gqKQlQw1"
   },
   "source": [
    "# **Reformatting and export to parquet.**\n",
    "Contains:\n",
    "* Rounding columns to 0 decimal places, and convert to int type.\n",
    "* Reordering columns.\n",
    "* Generate DF of only county aggregate values.\n",
    "* Export DF's to two parquet files.\n",
    "---"
   ]
  },
  {
   "cell_type": "markdown",
   "metadata": {
    "id": "ULcucl6q_r4u"
   },
   "source": [
    "**Here we round off decimals for many columns. For inventory and homes sold a partial home did not make sense. For price columns we round off cents for readability of later visualizations. We then reorder columns most to least important for later analysis.**"
   ]
  },
  {
   "cell_type": "code",
   "execution_count": 23,
   "metadata": {
    "colab": {
     "base_uri": "https://localhost:8080/",
     "height": 314
    },
    "executionInfo": {
     "elapsed": 7640,
     "status": "ok",
     "timestamp": 1749599454224,
     "user": {
      "displayName": "Nathan Cantwell",
      "userId": "15236319868573600434"
     },
     "user_tz": 420
    },
    "id": "mCVab0F3ixC2",
    "outputId": "667a94aa-a784-4f59-b161-85251e6f62a9"
   },
   "outputs": [
    {
     "data": {
      "text/html": [
       "<div>\n",
       "<style scoped>\n",
       "    .dataframe tbody tr th:only-of-type {\n",
       "        vertical-align: middle;\n",
       "    }\n",
       "\n",
       "    .dataframe tbody tr th {\n",
       "        vertical-align: top;\n",
       "    }\n",
       "\n",
       "    .dataframe thead th {\n",
       "        text-align: right;\n",
       "    }\n",
       "</style>\n",
       "<table border=\"1\" class=\"dataframe\">\n",
       "  <thead>\n",
       "    <tr style=\"text-align: right;\">\n",
       "      <th></th>\n",
       "      <th>FIPS_CODE</th>\n",
       "      <th>REGION</th>\n",
       "      <th>PROPERTY_TYPE</th>\n",
       "      <th>PERIOD_BEGIN</th>\n",
       "      <th>INVENTORY</th>\n",
       "      <th>HOMES_SOLD</th>\n",
       "      <th>MEDIAN_SALE_PRICE_interpolated</th>\n",
       "      <th>MEDIAN_SALE_PRICE_interpolated_inflation_adj_2012-01</th>\n",
       "      <th>MEDIAN_LIST_PRICE_interpolated</th>\n",
       "      <th>MEDIAN_LIST_PRICE_interpolated_inflation_adj_2012-01</th>\n",
       "      <th>...</th>\n",
       "      <th>MEDIAN_SALE_PRICE_no_outliers</th>\n",
       "      <th>MEDIAN_SALE_PRICE_no_outliers_inflation_adj_2012-01</th>\n",
       "      <th>MEDIAN_LIST_PRICE_no_outliers</th>\n",
       "      <th>MEDIAN_LIST_PRICE_no_outliers_inflation_adj_2012-01</th>\n",
       "      <th>CPI</th>\n",
       "      <th>original_record</th>\n",
       "      <th>MEDIAN_SALE_PRICE_is_interpolated</th>\n",
       "      <th>MEDIAN_LIST_PRICE_is_interpolated</th>\n",
       "      <th>MEDIAN_SALE_PRICE_is_outlier</th>\n",
       "      <th>MEDIAN_LIST_PRICE_is_outlier</th>\n",
       "    </tr>\n",
       "  </thead>\n",
       "  <tbody>\n",
       "    <tr>\n",
       "      <th>0</th>\n",
       "      <td>01001</td>\n",
       "      <td>Autauga County, AL</td>\n",
       "      <td>All Residential</td>\n",
       "      <td>2012-01-01</td>\n",
       "      <td>286</td>\n",
       "      <td>20</td>\n",
       "      <td>133250</td>\n",
       "      <td>133250</td>\n",
       "      <td>157450</td>\n",
       "      <td>157450</td>\n",
       "      <td>...</td>\n",
       "      <td>133250</td>\n",
       "      <td>133250</td>\n",
       "      <td>157450</td>\n",
       "      <td>157450</td>\n",
       "      <td>227.842</td>\n",
       "      <td>True</td>\n",
       "      <td>False</td>\n",
       "      <td>False</td>\n",
       "      <td>False</td>\n",
       "      <td>False</td>\n",
       "    </tr>\n",
       "    <tr>\n",
       "      <th>1</th>\n",
       "      <td>01001</td>\n",
       "      <td>Autauga County, AL</td>\n",
       "      <td>All Residential</td>\n",
       "      <td>2012-02-01</td>\n",
       "      <td>302</td>\n",
       "      <td>32</td>\n",
       "      <td>162000</td>\n",
       "      <td>162346</td>\n",
       "      <td>185000</td>\n",
       "      <td>185395</td>\n",
       "      <td>...</td>\n",
       "      <td>162000</td>\n",
       "      <td>162346</td>\n",
       "      <td>185000</td>\n",
       "      <td>185395</td>\n",
       "      <td>228.329</td>\n",
       "      <td>True</td>\n",
       "      <td>False</td>\n",
       "      <td>False</td>\n",
       "      <td>False</td>\n",
       "      <td>False</td>\n",
       "    </tr>\n",
       "    <tr>\n",
       "      <th>2</th>\n",
       "      <td>01001</td>\n",
       "      <td>Autauga County, AL</td>\n",
       "      <td>All Residential</td>\n",
       "      <td>2012-03-01</td>\n",
       "      <td>319</td>\n",
       "      <td>36</td>\n",
       "      <td>149500</td>\n",
       "      <td>150133</td>\n",
       "      <td>189900</td>\n",
       "      <td>190704</td>\n",
       "      <td>...</td>\n",
       "      <td>149500</td>\n",
       "      <td>150133</td>\n",
       "      <td>189900</td>\n",
       "      <td>190704</td>\n",
       "      <td>228.807</td>\n",
       "      <td>True</td>\n",
       "      <td>False</td>\n",
       "      <td>False</td>\n",
       "      <td>False</td>\n",
       "      <td>False</td>\n",
       "    </tr>\n",
       "  </tbody>\n",
       "</table>\n",
       "<p>3 rows × 24 columns</p>\n",
       "</div>"
      ],
      "text/plain": [
       "  FIPS_CODE              REGION    PROPERTY_TYPE PERIOD_BEGIN  INVENTORY  \\\n",
       "0     01001  Autauga County, AL  All Residential   2012-01-01        286   \n",
       "1     01001  Autauga County, AL  All Residential   2012-02-01        302   \n",
       "2     01001  Autauga County, AL  All Residential   2012-03-01        319   \n",
       "\n",
       "   HOMES_SOLD  MEDIAN_SALE_PRICE_interpolated  \\\n",
       "0          20                          133250   \n",
       "1          32                          162000   \n",
       "2          36                          149500   \n",
       "\n",
       "   MEDIAN_SALE_PRICE_interpolated_inflation_adj_2012-01  \\\n",
       "0                                             133250      \n",
       "1                                             162346      \n",
       "2                                             150133      \n",
       "\n",
       "   MEDIAN_LIST_PRICE_interpolated  \\\n",
       "0                          157450   \n",
       "1                          185000   \n",
       "2                          189900   \n",
       "\n",
       "   MEDIAN_LIST_PRICE_interpolated_inflation_adj_2012-01  ...  \\\n",
       "0                                             157450     ...   \n",
       "1                                             185395     ...   \n",
       "2                                             190704     ...   \n",
       "\n",
       "   MEDIAN_SALE_PRICE_no_outliers  \\\n",
       "0                         133250   \n",
       "1                         162000   \n",
       "2                         149500   \n",
       "\n",
       "   MEDIAN_SALE_PRICE_no_outliers_inflation_adj_2012-01  \\\n",
       "0                                             133250     \n",
       "1                                             162346     \n",
       "2                                             150133     \n",
       "\n",
       "   MEDIAN_LIST_PRICE_no_outliers  \\\n",
       "0                         157450   \n",
       "1                         185000   \n",
       "2                         189900   \n",
       "\n",
       "   MEDIAN_LIST_PRICE_no_outliers_inflation_adj_2012-01      CPI  \\\n",
       "0                                             157450    227.842   \n",
       "1                                             185395    228.329   \n",
       "2                                             190704    228.807   \n",
       "\n",
       "   original_record  MEDIAN_SALE_PRICE_is_interpolated  \\\n",
       "0             True                              False   \n",
       "1             True                              False   \n",
       "2             True                              False   \n",
       "\n",
       "   MEDIAN_LIST_PRICE_is_interpolated  MEDIAN_SALE_PRICE_is_outlier  \\\n",
       "0                              False                         False   \n",
       "1                              False                         False   \n",
       "2                              False                         False   \n",
       "\n",
       "   MEDIAN_LIST_PRICE_is_outlier  \n",
       "0                         False  \n",
       "1                         False  \n",
       "2                         False  \n",
       "\n",
       "[3 rows x 24 columns]"
      ]
     },
     "execution_count": 23,
     "metadata": {},
     "output_type": "execute_result"
    }
   ],
   "source": [
    "# Round quantitative columns to 0 decimal places\n",
    "# (no partial homes sold, whole $ values)\n",
    "rounded_cols = [\n",
    "    'INVENTORY', 'HOMES_SOLD',\n",
    "    'MEDIAN_SALE_PRICE', 'MEDIAN_LIST_PRICE',\n",
    "    'MEDIAN_SALE_PRICE_no_outliers', 'MEDIAN_LIST_PRICE_no_outliers',\n",
    "    'MEDIAN_SALE_PRICE_interpolated', 'MEDIAN_LIST_PRICE_interpolated',\n",
    "    'MEDIAN_SALE_PRICE_inflation_adj_2012-01',\n",
    "    'MEDIAN_SALE_PRICE_no_outliers_inflation_adj_2012-01',\n",
    "    'MEDIAN_SALE_PRICE_interpolated_inflation_adj_2012-01',\n",
    "    'MEDIAN_LIST_PRICE_inflation_adj_2012-01',\n",
    "    'MEDIAN_LIST_PRICE_no_outliers_inflation_adj_2012-01',\n",
    "    'MEDIAN_LIST_PRICE_interpolated_inflation_adj_2012-01'\n",
    "]\n",
    "\n",
    "df_housing_market[rounded_cols] = df_housing_market[rounded_cols].apply(\n",
    "    lambda x: round(x)\n",
    "    ).astype('Int64')\n",
    "\n",
    "# Format columns into a logical order.\n",
    "df_housing_market = df_housing_market[[\n",
    "    'FIPS_CODE', 'REGION',\n",
    "    'PROPERTY_TYPE', 'PERIOD_BEGIN',\n",
    "    'INVENTORY', 'HOMES_SOLD',\n",
    "    'MEDIAN_SALE_PRICE_interpolated',\n",
    "    'MEDIAN_SALE_PRICE_interpolated_inflation_adj_2012-01',\n",
    "    'MEDIAN_LIST_PRICE_interpolated',\n",
    "    'MEDIAN_LIST_PRICE_interpolated_inflation_adj_2012-01',\n",
    "    'MEDIAN_SALE_PRICE',\n",
    "    'MEDIAN_SALE_PRICE_inflation_adj_2012-01',\n",
    "    'MEDIAN_LIST_PRICE',\n",
    "    'MEDIAN_LIST_PRICE_inflation_adj_2012-01',\n",
    "    'MEDIAN_SALE_PRICE_no_outliers',\n",
    "    'MEDIAN_SALE_PRICE_no_outliers_inflation_adj_2012-01',\n",
    "    'MEDIAN_LIST_PRICE_no_outliers',\n",
    "    'MEDIAN_LIST_PRICE_no_outliers_inflation_adj_2012-01',\n",
    "    'CPI',\n",
    "    'original_record',\n",
    "    'MEDIAN_SALE_PRICE_is_interpolated',\n",
    "    'MEDIAN_LIST_PRICE_is_interpolated',\n",
    "    'MEDIAN_SALE_PRICE_is_outlier',\n",
    "    'MEDIAN_LIST_PRICE_is_outlier',\n",
    "    ]]\n",
    "df_housing_market.head(3)"
   ]
  },
  {
   "cell_type": "markdown",
   "metadata": {
    "id": "_bmI6fcvwc_Z"
   },
   "source": [
    "**For affordability analysis we will look at an aggregated dataset at the county level. This is represented as the columns where property type is 'All Residential'. We separate this to its own df and csv file.**"
   ]
  },
  {
   "cell_type": "code",
   "execution_count": 24,
   "metadata": {
    "colab": {
     "base_uri": "https://localhost:8080/"
    },
    "executionInfo": {
     "elapsed": 494,
     "status": "ok",
     "timestamp": 1749599454722,
     "user": {
      "displayName": "Nathan Cantwell",
      "userId": "15236319868573600434"
     },
     "user_tz": 420
    },
    "id": "AZHBpnNN7StA",
    "outputId": "df35c1e8-7266-488e-94bd-c8d4dca2d05c"
   },
   "outputs": [
    {
     "name": "stdout",
     "output_type": "stream",
     "text": [
      "(493280, 24)\n",
      "MEDIAN_LIST_PRICE_no_outliers                           86392\n",
      "MEDIAN_LIST_PRICE_no_outliers_inflation_adj_2012-01     86392\n",
      "MEDIAN_LIST_PRICE                                       85615\n",
      "MEDIAN_LIST_PRICE_inflation_adj_2012-01                 85615\n",
      "MEDIAN_SALE_PRICE_no_outliers                           73170\n",
      "MEDIAN_SALE_PRICE_no_outliers_inflation_adj_2012-01     73170\n",
      "MEDIAN_SALE_PRICE                                       71056\n",
      "MEDIAN_SALE_PRICE_inflation_adj_2012-01                 71056\n",
      "INVENTORY                                                6080\n",
      "MEDIAN_LIST_PRICE_interpolated                           4320\n",
      "MEDIAN_LIST_PRICE_interpolated_inflation_adj_2012-01     4320\n",
      "MEDIAN_SALE_PRICE_is_outlier                                0\n",
      "dtype: int64\n"
     ]
    }
   ],
   "source": [
    "# Still missing are 39 counties that do not report inventory (159 NaN's each),\n",
    "# and 28 counties that do not report list price (159 NaN's each).\n",
    "df_all_residential = df_housing_market[df_housing_market['PROPERTY_TYPE']=='All Residential']\n",
    "df_all_residential = df_all_residential.reset_index().drop(columns='index')\n",
    "print(df_all_residential.shape)\n",
    "print(df_all_residential.isna().sum().sort_values(ascending=False).head(12))"
   ]
  },
  {
   "cell_type": "markdown",
   "metadata": {
    "id": "XVtBe6oVAcAH"
   },
   "source": [
    "**Finally, write to parquet. Full files are over 10MB, here we create a sample of 10,000 records each. The full files were used in creating the spaghetti plots. If desired, comment out the lines for sampling to recreate the plot seen in the report.**\n",
    "\n",
    "**(Parquet writing is commented out as the parquets are already created.)**"
   ]
  },
  {
   "cell_type": "code",
   "execution_count": 25,
   "metadata": {
    "executionInfo": {
     "elapsed": 384,
     "status": "ok",
     "timestamp": 1749599455109,
     "user": {
      "displayName": "Nathan Cantwell",
      "userId": "15236319868573600434"
     },
     "user_tz": 420
    },
    "id": "0hn_2Y3YAbXt"
   },
   "outputs": [
    {
     "data": {
      "text/plain": [
       "\"\\ndf_housing_market.to_parquet(\\n    '/content/drive/MyDrive/SIADS 593 Milestone I/data/final/home_price_all_types.parquet.gzip',\\n    compression='gzip'\\n    )\\n\\ndf_all_residential.to_parquet(\\n    '/content/drive/MyDrive/SIADS 593 Milestone I/data/final/home_price_agg_by_county.parquet.gzip',\\n    compression='gzip'\\n    )\\n\""
      ]
     },
     "execution_count": 25,
     "metadata": {},
     "output_type": "execute_result"
    }
   ],
   "source": [
    "# Create sample parquet files, 10,000 records each.\n",
    "df_housing_market = df_housing_market.sample(n=10000, random_state=42)\n",
    "df_all_residential = df_all_residential.sample(n=10000, random_state=42)\n",
    "\n",
    "'''\n",
    "df_housing_market.to_parquet(\n",
    "    '/content/drive/MyDrive/SIADS 593 Milestone I/data/final/home_price_all_types.parquet.gzip',\n",
    "    compression='gzip'\n",
    "    )\n",
    "\n",
    "df_all_residential.to_parquet(\n",
    "    '/content/drive/MyDrive/SIADS 593 Milestone I/data/final/home_price_agg_by_county.parquet.gzip',\n",
    "    compression='gzip'\n",
    "    )\n",
    "'''"
   ]
  }
 ],
 "metadata": {
  "colab": {
   "collapsed_sections": [
    "CGHK1TEOLyJ_",
    "mDF5rPJrMJZD",
    "DkshRqefOJ84"
   ],
   "provenance": []
  },
  "kernelspec": {
   "display_name": "Python 3",
   "name": "python3"
  },
  "language_info": {
   "codemirror_mode": {
    "name": "ipython",
    "version": 3
   },
   "file_extension": ".py",
   "mimetype": "text/x-python",
   "name": "python",
   "nbconvert_exporter": "python",
   "pygments_lexer": "ipython3",
   "version": "3.10.2"
  }
 },
 "nbformat": 4,
 "nbformat_minor": 0
}
